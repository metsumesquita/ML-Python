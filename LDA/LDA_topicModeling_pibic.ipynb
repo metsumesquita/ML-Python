{
  "cells": [
    {
      "cell_type": "markdown",
      "metadata": {
        "id": "view-in-github",
        "colab_type": "text"
      },
      "source": [
        "<a href=\"https://colab.research.google.com/github/metsumesquita/ML-Python/blob/main/LDA_topicModeling_pibic.ipynb\" target=\"_parent\"><img src=\"https://colab.research.google.com/assets/colab-badge.svg\" alt=\"Open In Colab\"/></a>"
      ]
    },
    {
      "cell_type": "markdown",
      "metadata": {
        "id": "7lYCGsMkynYI"
      },
      "source": [
        "#instalação"
      ]
    },
    {
      "cell_type": "code",
      "execution_count": null,
      "metadata": {
        "id": "nQekgmKkwbNJ"
      },
      "outputs": [],
      "source": [
        "#conteudo que foi utilizado para fazer essa atividade\n",
        "\n",
        "#https://towardsdatascience.com/end-to-end-topic-modeling-in-python-latent-dirichlet-allocation-lda-35ce4ed6b3e0\n",
        "#https://towardsdatascience.com/evaluate-topic-model-in-python-latent-dirichlet-allocation-lda-7d57484bb5d0"
      ]
    },
    {
      "cell_type": "code",
      "execution_count": null,
      "metadata": {
        "colab": {
          "base_uri": "https://localhost:8080/"
        },
        "id": "7dWVT4O7bXGL",
        "outputId": "ee1fbf36-73f1-4b2e-ca06-c1b8faa4ee65"
      },
      "outputs": [
        {
          "output_type": "stream",
          "name": "stdout",
          "text": [
            "Requirement already satisfied: gensim in /usr/local/lib/python3.10/dist-packages (4.3.2)\n",
            "Requirement already satisfied: numpy>=1.18.5 in /usr/local/lib/python3.10/dist-packages (from gensim) (1.26.1)\n",
            "Requirement already satisfied: scipy>=1.7.0 in /usr/local/lib/python3.10/dist-packages (from gensim) (1.11.3)\n",
            "Requirement already satisfied: smart-open>=1.8.1 in /usr/local/lib/python3.10/dist-packages (from gensim) (6.4.0)\n"
          ]
        }
      ],
      "source": [
        "!pip install gensim"
      ]
    },
    {
      "cell_type": "code",
      "execution_count": null,
      "metadata": {
        "colab": {
          "base_uri": "https://localhost:8080/"
        },
        "id": "SsEBqCpF6JgS",
        "outputId": "03d117e0-99e1-4f2f-e28e-580217ead21b"
      },
      "outputs": [
        {
          "output_type": "stream",
          "name": "stdout",
          "text": [
            "Requirement already satisfied: spacy in /usr/local/lib/python3.10/dist-packages (3.7.2)\n",
            "Requirement already satisfied: spacy-legacy<3.1.0,>=3.0.11 in /usr/local/lib/python3.10/dist-packages (from spacy) (3.0.12)\n",
            "Requirement already satisfied: spacy-loggers<2.0.0,>=1.0.0 in /usr/local/lib/python3.10/dist-packages (from spacy) (1.0.5)\n",
            "Requirement already satisfied: murmurhash<1.1.0,>=0.28.0 in /usr/local/lib/python3.10/dist-packages (from spacy) (1.0.10)\n",
            "Requirement already satisfied: cymem<2.1.0,>=2.0.2 in /usr/local/lib/python3.10/dist-packages (from spacy) (2.0.8)\n",
            "Requirement already satisfied: preshed<3.1.0,>=3.0.2 in /usr/local/lib/python3.10/dist-packages (from spacy) (3.0.9)\n",
            "Requirement already satisfied: thinc<8.3.0,>=8.1.8 in /usr/local/lib/python3.10/dist-packages (from spacy) (8.1.12)\n",
            "Requirement already satisfied: wasabi<1.2.0,>=0.9.1 in /usr/local/lib/python3.10/dist-packages (from spacy) (1.1.2)\n",
            "Requirement already satisfied: srsly<3.0.0,>=2.4.3 in /usr/local/lib/python3.10/dist-packages (from spacy) (2.4.8)\n",
            "Requirement already satisfied: catalogue<2.1.0,>=2.0.6 in /usr/local/lib/python3.10/dist-packages (from spacy) (2.0.10)\n",
            "Requirement already satisfied: weasel<0.4.0,>=0.1.0 in /usr/local/lib/python3.10/dist-packages (from spacy) (0.3.3)\n",
            "Requirement already satisfied: typer<0.10.0,>=0.3.0 in /usr/local/lib/python3.10/dist-packages (from spacy) (0.9.0)\n",
            "Requirement already satisfied: smart-open<7.0.0,>=5.2.1 in /usr/local/lib/python3.10/dist-packages (from spacy) (6.4.0)\n",
            "Requirement already satisfied: tqdm<5.0.0,>=4.38.0 in /usr/local/lib/python3.10/dist-packages (from spacy) (4.66.1)\n",
            "Requirement already satisfied: requests<3.0.0,>=2.13.0 in /usr/local/lib/python3.10/dist-packages (from spacy) (2.31.0)\n",
            "Requirement already satisfied: pydantic!=1.8,!=1.8.1,<3.0.0,>=1.7.4 in /usr/local/lib/python3.10/dist-packages (from spacy) (1.10.13)\n",
            "Requirement already satisfied: jinja2 in /usr/local/lib/python3.10/dist-packages (from spacy) (3.1.2)\n",
            "Requirement already satisfied: setuptools in /usr/local/lib/python3.10/dist-packages (from spacy) (67.7.2)\n",
            "Requirement already satisfied: packaging>=20.0 in /usr/local/lib/python3.10/dist-packages (from spacy) (23.2)\n",
            "Requirement already satisfied: langcodes<4.0.0,>=3.2.0 in /usr/local/lib/python3.10/dist-packages (from spacy) (3.3.0)\n",
            "Requirement already satisfied: numpy>=1.19.0 in /usr/local/lib/python3.10/dist-packages (from spacy) (1.26.1)\n",
            "Requirement already satisfied: typing-extensions>=4.2.0 in /usr/local/lib/python3.10/dist-packages (from pydantic!=1.8,!=1.8.1,<3.0.0,>=1.7.4->spacy) (4.8.0)\n",
            "Requirement already satisfied: charset-normalizer<4,>=2 in /usr/local/lib/python3.10/dist-packages (from requests<3.0.0,>=2.13.0->spacy) (3.3.1)\n",
            "Requirement already satisfied: idna<4,>=2.5 in /usr/local/lib/python3.10/dist-packages (from requests<3.0.0,>=2.13.0->spacy) (3.4)\n",
            "Requirement already satisfied: urllib3<3,>=1.21.1 in /usr/local/lib/python3.10/dist-packages (from requests<3.0.0,>=2.13.0->spacy) (2.0.7)\n",
            "Requirement already satisfied: certifi>=2017.4.17 in /usr/local/lib/python3.10/dist-packages (from requests<3.0.0,>=2.13.0->spacy) (2023.7.22)\n",
            "Requirement already satisfied: blis<0.8.0,>=0.7.8 in /usr/local/lib/python3.10/dist-packages (from thinc<8.3.0,>=8.1.8->spacy) (0.7.11)\n",
            "Requirement already satisfied: confection<1.0.0,>=0.0.1 in /usr/local/lib/python3.10/dist-packages (from thinc<8.3.0,>=8.1.8->spacy) (0.1.3)\n",
            "Requirement already satisfied: click<9.0.0,>=7.1.1 in /usr/local/lib/python3.10/dist-packages (from typer<0.10.0,>=0.3.0->spacy) (8.1.7)\n",
            "Requirement already satisfied: cloudpathlib<0.17.0,>=0.7.0 in /usr/local/lib/python3.10/dist-packages (from weasel<0.4.0,>=0.1.0->spacy) (0.16.0)\n",
            "Requirement already satisfied: MarkupSafe>=2.0 in /usr/local/lib/python3.10/dist-packages (from jinja2->spacy) (2.1.3)\n"
          ]
        }
      ],
      "source": [
        "!pip install spacy"
      ]
    },
    {
      "cell_type": "code",
      "source": [
        "!pip install --upgrade spacy"
      ],
      "metadata": {
        "colab": {
          "base_uri": "https://localhost:8080/"
        },
        "id": "f39YFJHV61Ed",
        "outputId": "35d2cdd6-1e93-430b-b570-9222ddaf1a8f"
      },
      "execution_count": null,
      "outputs": [
        {
          "output_type": "stream",
          "name": "stdout",
          "text": [
            "Requirement already satisfied: spacy in /usr/local/lib/python3.10/dist-packages (3.7.2)\n",
            "Requirement already satisfied: spacy-legacy<3.1.0,>=3.0.11 in /usr/local/lib/python3.10/dist-packages (from spacy) (3.0.12)\n",
            "Requirement already satisfied: spacy-loggers<2.0.0,>=1.0.0 in /usr/local/lib/python3.10/dist-packages (from spacy) (1.0.5)\n",
            "Requirement already satisfied: murmurhash<1.1.0,>=0.28.0 in /usr/local/lib/python3.10/dist-packages (from spacy) (1.0.10)\n",
            "Requirement already satisfied: cymem<2.1.0,>=2.0.2 in /usr/local/lib/python3.10/dist-packages (from spacy) (2.0.8)\n",
            "Requirement already satisfied: preshed<3.1.0,>=3.0.2 in /usr/local/lib/python3.10/dist-packages (from spacy) (3.0.9)\n",
            "Requirement already satisfied: thinc<8.3.0,>=8.1.8 in /usr/local/lib/python3.10/dist-packages (from spacy) (8.1.12)\n",
            "Requirement already satisfied: wasabi<1.2.0,>=0.9.1 in /usr/local/lib/python3.10/dist-packages (from spacy) (1.1.2)\n",
            "Requirement already satisfied: srsly<3.0.0,>=2.4.3 in /usr/local/lib/python3.10/dist-packages (from spacy) (2.4.8)\n",
            "Requirement already satisfied: catalogue<2.1.0,>=2.0.6 in /usr/local/lib/python3.10/dist-packages (from spacy) (2.0.10)\n",
            "Requirement already satisfied: weasel<0.4.0,>=0.1.0 in /usr/local/lib/python3.10/dist-packages (from spacy) (0.3.3)\n",
            "Requirement already satisfied: typer<0.10.0,>=0.3.0 in /usr/local/lib/python3.10/dist-packages (from spacy) (0.9.0)\n",
            "Requirement already satisfied: smart-open<7.0.0,>=5.2.1 in /usr/local/lib/python3.10/dist-packages (from spacy) (6.4.0)\n",
            "Requirement already satisfied: tqdm<5.0.0,>=4.38.0 in /usr/local/lib/python3.10/dist-packages (from spacy) (4.66.1)\n",
            "Requirement already satisfied: requests<3.0.0,>=2.13.0 in /usr/local/lib/python3.10/dist-packages (from spacy) (2.31.0)\n",
            "Requirement already satisfied: pydantic!=1.8,!=1.8.1,<3.0.0,>=1.7.4 in /usr/local/lib/python3.10/dist-packages (from spacy) (1.10.13)\n",
            "Requirement already satisfied: jinja2 in /usr/local/lib/python3.10/dist-packages (from spacy) (3.1.2)\n",
            "Requirement already satisfied: setuptools in /usr/local/lib/python3.10/dist-packages (from spacy) (67.7.2)\n",
            "Requirement already satisfied: packaging>=20.0 in /usr/local/lib/python3.10/dist-packages (from spacy) (23.2)\n",
            "Requirement already satisfied: langcodes<4.0.0,>=3.2.0 in /usr/local/lib/python3.10/dist-packages (from spacy) (3.3.0)\n",
            "Requirement already satisfied: numpy>=1.19.0 in /usr/local/lib/python3.10/dist-packages (from spacy) (1.26.1)\n",
            "Requirement already satisfied: typing-extensions>=4.2.0 in /usr/local/lib/python3.10/dist-packages (from pydantic!=1.8,!=1.8.1,<3.0.0,>=1.7.4->spacy) (4.8.0)\n",
            "Requirement already satisfied: charset-normalizer<4,>=2 in /usr/local/lib/python3.10/dist-packages (from requests<3.0.0,>=2.13.0->spacy) (3.3.1)\n",
            "Requirement already satisfied: idna<4,>=2.5 in /usr/local/lib/python3.10/dist-packages (from requests<3.0.0,>=2.13.0->spacy) (3.4)\n",
            "Requirement already satisfied: urllib3<3,>=1.21.1 in /usr/local/lib/python3.10/dist-packages (from requests<3.0.0,>=2.13.0->spacy) (2.0.7)\n",
            "Requirement already satisfied: certifi>=2017.4.17 in /usr/local/lib/python3.10/dist-packages (from requests<3.0.0,>=2.13.0->spacy) (2023.7.22)\n",
            "Requirement already satisfied: blis<0.8.0,>=0.7.8 in /usr/local/lib/python3.10/dist-packages (from thinc<8.3.0,>=8.1.8->spacy) (0.7.11)\n",
            "Requirement already satisfied: confection<1.0.0,>=0.0.1 in /usr/local/lib/python3.10/dist-packages (from thinc<8.3.0,>=8.1.8->spacy) (0.1.3)\n",
            "Requirement already satisfied: click<9.0.0,>=7.1.1 in /usr/local/lib/python3.10/dist-packages (from typer<0.10.0,>=0.3.0->spacy) (8.1.7)\n",
            "Requirement already satisfied: cloudpathlib<0.17.0,>=0.7.0 in /usr/local/lib/python3.10/dist-packages (from weasel<0.4.0,>=0.1.0->spacy) (0.16.0)\n",
            "Requirement already satisfied: MarkupSafe>=2.0 in /usr/local/lib/python3.10/dist-packages (from jinja2->spacy) (2.1.3)\n"
          ]
        }
      ]
    },
    {
      "cell_type": "code",
      "source": [
        "!pip install --upgrade ipython"
      ],
      "metadata": {
        "colab": {
          "base_uri": "https://localhost:8080/"
        },
        "id": "SoPjINiD6twH",
        "outputId": "6939ee9e-cb22-496a-da06-0b3b0c881f4a"
      },
      "execution_count": null,
      "outputs": [
        {
          "output_type": "stream",
          "name": "stdout",
          "text": [
            "Requirement already satisfied: ipython in /usr/local/lib/python3.10/dist-packages (8.16.1)\n",
            "Requirement already satisfied: backcall in /usr/local/lib/python3.10/dist-packages (from ipython) (0.2.0)\n",
            "Requirement already satisfied: decorator in /usr/local/lib/python3.10/dist-packages (from ipython) (4.4.2)\n",
            "Requirement already satisfied: jedi>=0.16 in /usr/local/lib/python3.10/dist-packages (from ipython) (0.19.1)\n",
            "Requirement already satisfied: matplotlib-inline in /usr/local/lib/python3.10/dist-packages (from ipython) (0.1.6)\n",
            "Requirement already satisfied: pickleshare in /usr/local/lib/python3.10/dist-packages (from ipython) (0.7.5)\n",
            "Requirement already satisfied: prompt-toolkit!=3.0.37,<3.1.0,>=3.0.30 in /usr/local/lib/python3.10/dist-packages (from ipython) (3.0.39)\n",
            "Requirement already satisfied: pygments>=2.4.0 in /usr/local/lib/python3.10/dist-packages (from ipython) (2.16.1)\n",
            "Requirement already satisfied: stack-data in /usr/local/lib/python3.10/dist-packages (from ipython) (0.6.3)\n",
            "Requirement already satisfied: traitlets>=5 in /usr/local/lib/python3.10/dist-packages (from ipython) (5.7.1)\n",
            "Requirement already satisfied: exceptiongroup in /usr/local/lib/python3.10/dist-packages (from ipython) (1.1.3)\n",
            "Requirement already satisfied: pexpect>4.3 in /usr/local/lib/python3.10/dist-packages (from ipython) (4.8.0)\n",
            "Requirement already satisfied: parso<0.9.0,>=0.8.3 in /usr/local/lib/python3.10/dist-packages (from jedi>=0.16->ipython) (0.8.3)\n",
            "Requirement already satisfied: ptyprocess>=0.5 in /usr/local/lib/python3.10/dist-packages (from pexpect>4.3->ipython) (0.7.0)\n",
            "Requirement already satisfied: wcwidth in /usr/local/lib/python3.10/dist-packages (from prompt-toolkit!=3.0.37,<3.1.0,>=3.0.30->ipython) (0.2.8)\n",
            "Requirement already satisfied: executing>=1.2.0 in /usr/local/lib/python3.10/dist-packages (from stack-data->ipython) (2.0.0)\n",
            "Requirement already satisfied: asttokens>=2.1.0 in /usr/local/lib/python3.10/dist-packages (from stack-data->ipython) (2.4.1)\n",
            "Requirement already satisfied: pure-eval in /usr/local/lib/python3.10/dist-packages (from stack-data->ipython) (0.2.2)\n",
            "Requirement already satisfied: six>=1.12.0 in /usr/local/lib/python3.10/dist-packages (from asttokens>=2.1.0->stack-data->ipython) (1.16.0)\n"
          ]
        }
      ]
    },
    {
      "cell_type": "code",
      "source": [
        "!pip install --upgrade  nltk"
      ],
      "metadata": {
        "colab": {
          "base_uri": "https://localhost:8080/"
        },
        "id": "s4TEL3Oe69c9",
        "outputId": "91caa869-cc8b-4927-edb7-ef0cd898b06c"
      },
      "execution_count": null,
      "outputs": [
        {
          "output_type": "stream",
          "name": "stdout",
          "text": [
            "Requirement already satisfied: nltk in /usr/local/lib/python3.10/dist-packages (3.8.1)\n",
            "Requirement already satisfied: click in /usr/local/lib/python3.10/dist-packages (from nltk) (8.1.7)\n",
            "Requirement already satisfied: joblib in /usr/local/lib/python3.10/dist-packages (from nltk) (1.3.2)\n",
            "Requirement already satisfied: regex>=2021.8.3 in /usr/local/lib/python3.10/dist-packages (from nltk) (2023.6.3)\n",
            "Requirement already satisfied: tqdm in /usr/local/lib/python3.10/dist-packages (from nltk) (4.66.1)\n"
          ]
        }
      ]
    },
    {
      "cell_type": "code",
      "execution_count": null,
      "metadata": {
        "colab": {
          "base_uri": "https://localhost:8080/"
        },
        "id": "gWUULBx-fHcr",
        "outputId": "c77bcf6b-ea0e-4d9f-bc47-d5359fcdb72c"
      },
      "outputs": [
        {
          "output_type": "stream",
          "name": "stdout",
          "text": [
            "Requirement already satisfied: pyldavis in /usr/local/lib/python3.10/dist-packages (3.4.1)\n",
            "Requirement already satisfied: gensim in /usr/local/lib/python3.10/dist-packages (4.3.2)\n",
            "Requirement already satisfied: numpy>=1.24.2 in /usr/local/lib/python3.10/dist-packages (from pyldavis) (1.26.1)\n",
            "Requirement already satisfied: scipy in /usr/local/lib/python3.10/dist-packages (from pyldavis) (1.11.3)\n",
            "Requirement already satisfied: pandas>=2.0.0 in /usr/local/lib/python3.10/dist-packages (from pyldavis) (2.1.1)\n",
            "Requirement already satisfied: joblib>=1.2.0 in /usr/local/lib/python3.10/dist-packages (from pyldavis) (1.3.2)\n",
            "Requirement already satisfied: jinja2 in /usr/local/lib/python3.10/dist-packages (from pyldavis) (3.1.2)\n",
            "Requirement already satisfied: numexpr in /usr/local/lib/python3.10/dist-packages (from pyldavis) (2.8.7)\n",
            "Requirement already satisfied: funcy in /usr/local/lib/python3.10/dist-packages (from pyldavis) (2.0)\n",
            "Requirement already satisfied: scikit-learn>=1.0.0 in /usr/local/lib/python3.10/dist-packages (from pyldavis) (1.2.2)\n",
            "Requirement already satisfied: setuptools in /usr/local/lib/python3.10/dist-packages (from pyldavis) (67.7.2)\n",
            "Requirement already satisfied: smart-open>=1.8.1 in /usr/local/lib/python3.10/dist-packages (from gensim) (6.4.0)\n",
            "Requirement already satisfied: python-dateutil>=2.8.2 in /usr/local/lib/python3.10/dist-packages (from pandas>=2.0.0->pyldavis) (2.8.2)\n",
            "Requirement already satisfied: pytz>=2020.1 in /usr/local/lib/python3.10/dist-packages (from pandas>=2.0.0->pyldavis) (2023.3.post1)\n",
            "Requirement already satisfied: tzdata>=2022.1 in /usr/local/lib/python3.10/dist-packages (from pandas>=2.0.0->pyldavis) (2023.3)\n",
            "Requirement already satisfied: threadpoolctl>=2.0.0 in /usr/local/lib/python3.10/dist-packages (from scikit-learn>=1.0.0->pyldavis) (3.2.0)\n",
            "Requirement already satisfied: MarkupSafe>=2.0 in /usr/local/lib/python3.10/dist-packages (from jinja2->pyldavis) (2.1.3)\n",
            "Requirement already satisfied: six>=1.5 in /usr/local/lib/python3.10/dist-packages (from python-dateutil>=2.8.2->pandas>=2.0.0->pyldavis) (1.16.0)\n"
          ]
        }
      ],
      "source": [
        "!pip install pyldavis gensim"
      ]
    },
    {
      "cell_type": "code",
      "execution_count": null,
      "metadata": {
        "colab": {
          "base_uri": "https://localhost:8080/"
        },
        "id": "Jb3Ag3sNcY_k",
        "outputId": "49c9170c-9f6e-4ef9-9e0a-8c4690c8fa0b"
      },
      "outputs": [
        {
          "output_type": "stream",
          "name": "stdout",
          "text": [
            "Requirement already satisfied: pyLDAvis in /usr/local/lib/python3.10/dist-packages (3.4.1)\n",
            "Requirement already satisfied: numpy>=1.24.2 in /usr/local/lib/python3.10/dist-packages (from pyLDAvis) (1.26.1)\n",
            "Requirement already satisfied: scipy in /usr/local/lib/python3.10/dist-packages (from pyLDAvis) (1.11.3)\n",
            "Requirement already satisfied: pandas>=2.0.0 in /usr/local/lib/python3.10/dist-packages (from pyLDAvis) (2.1.1)\n",
            "Requirement already satisfied: joblib>=1.2.0 in /usr/local/lib/python3.10/dist-packages (from pyLDAvis) (1.3.2)\n",
            "Requirement already satisfied: jinja2 in /usr/local/lib/python3.10/dist-packages (from pyLDAvis) (3.1.2)\n",
            "Requirement already satisfied: numexpr in /usr/local/lib/python3.10/dist-packages (from pyLDAvis) (2.8.7)\n",
            "Requirement already satisfied: funcy in /usr/local/lib/python3.10/dist-packages (from pyLDAvis) (2.0)\n",
            "Requirement already satisfied: scikit-learn>=1.0.0 in /usr/local/lib/python3.10/dist-packages (from pyLDAvis) (1.2.2)\n",
            "Requirement already satisfied: gensim in /usr/local/lib/python3.10/dist-packages (from pyLDAvis) (4.3.2)\n",
            "Requirement already satisfied: setuptools in /usr/local/lib/python3.10/dist-packages (from pyLDAvis) (67.7.2)\n",
            "Requirement already satisfied: python-dateutil>=2.8.2 in /usr/local/lib/python3.10/dist-packages (from pandas>=2.0.0->pyLDAvis) (2.8.2)\n",
            "Requirement already satisfied: pytz>=2020.1 in /usr/local/lib/python3.10/dist-packages (from pandas>=2.0.0->pyLDAvis) (2023.3.post1)\n",
            "Requirement already satisfied: tzdata>=2022.1 in /usr/local/lib/python3.10/dist-packages (from pandas>=2.0.0->pyLDAvis) (2023.3)\n",
            "Requirement already satisfied: threadpoolctl>=2.0.0 in /usr/local/lib/python3.10/dist-packages (from scikit-learn>=1.0.0->pyLDAvis) (3.2.0)\n",
            "Requirement already satisfied: smart-open>=1.8.1 in /usr/local/lib/python3.10/dist-packages (from gensim->pyLDAvis) (6.4.0)\n",
            "Requirement already satisfied: MarkupSafe>=2.0 in /usr/local/lib/python3.10/dist-packages (from jinja2->pyLDAvis) (2.1.3)\n",
            "Requirement already satisfied: six>=1.5 in /usr/local/lib/python3.10/dist-packages (from python-dateutil>=2.8.2->pandas>=2.0.0->pyLDAvis) (1.16.0)\n"
          ]
        }
      ],
      "source": [
        "!pip install pyLDAvis\n"
      ]
    },
    {
      "cell_type": "code",
      "execution_count": null,
      "metadata": {
        "colab": {
          "base_uri": "https://localhost:8080/"
        },
        "id": "m5R0SjDdc74r",
        "outputId": "d0368df6-19b1-4a10-eb8e-6c4eabf19e55"
      },
      "outputs": [
        {
          "output_type": "stream",
          "name": "stdout",
          "text": [
            "Requirement already satisfied: pyLDAvis in /usr/local/lib/python3.10/dist-packages (3.4.1)\n",
            "Requirement already satisfied: numpy>=1.24.2 in /usr/local/lib/python3.10/dist-packages (from pyLDAvis) (1.26.1)\n",
            "Requirement already satisfied: scipy in /usr/local/lib/python3.10/dist-packages (from pyLDAvis) (1.11.3)\n",
            "Requirement already satisfied: pandas>=2.0.0 in /usr/local/lib/python3.10/dist-packages (from pyLDAvis) (2.1.1)\n",
            "Requirement already satisfied: joblib>=1.2.0 in /usr/local/lib/python3.10/dist-packages (from pyLDAvis) (1.3.2)\n",
            "Requirement already satisfied: jinja2 in /usr/local/lib/python3.10/dist-packages (from pyLDAvis) (3.1.2)\n",
            "Requirement already satisfied: numexpr in /usr/local/lib/python3.10/dist-packages (from pyLDAvis) (2.8.7)\n",
            "Requirement already satisfied: funcy in /usr/local/lib/python3.10/dist-packages (from pyLDAvis) (2.0)\n",
            "Requirement already satisfied: scikit-learn>=1.0.0 in /usr/local/lib/python3.10/dist-packages (from pyLDAvis) (1.2.2)\n",
            "Requirement already satisfied: gensim in /usr/local/lib/python3.10/dist-packages (from pyLDAvis) (4.3.2)\n",
            "Requirement already satisfied: setuptools in /usr/local/lib/python3.10/dist-packages (from pyLDAvis) (67.7.2)\n",
            "Requirement already satisfied: python-dateutil>=2.8.2 in /usr/local/lib/python3.10/dist-packages (from pandas>=2.0.0->pyLDAvis) (2.8.2)\n",
            "Requirement already satisfied: pytz>=2020.1 in /usr/local/lib/python3.10/dist-packages (from pandas>=2.0.0->pyLDAvis) (2023.3.post1)\n",
            "Requirement already satisfied: tzdata>=2022.1 in /usr/local/lib/python3.10/dist-packages (from pandas>=2.0.0->pyLDAvis) (2023.3)\n",
            "Requirement already satisfied: threadpoolctl>=2.0.0 in /usr/local/lib/python3.10/dist-packages (from scikit-learn>=1.0.0->pyLDAvis) (3.2.0)\n",
            "Requirement already satisfied: smart-open>=1.8.1 in /usr/local/lib/python3.10/dist-packages (from gensim->pyLDAvis) (6.4.0)\n",
            "Requirement already satisfied: MarkupSafe>=2.0 in /usr/local/lib/python3.10/dist-packages (from jinja2->pyLDAvis) (2.1.3)\n",
            "Requirement already satisfied: six>=1.5 in /usr/local/lib/python3.10/dist-packages (from python-dateutil>=2.8.2->pandas>=2.0.0->pyLDAvis) (1.16.0)\n"
          ]
        }
      ],
      "source": [
        "!pip install pyLDAvis --upgrade"
      ]
    },
    {
      "cell_type": "code",
      "execution_count": null,
      "metadata": {
        "colab": {
          "base_uri": "https://localhost:8080/"
        },
        "id": "Gq8wExXaiLBm",
        "outputId": "0b899c0d-04a4-4658-ba4b-6864ef9e90d1"
      },
      "outputs": [
        {
          "output_type": "stream",
          "name": "stdout",
          "text": [
            "Collecting pandas<2.0.0\n",
            "  Using cached pandas-1.5.3-cp310-cp310-manylinux_2_17_x86_64.manylinux2014_x86_64.whl (12.1 MB)\n",
            "Requirement already satisfied: python-dateutil>=2.8.1 in /usr/local/lib/python3.10/dist-packages (from pandas<2.0.0) (2.8.2)\n",
            "Requirement already satisfied: pytz>=2020.1 in /usr/local/lib/python3.10/dist-packages (from pandas<2.0.0) (2023.3.post1)\n",
            "Requirement already satisfied: numpy>=1.21.0 in /usr/local/lib/python3.10/dist-packages (from pandas<2.0.0) (1.26.1)\n",
            "Requirement already satisfied: six>=1.5 in /usr/local/lib/python3.10/dist-packages (from python-dateutil>=2.8.1->pandas<2.0.0) (1.16.0)\n",
            "Installing collected packages: pandas\n",
            "  Attempting uninstall: pandas\n",
            "    Found existing installation: pandas 2.1.1\n",
            "    Uninstalling pandas-2.1.1:\n",
            "      Successfully uninstalled pandas-2.1.1\n",
            "\u001b[31mERROR: pip's dependency resolver does not currently take into account all the packages that are installed. This behaviour is the source of the following dependency conflicts.\n",
            "google-colab 1.0.0 requires ipython==7.34.0, but you have ipython 8.16.1 which is incompatible.\n",
            "pyldavis 3.4.1 requires pandas>=2.0.0, but you have pandas 1.5.3 which is incompatible.\u001b[0m\u001b[31m\n",
            "\u001b[0mSuccessfully installed pandas-1.5.3\n"
          ]
        }
      ],
      "source": [
        "!pip install \"pandas<2.0.0\""
      ]
    },
    {
      "cell_type": "code",
      "execution_count": null,
      "metadata": {
        "colab": {
          "base_uri": "https://localhost:8080/"
        },
        "id": "ic7P63xXiiAu",
        "outputId": "bb9bae0a-ffc6-475b-9d50-0bbf42362735"
      },
      "outputs": [
        {
          "output_type": "stream",
          "name": "stdout",
          "text": [
            "Requirement already satisfied: fastapi in /usr/local/lib/python3.10/dist-packages (0.104.0)\n",
            "Requirement already satisfied: kaleido in /usr/local/lib/python3.10/dist-packages (0.2.1)\n",
            "Requirement already satisfied: python-multipart in /usr/local/lib/python3.10/dist-packages (0.0.6)\n",
            "Requirement already satisfied: uvicorn in /usr/local/lib/python3.10/dist-packages (0.23.2)\n",
            "Requirement already satisfied: anyio<4.0.0,>=3.7.1 in /usr/local/lib/python3.10/dist-packages (from fastapi) (3.7.1)\n",
            "Requirement already satisfied: pydantic!=1.8,!=1.8.1,!=2.0.0,!=2.0.1,!=2.1.0,<3.0.0,>=1.7.4 in /usr/local/lib/python3.10/dist-packages (from fastapi) (1.10.13)\n",
            "Requirement already satisfied: starlette<0.28.0,>=0.27.0 in /usr/local/lib/python3.10/dist-packages (from fastapi) (0.27.0)\n",
            "Requirement already satisfied: typing-extensions>=4.8.0 in /usr/local/lib/python3.10/dist-packages (from fastapi) (4.8.0)\n",
            "Requirement already satisfied: click>=7.0 in /usr/local/lib/python3.10/dist-packages (from uvicorn) (8.1.7)\n",
            "Requirement already satisfied: h11>=0.8 in /usr/local/lib/python3.10/dist-packages (from uvicorn) (0.14.0)\n",
            "Requirement already satisfied: idna>=2.8 in /usr/local/lib/python3.10/dist-packages (from anyio<4.0.0,>=3.7.1->fastapi) (3.4)\n",
            "Requirement already satisfied: sniffio>=1.1 in /usr/local/lib/python3.10/dist-packages (from anyio<4.0.0,>=3.7.1->fastapi) (1.3.0)\n",
            "Requirement already satisfied: exceptiongroup in /usr/local/lib/python3.10/dist-packages (from anyio<4.0.0,>=3.7.1->fastapi) (1.1.3)\n"
          ]
        }
      ],
      "source": [
        "!pip install fastapi kaleido python-multipart uvicorn"
      ]
    },
    {
      "cell_type": "markdown",
      "metadata": {
        "id": "wluCit2fXsKZ"
      },
      "source": [
        "#1.importaçao"
      ]
    },
    {
      "cell_type": "code",
      "execution_count": null,
      "metadata": {
        "id": "a751YC_yOHlU"
      },
      "outputs": [],
      "source": [
        "import os\n",
        "import pandas as pd\n",
        "import numpy as np\n",
        "import matplotlib.pyplot as plt"
      ]
    },
    {
      "cell_type": "code",
      "execution_count": null,
      "metadata": {
        "id": "CU_5N30GOft9"
      },
      "outputs": [],
      "source": [
        "import random\n",
        "import spacy\n",
        "import nltk\n",
        "import re\n",
        "import pickle"
      ]
    },
    {
      "cell_type": "code",
      "execution_count": null,
      "metadata": {
        "id": "039KXfB1NNh9"
      },
      "outputs": [],
      "source": [
        "import gensim"
      ]
    },
    {
      "cell_type": "code",
      "execution_count": null,
      "metadata": {
        "id": "GnC4iCx9OP71"
      },
      "outputs": [],
      "source": [
        "import pyLDAvis.gensim as gensimvis\n",
        "import pyLDAvis\n",
        "import pyLDAvis.gensim_models"
      ]
    },
    {
      "cell_type": "code",
      "execution_count": null,
      "metadata": {
        "id": "fWEBUKvmOZKU",
        "colab": {
          "base_uri": "https://localhost:8080/"
        },
        "outputId": "fb90f93d-4ba4-4b22-ac74-edf0901ac9a2"
      },
      "outputs": [
        {
          "output_type": "stream",
          "name": "stderr",
          "text": [
            "/usr/local/lib/python3.10/dist-packages/ipykernel/ipkernel.py:283: DeprecationWarning: `should_run_async` will not call `transform_cell` automatically in the future. Please pass the result to `transformed_cell` argument and any exception that happen during thetransform in `preprocessing_exc_tuple` in IPython 7.17 and above.\n",
            "  and should_run_async(code)\n"
          ]
        }
      ],
      "source": [
        "\n",
        "from gensim.utils import simple_preprocess\n",
        "from gensim.models import CoherenceModel"
      ]
    },
    {
      "cell_type": "code",
      "execution_count": null,
      "metadata": {
        "id": "vC6a9KLwGeAL",
        "colab": {
          "base_uri": "https://localhost:8080/"
        },
        "outputId": "2aa861a0-293d-4fa9-f4e5-9e0c67dfe850"
      },
      "outputs": [
        {
          "output_type": "stream",
          "name": "stderr",
          "text": [
            "/usr/local/lib/python3.10/dist-packages/ipykernel/ipkernel.py:283: DeprecationWarning: `should_run_async` will not call `transform_cell` automatically in the future. Please pass the result to `transformed_cell` argument and any exception that happen during thetransform in `preprocessing_exc_tuple` in IPython 7.17 and above.\n",
            "  and should_run_async(code)\n"
          ]
        }
      ],
      "source": [
        "import pprint\n",
        "from pprint import pprint\n",
        "import gensim.corpora as corpora\n",
        "from tqdm import tqdm\n"
      ]
    },
    {
      "cell_type": "code",
      "execution_count": null,
      "metadata": {
        "id": "1ljSV5g9bqre",
        "colab": {
          "base_uri": "https://localhost:8080/"
        },
        "outputId": "2bdeaa1d-6b08-4264-cd15-cd9f6611dab8"
      },
      "outputs": [
        {
          "output_type": "stream",
          "name": "stderr",
          "text": [
            "/usr/local/lib/python3.10/dist-packages/ipykernel/ipkernel.py:283: DeprecationWarning: `should_run_async` will not call `transform_cell` automatically in the future. Please pass the result to `transformed_cell` argument and any exception that happen during thetransform in `preprocessing_exc_tuple` in IPython 7.17 and above.\n",
            "  and should_run_async(code)\n"
          ]
        }
      ],
      "source": [
        "import os\n",
        "import numpy as np\n",
        "import pandas as pd\n",
        "import seaborn as sns\n",
        "import matplotlib.pyplot as plt\n",
        "from sklearn.preprocessing import MinMaxScaler\n",
        "from sklearn.metrics import silhouette_score\n",
        "from sklearn.cluster import KMeans"
      ]
    },
    {
      "cell_type": "markdown",
      "metadata": {
        "id": "RZJ45ntKXw1d"
      },
      "source": [
        "#2.carregamento dos dados"
      ]
    },
    {
      "cell_type": "code",
      "execution_count": null,
      "metadata": {
        "id": "RM_LidxwvGZX",
        "colab": {
          "base_uri": "https://localhost:8080/"
        },
        "outputId": "996aada0-c0a0-43d1-d7ff-b0558a2946be"
      },
      "outputs": [
        {
          "output_type": "stream",
          "name": "stderr",
          "text": [
            "/usr/local/lib/python3.10/dist-packages/ipykernel/ipkernel.py:283: DeprecationWarning: `should_run_async` will not call `transform_cell` automatically in the future. Please pass the result to `transformed_cell` argument and any exception that happen during thetransform in `preprocessing_exc_tuple` in IPython 7.17 and above.\n",
            "  and should_run_async(code)\n"
          ]
        }
      ],
      "source": [
        "#O Csv que utilizamos\n",
        "dataset=pd.read_csv('pla.csv')"
      ]
    },
    {
      "cell_type": "code",
      "execution_count": null,
      "metadata": {
        "id": "7qcW3um2we3W",
        "colab": {
          "base_uri": "https://localhost:8080/",
          "height": 799
        },
        "outputId": "8f0995cc-3a3e-4f0b-e6d1-46ddaf6139ea"
      },
      "outputs": [
        {
          "output_type": "stream",
          "name": "stderr",
          "text": [
            "/usr/local/lib/python3.10/dist-packages/ipykernel/ipkernel.py:283: DeprecationWarning: `should_run_async` will not call `transform_cell` automatically in the future. Please pass the result to `transformed_cell` argument and any exception that happen during thetransform in `preprocessing_exc_tuple` in IPython 7.17 and above.\n",
            "  and should_run_async(code)\n"
          ]
        },
        {
          "output_type": "execute_result",
          "data": {
            "text/plain": [
              "              Endereço de e-mail  \\\n",
              "0  isadora.00000844511@unicap.br   \n",
              "1  gabriel.00000844590@unicap.br   \n",
              "2     thais.2018202795@unicap.br   \n",
              "3    maria.00000829620@unicap.br   \n",
              "4     igor.00000829605@unicap.br   \n",
              "\n",
              "                                  Titulo do artigo\\n  \\\n",
              "0  Map-based spatio-temporal interpolation in veh...   \n",
              "1  Long Gaps Missing IoT Sensors Time Series Data...   \n",
              "2  Concurrent Imputation and Prediction on EHR da...   \n",
              "3  Evaluating the state of the art in missing dat...   \n",
              "4  Chang, Y., Rubin, J., Boverman, G., Vij, S., R...   \n",
              "\n",
              "                                       DOI do artigo  \\\n",
              "0     https://dl.acm.org/doi/10.1145/2442942.2442951   \n",
              "1  https://ieeexplore.ieee.org/stamp/stamp.jsp?ar...   \n",
              "2  https://www.ncbi.nlm.nih.gov/pmc/articles/PMC8...   \n",
              "3          https://pubmed.ncbi.nlm.nih.gov/34882223/   \n",
              "4         https://www.doi.org/10.22489/CinC.2019.110   \n",
              "\n",
              "  O artigo possui open acess?  \\\n",
              "0                         Sim   \n",
              "1                         Sim   \n",
              "2                         sim   \n",
              "3                         Sim   \n",
              "4                         Não   \n",
              "\n",
              "                                            keywords  \\\n",
              "0                                            AUSENTE   \n",
              "1  Missing sensor data, missing data imputation, ...   \n",
              "2  Recurrent Neural Network, Adversarial Training...   \n",
              "3  linical laboratory test; machine learning; mis...   \n",
              "4                                            AUSENTE   \n",
              "\n",
              "                                            abstract  \\\n",
              "0  Interpolation of motion data is a challenging ...   \n",
              "1  Missing sensor data is a common problem associ...   \n",
              "2  Working with electronic health records (EHRs) ...   \n",
              "3  Clinical data are increasingly being mined to ...   \n",
              "4  Early prediction of sepsis onset can notify cl...   \n",
              "\n",
              "           Anexe o PDF do artigo, caso possua acesso Tipo de publicação  \\\n",
              "0  https://drive.google.com/open?id=1vY6FXT-s6rMY...         Conference   \n",
              "1  https://drive.google.com/open?id=1mZG-QdlseNhp...            Journal   \n",
              "2  https://drive.google.com/open?id=1scqtkhpdQxZZ...         Conference   \n",
              "3  https://drive.google.com/open?id=1ChmECvqVYd9k...            Journal   \n",
              "4  https://drive.google.com/open?id=1eRihrebH4M6d...         Conference   \n",
              "\n",
              "   Ano de publicação  Idioma Qual foi o engenho de busca deste artigo ?  \n",
              "0               2012  Inglês                                        ACM  \n",
              "1               2022  Inglês                                        IEE  \n",
              "2               2021  Inglês                                     PUBMED  \n",
              "3               2022  Inglês                                     PUBMED  \n",
              "4               2020  Inglês                                        IEE  "
            ],
            "text/html": [
              "\n",
              "  <div id=\"df-98541932-cb69-4036-ab17-c3491db3d401\" class=\"colab-df-container\">\n",
              "    <div>\n",
              "<style scoped>\n",
              "    .dataframe tbody tr th:only-of-type {\n",
              "        vertical-align: middle;\n",
              "    }\n",
              "\n",
              "    .dataframe tbody tr th {\n",
              "        vertical-align: top;\n",
              "    }\n",
              "\n",
              "    .dataframe thead th {\n",
              "        text-align: right;\n",
              "    }\n",
              "</style>\n",
              "<table border=\"1\" class=\"dataframe\">\n",
              "  <thead>\n",
              "    <tr style=\"text-align: right;\">\n",
              "      <th></th>\n",
              "      <th>Endereço de e-mail</th>\n",
              "      <th>Titulo do artigo\\n</th>\n",
              "      <th>DOI do artigo</th>\n",
              "      <th>O artigo possui open acess?</th>\n",
              "      <th>keywords</th>\n",
              "      <th>abstract</th>\n",
              "      <th>Anexe o PDF do artigo, caso possua acesso</th>\n",
              "      <th>Tipo de publicação</th>\n",
              "      <th>Ano de publicação</th>\n",
              "      <th>Idioma</th>\n",
              "      <th>Qual foi o engenho de busca deste artigo ?</th>\n",
              "    </tr>\n",
              "  </thead>\n",
              "  <tbody>\n",
              "    <tr>\n",
              "      <th>0</th>\n",
              "      <td>isadora.00000844511@unicap.br</td>\n",
              "      <td>Map-based spatio-temporal interpolation in veh...</td>\n",
              "      <td>https://dl.acm.org/doi/10.1145/2442942.2442951</td>\n",
              "      <td>Sim</td>\n",
              "      <td>AUSENTE</td>\n",
              "      <td>Interpolation of motion data is a challenging ...</td>\n",
              "      <td>https://drive.google.com/open?id=1vY6FXT-s6rMY...</td>\n",
              "      <td>Conference</td>\n",
              "      <td>2012</td>\n",
              "      <td>Inglês</td>\n",
              "      <td>ACM</td>\n",
              "    </tr>\n",
              "    <tr>\n",
              "      <th>1</th>\n",
              "      <td>gabriel.00000844590@unicap.br</td>\n",
              "      <td>Long Gaps Missing IoT Sensors Time Series Data...</td>\n",
              "      <td>https://ieeexplore.ieee.org/stamp/stamp.jsp?ar...</td>\n",
              "      <td>Sim</td>\n",
              "      <td>Missing sensor data, missing data imputation, ...</td>\n",
              "      <td>Missing sensor data is a common problem associ...</td>\n",
              "      <td>https://drive.google.com/open?id=1mZG-QdlseNhp...</td>\n",
              "      <td>Journal</td>\n",
              "      <td>2022</td>\n",
              "      <td>Inglês</td>\n",
              "      <td>IEE</td>\n",
              "    </tr>\n",
              "    <tr>\n",
              "      <th>2</th>\n",
              "      <td>thais.2018202795@unicap.br</td>\n",
              "      <td>Concurrent Imputation and Prediction on EHR da...</td>\n",
              "      <td>https://www.ncbi.nlm.nih.gov/pmc/articles/PMC8...</td>\n",
              "      <td>sim</td>\n",
              "      <td>Recurrent Neural Network, Adversarial Training...</td>\n",
              "      <td>Working with electronic health records (EHRs) ...</td>\n",
              "      <td>https://drive.google.com/open?id=1scqtkhpdQxZZ...</td>\n",
              "      <td>Conference</td>\n",
              "      <td>2021</td>\n",
              "      <td>Inglês</td>\n",
              "      <td>PUBMED</td>\n",
              "    </tr>\n",
              "    <tr>\n",
              "      <th>3</th>\n",
              "      <td>maria.00000829620@unicap.br</td>\n",
              "      <td>Evaluating the state of the art in missing dat...</td>\n",
              "      <td>https://pubmed.ncbi.nlm.nih.gov/34882223/</td>\n",
              "      <td>Sim</td>\n",
              "      <td>linical laboratory test; machine learning; mis...</td>\n",
              "      <td>Clinical data are increasingly being mined to ...</td>\n",
              "      <td>https://drive.google.com/open?id=1ChmECvqVYd9k...</td>\n",
              "      <td>Journal</td>\n",
              "      <td>2022</td>\n",
              "      <td>Inglês</td>\n",
              "      <td>PUBMED</td>\n",
              "    </tr>\n",
              "    <tr>\n",
              "      <th>4</th>\n",
              "      <td>igor.00000829605@unicap.br</td>\n",
              "      <td>Chang, Y., Rubin, J., Boverman, G., Vij, S., R...</td>\n",
              "      <td>https://www.doi.org/10.22489/CinC.2019.110</td>\n",
              "      <td>Não</td>\n",
              "      <td>AUSENTE</td>\n",
              "      <td>Early prediction of sepsis onset can notify cl...</td>\n",
              "      <td>https://drive.google.com/open?id=1eRihrebH4M6d...</td>\n",
              "      <td>Conference</td>\n",
              "      <td>2020</td>\n",
              "      <td>Inglês</td>\n",
              "      <td>IEE</td>\n",
              "    </tr>\n",
              "  </tbody>\n",
              "</table>\n",
              "</div>\n",
              "    <div class=\"colab-df-buttons\">\n",
              "\n",
              "  <div class=\"colab-df-container\">\n",
              "    <button class=\"colab-df-convert\" onclick=\"convertToInteractive('df-98541932-cb69-4036-ab17-c3491db3d401')\"\n",
              "            title=\"Convert this dataframe to an interactive table.\"\n",
              "            style=\"display:none;\">\n",
              "\n",
              "  <svg xmlns=\"http://www.w3.org/2000/svg\" height=\"24px\" viewBox=\"0 -960 960 960\">\n",
              "    <path d=\"M120-120v-720h720v720H120Zm60-500h600v-160H180v160Zm220 220h160v-160H400v160Zm0 220h160v-160H400v160ZM180-400h160v-160H180v160Zm440 0h160v-160H620v160ZM180-180h160v-160H180v160Zm440 0h160v-160H620v160Z\"/>\n",
              "  </svg>\n",
              "    </button>\n",
              "\n",
              "  <style>\n",
              "    .colab-df-container {\n",
              "      display:flex;\n",
              "      gap: 12px;\n",
              "    }\n",
              "\n",
              "    .colab-df-convert {\n",
              "      background-color: #E8F0FE;\n",
              "      border: none;\n",
              "      border-radius: 50%;\n",
              "      cursor: pointer;\n",
              "      display: none;\n",
              "      fill: #1967D2;\n",
              "      height: 32px;\n",
              "      padding: 0 0 0 0;\n",
              "      width: 32px;\n",
              "    }\n",
              "\n",
              "    .colab-df-convert:hover {\n",
              "      background-color: #E2EBFA;\n",
              "      box-shadow: 0px 1px 2px rgba(60, 64, 67, 0.3), 0px 1px 3px 1px rgba(60, 64, 67, 0.15);\n",
              "      fill: #174EA6;\n",
              "    }\n",
              "\n",
              "    .colab-df-buttons div {\n",
              "      margin-bottom: 4px;\n",
              "    }\n",
              "\n",
              "    [theme=dark] .colab-df-convert {\n",
              "      background-color: #3B4455;\n",
              "      fill: #D2E3FC;\n",
              "    }\n",
              "\n",
              "    [theme=dark] .colab-df-convert:hover {\n",
              "      background-color: #434B5C;\n",
              "      box-shadow: 0px 1px 3px 1px rgba(0, 0, 0, 0.15);\n",
              "      filter: drop-shadow(0px 1px 2px rgba(0, 0, 0, 0.3));\n",
              "      fill: #FFFFFF;\n",
              "    }\n",
              "  </style>\n",
              "\n",
              "    <script>\n",
              "      const buttonEl =\n",
              "        document.querySelector('#df-98541932-cb69-4036-ab17-c3491db3d401 button.colab-df-convert');\n",
              "      buttonEl.style.display =\n",
              "        google.colab.kernel.accessAllowed ? 'block' : 'none';\n",
              "\n",
              "      async function convertToInteractive(key) {\n",
              "        const element = document.querySelector('#df-98541932-cb69-4036-ab17-c3491db3d401');\n",
              "        const dataTable =\n",
              "          await google.colab.kernel.invokeFunction('convertToInteractive',\n",
              "                                                    [key], {});\n",
              "        if (!dataTable) return;\n",
              "\n",
              "        const docLinkHtml = 'Like what you see? Visit the ' +\n",
              "          '<a target=\"_blank\" href=https://colab.research.google.com/notebooks/data_table.ipynb>data table notebook</a>'\n",
              "          + ' to learn more about interactive tables.';\n",
              "        element.innerHTML = '';\n",
              "        dataTable['output_type'] = 'display_data';\n",
              "        await google.colab.output.renderOutput(dataTable, element);\n",
              "        const docLink = document.createElement('div');\n",
              "        docLink.innerHTML = docLinkHtml;\n",
              "        element.appendChild(docLink);\n",
              "      }\n",
              "    </script>\n",
              "  </div>\n",
              "\n",
              "\n",
              "<div id=\"df-69e40b59-417a-4751-8041-bba3714776ec\">\n",
              "  <button class=\"colab-df-quickchart\" onclick=\"quickchart('df-69e40b59-417a-4751-8041-bba3714776ec')\"\n",
              "            title=\"Suggest charts.\"\n",
              "            style=\"display:none;\">\n",
              "\n",
              "<svg xmlns=\"http://www.w3.org/2000/svg\" height=\"24px\"viewBox=\"0 0 24 24\"\n",
              "     width=\"24px\">\n",
              "    <g>\n",
              "        <path d=\"M19 3H5c-1.1 0-2 .9-2 2v14c0 1.1.9 2 2 2h14c1.1 0 2-.9 2-2V5c0-1.1-.9-2-2-2zM9 17H7v-7h2v7zm4 0h-2V7h2v10zm4 0h-2v-4h2v4z\"/>\n",
              "    </g>\n",
              "</svg>\n",
              "  </button>\n",
              "\n",
              "<style>\n",
              "  .colab-df-quickchart {\n",
              "      --bg-color: #E8F0FE;\n",
              "      --fill-color: #1967D2;\n",
              "      --hover-bg-color: #E2EBFA;\n",
              "      --hover-fill-color: #174EA6;\n",
              "      --disabled-fill-color: #AAA;\n",
              "      --disabled-bg-color: #DDD;\n",
              "  }\n",
              "\n",
              "  [theme=dark] .colab-df-quickchart {\n",
              "      --bg-color: #3B4455;\n",
              "      --fill-color: #D2E3FC;\n",
              "      --hover-bg-color: #434B5C;\n",
              "      --hover-fill-color: #FFFFFF;\n",
              "      --disabled-bg-color: #3B4455;\n",
              "      --disabled-fill-color: #666;\n",
              "  }\n",
              "\n",
              "  .colab-df-quickchart {\n",
              "    background-color: var(--bg-color);\n",
              "    border: none;\n",
              "    border-radius: 50%;\n",
              "    cursor: pointer;\n",
              "    display: none;\n",
              "    fill: var(--fill-color);\n",
              "    height: 32px;\n",
              "    padding: 0;\n",
              "    width: 32px;\n",
              "  }\n",
              "\n",
              "  .colab-df-quickchart:hover {\n",
              "    background-color: var(--hover-bg-color);\n",
              "    box-shadow: 0 1px 2px rgba(60, 64, 67, 0.3), 0 1px 3px 1px rgba(60, 64, 67, 0.15);\n",
              "    fill: var(--button-hover-fill-color);\n",
              "  }\n",
              "\n",
              "  .colab-df-quickchart-complete:disabled,\n",
              "  .colab-df-quickchart-complete:disabled:hover {\n",
              "    background-color: var(--disabled-bg-color);\n",
              "    fill: var(--disabled-fill-color);\n",
              "    box-shadow: none;\n",
              "  }\n",
              "\n",
              "  .colab-df-spinner {\n",
              "    border: 2px solid var(--fill-color);\n",
              "    border-color: transparent;\n",
              "    border-bottom-color: var(--fill-color);\n",
              "    animation:\n",
              "      spin 1s steps(1) infinite;\n",
              "  }\n",
              "\n",
              "  @keyframes spin {\n",
              "    0% {\n",
              "      border-color: transparent;\n",
              "      border-bottom-color: var(--fill-color);\n",
              "      border-left-color: var(--fill-color);\n",
              "    }\n",
              "    20% {\n",
              "      border-color: transparent;\n",
              "      border-left-color: var(--fill-color);\n",
              "      border-top-color: var(--fill-color);\n",
              "    }\n",
              "    30% {\n",
              "      border-color: transparent;\n",
              "      border-left-color: var(--fill-color);\n",
              "      border-top-color: var(--fill-color);\n",
              "      border-right-color: var(--fill-color);\n",
              "    }\n",
              "    40% {\n",
              "      border-color: transparent;\n",
              "      border-right-color: var(--fill-color);\n",
              "      border-top-color: var(--fill-color);\n",
              "    }\n",
              "    60% {\n",
              "      border-color: transparent;\n",
              "      border-right-color: var(--fill-color);\n",
              "    }\n",
              "    80% {\n",
              "      border-color: transparent;\n",
              "      border-right-color: var(--fill-color);\n",
              "      border-bottom-color: var(--fill-color);\n",
              "    }\n",
              "    90% {\n",
              "      border-color: transparent;\n",
              "      border-bottom-color: var(--fill-color);\n",
              "    }\n",
              "  }\n",
              "</style>\n",
              "\n",
              "  <script>\n",
              "    async function quickchart(key) {\n",
              "      const quickchartButtonEl =\n",
              "        document.querySelector('#' + key + ' button');\n",
              "      quickchartButtonEl.disabled = true;  // To prevent multiple clicks.\n",
              "      quickchartButtonEl.classList.add('colab-df-spinner');\n",
              "      try {\n",
              "        const charts = await google.colab.kernel.invokeFunction(\n",
              "            'suggestCharts', [key], {});\n",
              "      } catch (error) {\n",
              "        console.error('Error during call to suggestCharts:', error);\n",
              "      }\n",
              "      quickchartButtonEl.classList.remove('colab-df-spinner');\n",
              "      quickchartButtonEl.classList.add('colab-df-quickchart-complete');\n",
              "    }\n",
              "    (() => {\n",
              "      let quickchartButtonEl =\n",
              "        document.querySelector('#df-69e40b59-417a-4751-8041-bba3714776ec button');\n",
              "      quickchartButtonEl.style.display =\n",
              "        google.colab.kernel.accessAllowed ? 'block' : 'none';\n",
              "    })();\n",
              "  </script>\n",
              "</div>\n",
              "    </div>\n",
              "  </div>\n"
            ]
          },
          "metadata": {},
          "execution_count": 22
        }
      ],
      "source": [
        "dataset.head()"
      ]
    },
    {
      "cell_type": "code",
      "execution_count": null,
      "metadata": {
        "id": "GqfQ63L4whQN",
        "colab": {
          "base_uri": "https://localhost:8080/"
        },
        "outputId": "f7875c47-0fb0-4220-aa9d-8625ebba539d"
      },
      "outputs": [
        {
          "output_type": "stream",
          "name": "stdout",
          "text": [
            "<class 'pandas.core.frame.DataFrame'>\n",
            "RangeIndex: 25 entries, 0 to 24\n",
            "Data columns (total 11 columns):\n",
            " #   Column                                      Non-Null Count  Dtype \n",
            "---  ------                                      --------------  ----- \n",
            " 0   Endereço de e-mail                          25 non-null     object\n",
            " 1   Titulo do artigo\n",
            "                           25 non-null     object\n",
            " 2   DOI do artigo                               25 non-null     object\n",
            " 3   O artigo possui open acess?                 25 non-null     object\n",
            " 4   keywords                                    25 non-null     object\n",
            " 5   abstract                                    25 non-null     object\n",
            " 6   Anexe o PDF do artigo, caso possua acesso   18 non-null     object\n",
            " 7   Tipo de publicação                          25 non-null     object\n",
            " 8   Ano de publicação                           25 non-null     int64 \n",
            " 9   Idioma                                      25 non-null     object\n",
            " 10  Qual foi o engenho de busca deste artigo ?  25 non-null     object\n",
            "dtypes: int64(1), object(10)\n",
            "memory usage: 2.3+ KB\n"
          ]
        },
        {
          "output_type": "stream",
          "name": "stderr",
          "text": [
            "/usr/local/lib/python3.10/dist-packages/ipykernel/ipkernel.py:283: DeprecationWarning: `should_run_async` will not call `transform_cell` automatically in the future. Please pass the result to `transformed_cell` argument and any exception that happen during thetransform in `preprocessing_exc_tuple` in IPython 7.17 and above.\n",
            "  and should_run_async(code)\n"
          ]
        }
      ],
      "source": [
        "dataset.info()"
      ]
    },
    {
      "cell_type": "code",
      "execution_count": null,
      "metadata": {
        "id": "C0fEnTCq1jcx",
        "colab": {
          "base_uri": "https://localhost:8080/"
        },
        "outputId": "d8d06adb-bee7-4e5a-9dc1-a9b232ba8f43"
      },
      "outputs": [
        {
          "output_type": "stream",
          "name": "stdout",
          "text": [
            "['Endereço de e-mail' 'Titulo do artigo\\n' 'DOI do artigo'\n",
            " 'O artigo possui open acess?' 'keywords' 'abstract'\n",
            " 'Anexe o PDF do artigo, caso possua acesso' 'Tipo de publicação'\n",
            " 'Ano de publicação' 'Idioma' 'Qual foi o engenho de busca deste artigo ?']\n"
          ]
        },
        {
          "output_type": "stream",
          "name": "stderr",
          "text": [
            "/usr/local/lib/python3.10/dist-packages/ipykernel/ipkernel.py:283: DeprecationWarning: `should_run_async` will not call `transform_cell` automatically in the future. Please pass the result to `transformed_cell` argument and any exception that happen during thetransform in `preprocessing_exc_tuple` in IPython 7.17 and above.\n",
            "  and should_run_async(code)\n"
          ]
        }
      ],
      "source": [
        "print(dataset.columns.values)"
      ]
    },
    {
      "cell_type": "markdown",
      "metadata": {
        "id": "72vXTTGTTUYh"
      },
      "source": [
        "#3.limpeza dos dados"
      ]
    },
    {
      "cell_type": "code",
      "execution_count": null,
      "metadata": {
        "id": "gRUy9dTB16oh",
        "colab": {
          "base_uri": "https://localhost:8080/"
        },
        "outputId": "c78b1c8b-d17b-4fb3-cda6-6adc1a4bd435"
      },
      "outputs": [
        {
          "output_type": "stream",
          "name": "stderr",
          "text": [
            "/usr/local/lib/python3.10/dist-packages/ipykernel/ipkernel.py:283: DeprecationWarning: `should_run_async` will not call `transform_cell` automatically in the future. Please pass the result to `transformed_cell` argument and any exception that happen during thetransform in `preprocessing_exc_tuple` in IPython 7.17 and above.\n",
            "  and should_run_async(code)\n"
          ]
        }
      ],
      "source": [
        "#agora temos o total de 25 artigos\n",
        "dataset = dataset[dataset['Qual foi o engenho de busca deste artigo ?'] != \"PUBMED\"]"
      ]
    },
    {
      "cell_type": "code",
      "execution_count": null,
      "metadata": {
        "id": "5IRqktWglE8V",
        "colab": {
          "base_uri": "https://localhost:8080/"
        },
        "outputId": "1f2fa211-c14d-4aa3-ac46-deae6ab3517d"
      },
      "outputs": [
        {
          "output_type": "stream",
          "name": "stderr",
          "text": [
            "/usr/local/lib/python3.10/dist-packages/ipykernel/ipkernel.py:283: DeprecationWarning: `should_run_async` will not call `transform_cell` automatically in the future. Please pass the result to `transformed_cell` argument and any exception that happen during thetransform in `preprocessing_exc_tuple` in IPython 7.17 and above.\n",
            "  and should_run_async(code)\n"
          ]
        }
      ],
      "source": [
        "# retirada das colunas indesejadas\n",
        "dataset =dataset.drop(columns=['Anexe o PDF do artigo, caso possua acesso','O artigo possui open acess?','Idioma','Endereço de e-mail','Titulo do artigo\\n'], axis=1)"
      ]
    },
    {
      "cell_type": "code",
      "execution_count": null,
      "metadata": {
        "id": "JwbWwrYnP1dT",
        "colab": {
          "base_uri": "https://localhost:8080/"
        },
        "outputId": "0864452c-2042-434c-99c6-b3a3faecb2b3"
      },
      "outputs": [
        {
          "output_type": "stream",
          "name": "stderr",
          "text": [
            "/usr/local/lib/python3.10/dist-packages/ipykernel/ipkernel.py:283: DeprecationWarning: `should_run_async` will not call `transform_cell` automatically in the future. Please pass the result to `transformed_cell` argument and any exception that happen during thetransform in `preprocessing_exc_tuple` in IPython 7.17 and above.\n",
            "  and should_run_async(code)\n"
          ]
        },
        {
          "output_type": "execute_result",
          "data": {
            "text/plain": [
              "                                        DOI do artigo  \\\n",
              "0      https://dl.acm.org/doi/10.1145/2442942.2442951   \n",
              "1   https://ieeexplore.ieee.org/stamp/stamp.jsp?ar...   \n",
              "4          https://www.doi.org/10.22489/CinC.2019.110   \n",
              "5      https://dl.acm.org/doi/10.1145/3511808.3557654   \n",
              "6             https://doi.org/10.1145/3547353.3526952   \n",
              "8             https://doi.org/10.1145/3503161.3547796   \n",
              "10               https://arxiv.org/pdf/2108.03220.pdf   \n",
              "14  https://ieeexplore.ieee.org/stamp/stamp.jsp?ar...   \n",
              "15     https://dl.acm.org/doi/10.1145/3511808.3557334   \n",
              "17  https://watermark.silverchair.com/bbab489.pdf?...   \n",
              "20     https://dl.acm.org/doi/10.1145/3488560.3498461   \n",
              "21            https://doi.org/10.1145/3534678.3539394   \n",
              "22   https://www.catalyzex.com/paper/arxiv:2210.17292   \n",
              "\n",
              "                                             keywords  \\\n",
              "0                                             AUSENTE   \n",
              "1   Missing sensor data, missing data imputation, ...   \n",
              "4                                             AUSENTE   \n",
              "5                                             AUSENTE   \n",
              "6                                             AUSENTE   \n",
              "8                                             AUSENTE   \n",
              "10  Phasor measurement unit (PMU), synchrophasor d...   \n",
              "14  Altai mountains, data reconstruction, deep lea...   \n",
              "15                                            AUSENTE   \n",
              "17  missing data imputation, machine learning, cli...   \n",
              "20  generative adversarial network, super resoluti...   \n",
              "21  Multivariate time series forecasting; Variable...   \n",
              "22  healthcare informatics, multimodal data, elect...   \n",
              "\n",
              "                                             abstract Tipo de publicação  \\\n",
              "0   Interpolation of motion data is a challenging ...         Conference   \n",
              "1   Missing sensor data is a common problem associ...            Journal   \n",
              "4   Early prediction of sepsis onset can notify cl...         Conference   \n",
              "5   Mobility data collected from location-based so...         Conference   \n",
              "6   We introduce and analyze a simpler, practicall...            Journal   \n",
              "8   Multi-person motion capture can be challenging...         Conference   \n",
              "10  This paper presents a fast model-agnostic meth...            Journal   \n",
              "14  Monitoring of lake water level (WL) changes wi...            Journal   \n",
              "15  Urban flow imputation, which aims to infer the...         Conference   \n",
              "17  Clinical data are increasingly being mined to ...         Conference   \n",
              "20  Scientific discoveries and studies about our p...         Conference   \n",
              "21  We formulate a new inference task in the domai...         Conference   \n",
              "22  Multimodal electronic health record (EHR) data...         Conference   \n",
              "\n",
              "    Ano de publicação Qual foi o engenho de busca deste artigo ?  \n",
              "0                2012                                        ACM  \n",
              "1                2022                                        IEE  \n",
              "4                2020                                        IEE  \n",
              "5                2022                                        ACM  \n",
              "6                2022                                        ACM  \n",
              "8                2022                                        ACM  \n",
              "10               2020                                        IEE  \n",
              "14               2022                                        IEE  \n",
              "15               2022                                        ACM  \n",
              "17               2022                                        IEE  \n",
              "20               2022                                        ACM  \n",
              "21               2022                                        ACM  \n",
              "22               2022                                        ACM  "
            ],
            "text/html": [
              "\n",
              "  <div id=\"df-73fa4078-a4ae-4527-9afe-44c7d13cd98f\" class=\"colab-df-container\">\n",
              "    <div>\n",
              "<style scoped>\n",
              "    .dataframe tbody tr th:only-of-type {\n",
              "        vertical-align: middle;\n",
              "    }\n",
              "\n",
              "    .dataframe tbody tr th {\n",
              "        vertical-align: top;\n",
              "    }\n",
              "\n",
              "    .dataframe thead th {\n",
              "        text-align: right;\n",
              "    }\n",
              "</style>\n",
              "<table border=\"1\" class=\"dataframe\">\n",
              "  <thead>\n",
              "    <tr style=\"text-align: right;\">\n",
              "      <th></th>\n",
              "      <th>DOI do artigo</th>\n",
              "      <th>keywords</th>\n",
              "      <th>abstract</th>\n",
              "      <th>Tipo de publicação</th>\n",
              "      <th>Ano de publicação</th>\n",
              "      <th>Qual foi o engenho de busca deste artigo ?</th>\n",
              "    </tr>\n",
              "  </thead>\n",
              "  <tbody>\n",
              "    <tr>\n",
              "      <th>0</th>\n",
              "      <td>https://dl.acm.org/doi/10.1145/2442942.2442951</td>\n",
              "      <td>AUSENTE</td>\n",
              "      <td>Interpolation of motion data is a challenging ...</td>\n",
              "      <td>Conference</td>\n",
              "      <td>2012</td>\n",
              "      <td>ACM</td>\n",
              "    </tr>\n",
              "    <tr>\n",
              "      <th>1</th>\n",
              "      <td>https://ieeexplore.ieee.org/stamp/stamp.jsp?ar...</td>\n",
              "      <td>Missing sensor data, missing data imputation, ...</td>\n",
              "      <td>Missing sensor data is a common problem associ...</td>\n",
              "      <td>Journal</td>\n",
              "      <td>2022</td>\n",
              "      <td>IEE</td>\n",
              "    </tr>\n",
              "    <tr>\n",
              "      <th>4</th>\n",
              "      <td>https://www.doi.org/10.22489/CinC.2019.110</td>\n",
              "      <td>AUSENTE</td>\n",
              "      <td>Early prediction of sepsis onset can notify cl...</td>\n",
              "      <td>Conference</td>\n",
              "      <td>2020</td>\n",
              "      <td>IEE</td>\n",
              "    </tr>\n",
              "    <tr>\n",
              "      <th>5</th>\n",
              "      <td>https://dl.acm.org/doi/10.1145/3511808.3557654</td>\n",
              "      <td>AUSENTE</td>\n",
              "      <td>Mobility data collected from location-based so...</td>\n",
              "      <td>Conference</td>\n",
              "      <td>2022</td>\n",
              "      <td>ACM</td>\n",
              "    </tr>\n",
              "    <tr>\n",
              "      <th>6</th>\n",
              "      <td>https://doi.org/10.1145/3547353.3526952</td>\n",
              "      <td>AUSENTE</td>\n",
              "      <td>We introduce and analyze a simpler, practicall...</td>\n",
              "      <td>Journal</td>\n",
              "      <td>2022</td>\n",
              "      <td>ACM</td>\n",
              "    </tr>\n",
              "    <tr>\n",
              "      <th>8</th>\n",
              "      <td>https://doi.org/10.1145/3503161.3547796</td>\n",
              "      <td>AUSENTE</td>\n",
              "      <td>Multi-person motion capture can be challenging...</td>\n",
              "      <td>Conference</td>\n",
              "      <td>2022</td>\n",
              "      <td>ACM</td>\n",
              "    </tr>\n",
              "    <tr>\n",
              "      <th>10</th>\n",
              "      <td>https://arxiv.org/pdf/2108.03220.pdf</td>\n",
              "      <td>Phasor measurement unit (PMU), synchrophasor d...</td>\n",
              "      <td>This paper presents a fast model-agnostic meth...</td>\n",
              "      <td>Journal</td>\n",
              "      <td>2020</td>\n",
              "      <td>IEE</td>\n",
              "    </tr>\n",
              "    <tr>\n",
              "      <th>14</th>\n",
              "      <td>https://ieeexplore.ieee.org/stamp/stamp.jsp?ar...</td>\n",
              "      <td>Altai mountains, data reconstruction, deep lea...</td>\n",
              "      <td>Monitoring of lake water level (WL) changes wi...</td>\n",
              "      <td>Journal</td>\n",
              "      <td>2022</td>\n",
              "      <td>IEE</td>\n",
              "    </tr>\n",
              "    <tr>\n",
              "      <th>15</th>\n",
              "      <td>https://dl.acm.org/doi/10.1145/3511808.3557334</td>\n",
              "      <td>AUSENTE</td>\n",
              "      <td>Urban flow imputation, which aims to infer the...</td>\n",
              "      <td>Conference</td>\n",
              "      <td>2022</td>\n",
              "      <td>ACM</td>\n",
              "    </tr>\n",
              "    <tr>\n",
              "      <th>17</th>\n",
              "      <td>https://watermark.silverchair.com/bbab489.pdf?...</td>\n",
              "      <td>missing data imputation, machine learning, cli...</td>\n",
              "      <td>Clinical data are increasingly being mined to ...</td>\n",
              "      <td>Conference</td>\n",
              "      <td>2022</td>\n",
              "      <td>IEE</td>\n",
              "    </tr>\n",
              "    <tr>\n",
              "      <th>20</th>\n",
              "      <td>https://dl.acm.org/doi/10.1145/3488560.3498461</td>\n",
              "      <td>generative adversarial network, super resoluti...</td>\n",
              "      <td>Scientific discoveries and studies about our p...</td>\n",
              "      <td>Conference</td>\n",
              "      <td>2022</td>\n",
              "      <td>ACM</td>\n",
              "    </tr>\n",
              "    <tr>\n",
              "      <th>21</th>\n",
              "      <td>https://doi.org/10.1145/3534678.3539394</td>\n",
              "      <td>Multivariate time series forecasting; Variable...</td>\n",
              "      <td>We formulate a new inference task in the domai...</td>\n",
              "      <td>Conference</td>\n",
              "      <td>2022</td>\n",
              "      <td>ACM</td>\n",
              "    </tr>\n",
              "    <tr>\n",
              "      <th>22</th>\n",
              "      <td>https://www.catalyzex.com/paper/arxiv:2210.17292</td>\n",
              "      <td>healthcare informatics, multimodal data, elect...</td>\n",
              "      <td>Multimodal electronic health record (EHR) data...</td>\n",
              "      <td>Conference</td>\n",
              "      <td>2022</td>\n",
              "      <td>ACM</td>\n",
              "    </tr>\n",
              "  </tbody>\n",
              "</table>\n",
              "</div>\n",
              "    <div class=\"colab-df-buttons\">\n",
              "\n",
              "  <div class=\"colab-df-container\">\n",
              "    <button class=\"colab-df-convert\" onclick=\"convertToInteractive('df-73fa4078-a4ae-4527-9afe-44c7d13cd98f')\"\n",
              "            title=\"Convert this dataframe to an interactive table.\"\n",
              "            style=\"display:none;\">\n",
              "\n",
              "  <svg xmlns=\"http://www.w3.org/2000/svg\" height=\"24px\" viewBox=\"0 -960 960 960\">\n",
              "    <path d=\"M120-120v-720h720v720H120Zm60-500h600v-160H180v160Zm220 220h160v-160H400v160Zm0 220h160v-160H400v160ZM180-400h160v-160H180v160Zm440 0h160v-160H620v160ZM180-180h160v-160H180v160Zm440 0h160v-160H620v160Z\"/>\n",
              "  </svg>\n",
              "    </button>\n",
              "\n",
              "  <style>\n",
              "    .colab-df-container {\n",
              "      display:flex;\n",
              "      gap: 12px;\n",
              "    }\n",
              "\n",
              "    .colab-df-convert {\n",
              "      background-color: #E8F0FE;\n",
              "      border: none;\n",
              "      border-radius: 50%;\n",
              "      cursor: pointer;\n",
              "      display: none;\n",
              "      fill: #1967D2;\n",
              "      height: 32px;\n",
              "      padding: 0 0 0 0;\n",
              "      width: 32px;\n",
              "    }\n",
              "\n",
              "    .colab-df-convert:hover {\n",
              "      background-color: #E2EBFA;\n",
              "      box-shadow: 0px 1px 2px rgba(60, 64, 67, 0.3), 0px 1px 3px 1px rgba(60, 64, 67, 0.15);\n",
              "      fill: #174EA6;\n",
              "    }\n",
              "\n",
              "    .colab-df-buttons div {\n",
              "      margin-bottom: 4px;\n",
              "    }\n",
              "\n",
              "    [theme=dark] .colab-df-convert {\n",
              "      background-color: #3B4455;\n",
              "      fill: #D2E3FC;\n",
              "    }\n",
              "\n",
              "    [theme=dark] .colab-df-convert:hover {\n",
              "      background-color: #434B5C;\n",
              "      box-shadow: 0px 1px 3px 1px rgba(0, 0, 0, 0.15);\n",
              "      filter: drop-shadow(0px 1px 2px rgba(0, 0, 0, 0.3));\n",
              "      fill: #FFFFFF;\n",
              "    }\n",
              "  </style>\n",
              "\n",
              "    <script>\n",
              "      const buttonEl =\n",
              "        document.querySelector('#df-73fa4078-a4ae-4527-9afe-44c7d13cd98f button.colab-df-convert');\n",
              "      buttonEl.style.display =\n",
              "        google.colab.kernel.accessAllowed ? 'block' : 'none';\n",
              "\n",
              "      async function convertToInteractive(key) {\n",
              "        const element = document.querySelector('#df-73fa4078-a4ae-4527-9afe-44c7d13cd98f');\n",
              "        const dataTable =\n",
              "          await google.colab.kernel.invokeFunction('convertToInteractive',\n",
              "                                                    [key], {});\n",
              "        if (!dataTable) return;\n",
              "\n",
              "        const docLinkHtml = 'Like what you see? Visit the ' +\n",
              "          '<a target=\"_blank\" href=https://colab.research.google.com/notebooks/data_table.ipynb>data table notebook</a>'\n",
              "          + ' to learn more about interactive tables.';\n",
              "        element.innerHTML = '';\n",
              "        dataTable['output_type'] = 'display_data';\n",
              "        await google.colab.output.renderOutput(dataTable, element);\n",
              "        const docLink = document.createElement('div');\n",
              "        docLink.innerHTML = docLinkHtml;\n",
              "        element.appendChild(docLink);\n",
              "      }\n",
              "    </script>\n",
              "  </div>\n",
              "\n",
              "\n",
              "<div id=\"df-0f2977da-c617-4fb3-85b9-074f970ec00c\">\n",
              "  <button class=\"colab-df-quickchart\" onclick=\"quickchart('df-0f2977da-c617-4fb3-85b9-074f970ec00c')\"\n",
              "            title=\"Suggest charts.\"\n",
              "            style=\"display:none;\">\n",
              "\n",
              "<svg xmlns=\"http://www.w3.org/2000/svg\" height=\"24px\"viewBox=\"0 0 24 24\"\n",
              "     width=\"24px\">\n",
              "    <g>\n",
              "        <path d=\"M19 3H5c-1.1 0-2 .9-2 2v14c0 1.1.9 2 2 2h14c1.1 0 2-.9 2-2V5c0-1.1-.9-2-2-2zM9 17H7v-7h2v7zm4 0h-2V7h2v10zm4 0h-2v-4h2v4z\"/>\n",
              "    </g>\n",
              "</svg>\n",
              "  </button>\n",
              "\n",
              "<style>\n",
              "  .colab-df-quickchart {\n",
              "      --bg-color: #E8F0FE;\n",
              "      --fill-color: #1967D2;\n",
              "      --hover-bg-color: #E2EBFA;\n",
              "      --hover-fill-color: #174EA6;\n",
              "      --disabled-fill-color: #AAA;\n",
              "      --disabled-bg-color: #DDD;\n",
              "  }\n",
              "\n",
              "  [theme=dark] .colab-df-quickchart {\n",
              "      --bg-color: #3B4455;\n",
              "      --fill-color: #D2E3FC;\n",
              "      --hover-bg-color: #434B5C;\n",
              "      --hover-fill-color: #FFFFFF;\n",
              "      --disabled-bg-color: #3B4455;\n",
              "      --disabled-fill-color: #666;\n",
              "  }\n",
              "\n",
              "  .colab-df-quickchart {\n",
              "    background-color: var(--bg-color);\n",
              "    border: none;\n",
              "    border-radius: 50%;\n",
              "    cursor: pointer;\n",
              "    display: none;\n",
              "    fill: var(--fill-color);\n",
              "    height: 32px;\n",
              "    padding: 0;\n",
              "    width: 32px;\n",
              "  }\n",
              "\n",
              "  .colab-df-quickchart:hover {\n",
              "    background-color: var(--hover-bg-color);\n",
              "    box-shadow: 0 1px 2px rgba(60, 64, 67, 0.3), 0 1px 3px 1px rgba(60, 64, 67, 0.15);\n",
              "    fill: var(--button-hover-fill-color);\n",
              "  }\n",
              "\n",
              "  .colab-df-quickchart-complete:disabled,\n",
              "  .colab-df-quickchart-complete:disabled:hover {\n",
              "    background-color: var(--disabled-bg-color);\n",
              "    fill: var(--disabled-fill-color);\n",
              "    box-shadow: none;\n",
              "  }\n",
              "\n",
              "  .colab-df-spinner {\n",
              "    border: 2px solid var(--fill-color);\n",
              "    border-color: transparent;\n",
              "    border-bottom-color: var(--fill-color);\n",
              "    animation:\n",
              "      spin 1s steps(1) infinite;\n",
              "  }\n",
              "\n",
              "  @keyframes spin {\n",
              "    0% {\n",
              "      border-color: transparent;\n",
              "      border-bottom-color: var(--fill-color);\n",
              "      border-left-color: var(--fill-color);\n",
              "    }\n",
              "    20% {\n",
              "      border-color: transparent;\n",
              "      border-left-color: var(--fill-color);\n",
              "      border-top-color: var(--fill-color);\n",
              "    }\n",
              "    30% {\n",
              "      border-color: transparent;\n",
              "      border-left-color: var(--fill-color);\n",
              "      border-top-color: var(--fill-color);\n",
              "      border-right-color: var(--fill-color);\n",
              "    }\n",
              "    40% {\n",
              "      border-color: transparent;\n",
              "      border-right-color: var(--fill-color);\n",
              "      border-top-color: var(--fill-color);\n",
              "    }\n",
              "    60% {\n",
              "      border-color: transparent;\n",
              "      border-right-color: var(--fill-color);\n",
              "    }\n",
              "    80% {\n",
              "      border-color: transparent;\n",
              "      border-right-color: var(--fill-color);\n",
              "      border-bottom-color: var(--fill-color);\n",
              "    }\n",
              "    90% {\n",
              "      border-color: transparent;\n",
              "      border-bottom-color: var(--fill-color);\n",
              "    }\n",
              "  }\n",
              "</style>\n",
              "\n",
              "  <script>\n",
              "    async function quickchart(key) {\n",
              "      const quickchartButtonEl =\n",
              "        document.querySelector('#' + key + ' button');\n",
              "      quickchartButtonEl.disabled = true;  // To prevent multiple clicks.\n",
              "      quickchartButtonEl.classList.add('colab-df-spinner');\n",
              "      try {\n",
              "        const charts = await google.colab.kernel.invokeFunction(\n",
              "            'suggestCharts', [key], {});\n",
              "      } catch (error) {\n",
              "        console.error('Error during call to suggestCharts:', error);\n",
              "      }\n",
              "      quickchartButtonEl.classList.remove('colab-df-spinner');\n",
              "      quickchartButtonEl.classList.add('colab-df-quickchart-complete');\n",
              "    }\n",
              "    (() => {\n",
              "      let quickchartButtonEl =\n",
              "        document.querySelector('#df-0f2977da-c617-4fb3-85b9-074f970ec00c button');\n",
              "      quickchartButtonEl.style.display =\n",
              "        google.colab.kernel.accessAllowed ? 'block' : 'none';\n",
              "    })();\n",
              "  </script>\n",
              "</div>\n",
              "    </div>\n",
              "  </div>\n"
            ]
          },
          "metadata": {},
          "execution_count": 27
        }
      ],
      "source": [
        "dataset"
      ]
    },
    {
      "cell_type": "markdown",
      "metadata": {
        "id": "o979Cf4nX5qt"
      },
      "source": [
        "#4.retirada de pontuações"
      ]
    },
    {
      "cell_type": "code",
      "execution_count": null,
      "metadata": {
        "id": "q9J57eCC6rX9",
        "colab": {
          "base_uri": "https://localhost:8080/"
        },
        "outputId": "1e6fb170-62a2-4c2f-9234-bb719f17efff"
      },
      "outputs": [
        {
          "output_type": "stream",
          "name": "stderr",
          "text": [
            "/usr/local/lib/python3.10/dist-packages/ipykernel/ipkernel.py:283: DeprecationWarning: `should_run_async` will not call `transform_cell` automatically in the future. Please pass the result to `transformed_cell` argument and any exception that happen during thetransform in `preprocessing_exc_tuple` in IPython 7.17 and above.\n",
            "  and should_run_async(code)\n"
          ]
        },
        {
          "output_type": "execute_result",
          "data": {
            "text/plain": [
              "0    interpolation of motion data is a challenging ...\n",
              "1    missing sensor data is a common problem associ...\n",
              "4    early prediction of sepsis onset can notify cl...\n",
              "5    mobility data collected from location-based so...\n",
              "6    we introduce and analyze a simpler practically...\n",
              "Name: abstract_processed, dtype: object"
            ]
          },
          "metadata": {},
          "execution_count": 28
        }
      ],
      "source": [
        "import re\n",
        "#retirada da pontuaçao das frases que estao contidas em cada linha da coluna abstract\n",
        "dataset['abstract_processed'] = \\\n",
        "dataset['abstract'].map(lambda x: re.sub('[;,.\\\\!?]', '', x))\n",
        "# transformaçao de lower case\n",
        "dataset['abstract_processed'] = \\\n",
        "dataset['abstract_processed'].map(lambda x: x.lower())\n",
        "dataset['abstract_processed'].head()"
      ]
    },
    {
      "cell_type": "code",
      "execution_count": null,
      "metadata": {
        "id": "aaB4UFnsyS7m",
        "colab": {
          "base_uri": "https://localhost:8080/"
        },
        "outputId": "e5d4ba23-3053-45da-bc7a-6211dd4b2deb"
      },
      "outputs": [
        {
          "output_type": "stream",
          "name": "stderr",
          "text": [
            "/usr/local/lib/python3.10/dist-packages/ipykernel/ipkernel.py:283: DeprecationWarning: `should_run_async` will not call `transform_cell` automatically in the future. Please pass the result to `transformed_cell` argument and any exception that happen during thetransform in `preprocessing_exc_tuple` in IPython 7.17 and above.\n",
            "  and should_run_async(code)\n"
          ]
        },
        {
          "output_type": "execute_result",
          "data": {
            "text/plain": [
              "15    urban flow imputation which aims to infer the ...\n",
              "17    clinical data are increasingly being mined to ...\n",
              "20    scientific discoveries and studies about our p...\n",
              "21    we formulate a new inference task in the domai...\n",
              "22    multimodal electronic health record (ehr) data...\n",
              "Name: abstract_processed, dtype: object"
            ]
          },
          "metadata": {},
          "execution_count": 29
        }
      ],
      "source": [
        "dataset['abstract_processed'].tail()"
      ]
    },
    {
      "cell_type": "code",
      "execution_count": null,
      "metadata": {
        "id": "nOw8JnfaXzr0",
        "colab": {
          "base_uri": "https://localhost:8080/"
        },
        "outputId": "262b1d46-bb34-4e92-95e2-7f5bc5d29a41"
      },
      "outputs": [
        {
          "output_type": "stream",
          "name": "stderr",
          "text": [
            "/usr/local/lib/python3.10/dist-packages/ipykernel/ipkernel.py:283: DeprecationWarning: `should_run_async` will not call `transform_cell` automatically in the future. Please pass the result to `transformed_cell` argument and any exception that happen during thetransform in `preprocessing_exc_tuple` in IPython 7.17 and above.\n",
            "  and should_run_async(code)\n"
          ]
        },
        {
          "output_type": "execute_result",
          "data": {
            "text/plain": [
              "0     interpolation of motion data is a challenging ...\n",
              "1     missing sensor data is a common problem associ...\n",
              "4     early prediction of sepsis onset can notify cl...\n",
              "5     mobility data collected from location-based so...\n",
              "6     we introduce and analyze a simpler practically...\n",
              "8     multi-person motion capture can be challenging...\n",
              "10    this paper presents a fast model-agnostic meth...\n",
              "14    monitoring of lake water level (wl) changes wi...\n",
              "15    urban flow imputation which aims to infer the ...\n",
              "17    clinical data are increasingly being mined to ...\n",
              "20    scientific discoveries and studies about our p...\n",
              "21    we formulate a new inference task in the domai...\n",
              "22    multimodal electronic health record (ehr) data...\n",
              "Name: abstract_processed, dtype: object"
            ]
          },
          "metadata": {},
          "execution_count": 30
        }
      ],
      "source": [
        "dataset['abstract_processed']"
      ]
    },
    {
      "cell_type": "markdown",
      "metadata": {
        "id": "xrQChSS3YChE"
      },
      "source": [
        "#5.visualizaçao das palavras"
      ]
    },
    {
      "cell_type": "code",
      "execution_count": null,
      "metadata": {
        "id": "7tZcoJIvAcQp",
        "colab": {
          "base_uri": "https://localhost:8080/",
          "height": 306
        },
        "outputId": "801494ac-bc82-45b3-c2fb-133bf84c4609"
      },
      "outputs": [
        {
          "output_type": "stream",
          "name": "stderr",
          "text": [
            "/usr/local/lib/python3.10/dist-packages/ipykernel/ipkernel.py:283: DeprecationWarning: `should_run_async` will not call `transform_cell` automatically in the future. Please pass the result to `transformed_cell` argument and any exception that happen during thetransform in `preprocessing_exc_tuple` in IPython 7.17 and above.\n",
            "  and should_run_async(code)\n",
            "/usr/local/lib/python3.10/dist-packages/wordcloud/wordcloud.py:106: MatplotlibDeprecationWarning: The get_cmap function was deprecated in Matplotlib 3.7 and will be removed two minor releases later. Use ``matplotlib.colormaps[name]`` or ``matplotlib.colormaps.get_cmap(obj)`` instead.\n",
            "  self.colormap = plt.cm.get_cmap(colormap)\n"
          ]
        },
        {
          "output_type": "execute_result",
          "data": {
            "text/plain": [
              "<PIL.Image.Image image mode=RGB size=400x200>"
            ],
            "image/png": "[encoded data removed]"
          },
          "metadata": {},
          "execution_count": 31
        }
      ],
      "source": [
        "#quanto maior a palavra mais frequente ela é\n",
        "#mudança pode ser feitas no mapa de cores para entender melhor\n",
        "from wordcloud import WordCloud\n",
        "long_string = ','.join(list(dataset['abstract_processed'].values))\n",
        "wordcloud = WordCloud(background_color=\"black\", max_words=8000, contour_width=3, contour_color='white', colormap = 'Blues')\n",
        "wordcloud.generate(long_string)\n",
        "wordcloud.to_image()"
      ]
    },
    {
      "cell_type": "markdown",
      "metadata": {
        "id": "hPD98QjfGHGM"
      },
      "source": [
        "#6.remoção das stopwords e tokearezaçao"
      ]
    },
    {
      "cell_type": "code",
      "execution_count": null,
      "metadata": {
        "id": "qxTlMkB2QjHe",
        "colab": {
          "base_uri": "https://localhost:8080/"
        },
        "outputId": "433b1ae6-fe3d-479d-c7a7-a6c79452701d"
      },
      "outputs": [
        {
          "output_type": "stream",
          "name": "stderr",
          "text": [
            "/usr/local/lib/python3.10/dist-packages/ipykernel/ipkernel.py:283: DeprecationWarning: `should_run_async` will not call `transform_cell` automatically in the future. Please pass the result to `transformed_cell` argument and any exception that happen during thetransform in `preprocessing_exc_tuple` in IPython 7.17 and above.\n",
            "  and should_run_async(code)\n",
            "[nltk_data] Downloading package stopwords to /root/nltk_data...\n",
            "[nltk_data]   Package stopwords is already up-to-date!\n"
          ]
        },
        {
          "output_type": "execute_result",
          "data": {
            "text/plain": [
              "True"
            ]
          },
          "metadata": {},
          "execution_count": 35
        }
      ],
      "source": [
        "import nltk\n",
        "nltk.download('stopwords')"
      ]
    },
    {
      "cell_type": "code",
      "execution_count": null,
      "metadata": {
        "colab": {
          "base_uri": "https://localhost:8080/"
        },
        "id": "XsRPf4CG_-JR",
        "outputId": "90de6f0f-7859-4a96-c7a6-04c0b6b8c2a1"
      },
      "outputs": [
        {
          "output_type": "stream",
          "name": "stderr",
          "text": [
            "/usr/local/lib/python3.10/dist-packages/ipykernel/ipkernel.py:283: DeprecationWarning: `should_run_async` will not call `transform_cell` automatically in the future. Please pass the result to `transformed_cell` argument and any exception that happen during thetransform in `preprocessing_exc_tuple` in IPython 7.17 and above.\n",
            "  and should_run_async(code)\n",
            "[nltk_data] Downloading package stopwords to /root/nltk_data...\n",
            "[nltk_data]   Package stopwords is already up-to-date!\n"
          ]
        }
      ],
      "source": [
        "#retiradas das palabras chamadas de stop words que nao sao necessarias e nao possuem relevancia para o nosso estudo\n",
        "from nltk.corpus import stopwords\n",
        "stop_words = stopwords.words('english')\n",
        "nltk.download('stopwords')\n",
        "#palavras que nao fazem sentido no nosso trabalho\n",
        "stop_words.extend(['from','in','is','at','on','to','the','this','that','kids','dual','more','use','using','both','whose','why','say','saying','said','me','zip','year','however','my','eg','of','which','as','could','going','go','gone','known','within','with','thing','some','year','used','often','after','also','before','untill','','may','maybe','called','any','second','send','other','per','early','earlier','paper','due','the','one','two','ten','of ten'])\n",
        "\n",
        "# Função para converter sentenças em palavras\n",
        "def sent_to_words(sentences):\n",
        "    for sentence in sentences:\n",
        "        yield(gensim.utils.simple_preprocess(str(sentence), deacc=True))\n",
        "\n",
        "# Função para remover stop words\n",
        "def remove_stopwords(texts):\n",
        "    return [[word for word in gensim.utils.simple_preprocess(str(doc))\n",
        "             if word not in stop_words] for doc in texts]\n",
        "\n",
        "# Aplicar sent_to_words\n",
        "data = dataset.abstract_processed.values.tolist()\n",
        "data_words = list(sent_to_words(data))\n",
        "\n",
        "# Remover stop words\n",
        "data_words = remove_stopwords(data_words)\n"
      ]
    },
    {
      "cell_type": "code",
      "execution_count": null,
      "metadata": {
        "colab": {
          "base_uri": "https://localhost:8080/"
        },
        "id": "MKFaIxGDX6kl",
        "outputId": "089ec77c-77d7-49c2-eb44-404f0a7a5498"
      },
      "outputs": [
        {
          "output_type": "stream",
          "name": "stdout",
          "text": [
            "Antes da remoção de stopwords:\n",
            "\n",
            "                                            abstract\n",
            "0  Interpolation of motion data is a challenging ...\n",
            "1  Missing sensor data is a common problem associ...\n",
            "4  Early prediction of sepsis onset can notify cl...\n",
            "5  Mobility data collected from location-based so...\n",
            "6  We introduce and analyze a simpler, practicall...\n",
            "\n",
            "Depois da remoção de stopwords:\n",
            "\n",
            "                                  abstract_processed\n",
            "0  interpolation motion data challenging problem ...\n",
            "1  missing sensor data common problem associated ...\n",
            "4  prediction sepsis onset notify clinicians prov...\n",
            "5  mobility data collected location based social ...\n",
            "6  introduce analyze simpler practically useful v...\n"
          ]
        },
        {
          "output_type": "stream",
          "name": "stderr",
          "text": [
            "/usr/local/lib/python3.10/dist-packages/ipykernel/ipkernel.py:283: DeprecationWarning: `should_run_async` will not call `transform_cell` automatically in the future. Please pass the result to `transformed_cell` argument and any exception that happen during thetransform in `preprocessing_exc_tuple` in IPython 7.17 and above.\n",
            "  and should_run_async(code)\n"
          ]
        }
      ],
      "source": [
        "# Antes da remoção de stopwords\n",
        "print(\"Antes da remoção de stopwords:\\n\")\n",
        "print(dataset[['abstract']][:5])  # Imprima as primeiras 5 linhas para exemplo\n",
        "\n",
        "# Remover stop words\n",
        "data_words = remove_stopwords(data_words)\n",
        "\n",
        "# Depois da remoção de stopwords\n",
        "print(\"\\nDepois da remoção de stopwords:\\n\")\n",
        "# Atualizar a coluna 'abstract_processed' com os textos após a remoção de stopwords\n",
        "dataset['abstract_processed'] = [' '.join(words) for words in data_words]\n",
        "print(dataset[['abstract_processed']][:5])  # Imprima as primeiras 5 linhas para exemplo\n"
      ]
    },
    {
      "cell_type": "markdown",
      "metadata": {
        "id": "Aop3udv4D_RM"
      },
      "source": [
        "#7.lemmatization"
      ]
    },
    {
      "cell_type": "code",
      "execution_count": null,
      "metadata": {
        "colab": {
          "base_uri": "https://localhost:8080/"
        },
        "id": "5S8Wf9FnMXRp",
        "outputId": "59ca2e19-931a-4f23-b723-b36a17aa2adf"
      },
      "outputs": [
        {
          "output_type": "stream",
          "name": "stderr",
          "text": [
            "/usr/local/lib/python3.10/dist-packages/ipykernel/ipkernel.py:283: DeprecationWarning: `should_run_async` will not call `transform_cell` automatically in the future. Please pass the result to `transformed_cell` argument and any exception that happen during thetransform in `preprocessing_exc_tuple` in IPython 7.17 and above.\n",
            "  and should_run_async(code)\n",
            "/usr/local/lib/python3.10/dist-packages/spacy/util.py:910: UserWarning: [W095] Model 'en_core_web_sm' (3.6.0) was trained with spaCy v3.6.0 and may not be 100% compatible with the current version (3.7.2). If you see errors or degraded performance, download a newer compatible model or retrain your custom model with the current spaCy version. For more details and available updates, run: python -m spacy validate\n",
            "  warnings.warn(warn_msg)\n"
          ]
        }
      ],
      "source": [
        "import spacy\n",
        "import pandas as pd\n",
        "nlp = spacy.load(\"en_core_web_sm\")"
      ]
    },
    {
      "cell_type": "code",
      "execution_count": null,
      "metadata": {
        "colab": {
          "base_uri": "https://localhost:8080/"
        },
        "id": "t5df6dzwD3YB",
        "outputId": "6638dc1a-fa31-4ba0-8bdc-570003e49bd4"
      },
      "outputs": [
        {
          "output_type": "stream",
          "name": "stderr",
          "text": [
            "/usr/local/lib/python3.10/dist-packages/ipykernel/ipkernel.py:283: DeprecationWarning: `should_run_async` will not call `transform_cell` automatically in the future. Please pass the result to `transformed_cell` argument and any exception that happen during thetransform in `preprocessing_exc_tuple` in IPython 7.17 and above.\n",
            "  and should_run_async(code)\n"
          ]
        }
      ],
      "source": [
        "#Agora podemos novamente utilizar o list comprehension para passar por cada uma das palavras. Dessa vez vamos criar uma grande string, como uma frase, para ser analisada pelo nosso NLP.\n",
        "doc = nlp(str([palavra for palavra in dataset['abstract_processed']]))"
      ]
    },
    {
      "cell_type": "code",
      "execution_count": null,
      "metadata": {
        "colab": {
          "base_uri": "https://localhost:8080/"
        },
        "id": "dRq68NdoD3QU",
        "outputId": "296f544a-1365-4700-8a66-08769f00cf00"
      },
      "outputs": [
        {
          "output_type": "stream",
          "name": "stderr",
          "text": [
            "/usr/local/lib/python3.10/dist-packages/ipykernel/ipkernel.py:283: DeprecationWarning: `should_run_async` will not call `transform_cell` automatically in the future. Please pass the result to `transformed_cell` argument and any exception that happen during thetransform in `preprocessing_exc_tuple` in IPython 7.17 and above.\n",
            "  and should_run_async(code)\n"
          ]
        },
        {
          "output_type": "stream",
          "name": "stdout",
          "text": [
            "Original: interpolation motion data challenging problem overlooked researchers gps data low sampling rate define spatio temporal query historical spatio temporal query hstq query receives time returns waypoint containing spatio temporal data moving object particular time respond query given time every need interpolate missing waypoints trajectory linear interpolation li commonly method although grossly inaccurate deal problem propose method map based interpolation mbi method uses routing web services find significant points path waypoints instead road networks typically methods map matching query routing web service analyse returned data find missing waypoints able respond queries sent hstq input time trajectory period combination mbi li mbi li interpolate missing data propose measures comparing performance interpolation method li experimental results realistic trajectories show significant improvement quality accuracy interpolated sampled trajectory data hstq mbi li comparison widely li method\n",
            "Lemas: ['interpolation', 'motion', 'datum', 'challenging', 'problem', 'overlook', 'researcher', 'gps', 'datum', 'low', 'sampling', 'rate', 'define', 'spatio', 'temporal', 'query', 'historical', 'spatio', 'temporal', 'query', 'hstq', 'query', 'receive', 'time', 'return', 'waypoint', 'contain', 'spatio', 'temporal', 'datum', 'move', 'object', 'particular', 'time', 'respond', 'query', 'give', 'time', 'need', 'interpolate', 'miss', 'waypoint', 'trajectory', 'linear', 'interpolation', 'commonly', 'method', 'grossly', 'inaccurate', 'deal', 'problem', 'propose', 'method', 'map', 'base', 'interpolation', 'use', 'route', 'web', 'service', 'find', 'significant', 'point', 'path', 'waypoint', 'instead', 'road', 'network', 'typically', 'method', 'map', 'match', 'query', 'route', 'web', 'service', 'analyse', 'return', 'datum', 'find', 'miss', 'waypoint', 'able', 'respond', 'query', 'send', 'hstq', 'input', 'time', 'trajectory', 'period', 'combination', 'interpolate', 'miss', 'datum', 'propose', 'measure', 'compare', 'performance', 'interpolation', 'experimental', 'result', 'realistic', 'trajectory', 'show', 'significant', 'improvement', 'quality', 'accuracy', 'interpolate', 'sample', 'trajectory', 'datum', 'hstq', 'widely', 'method']\n",
            "Original: missing sensor data common problem associated internet things ecosystems affects accuracy associated services adequate medical intervention older adults living home problem caused many factors power communication failure sensor failure another reasons multiple missing data imputation methods developed address issue irregular temporal missing data locations challenging handle lack knowledge occurrence probability random temporal location propose bayesian gaussian process based imputation technique accounts temporal forcing fill missing sensor data approach bayesian gaussian process bgap efficiently impute missing data missing rate temporal location prior knowledge gathered past observations illustrated approach performs real data collected sensors deployed residence older adults period novel approach able impute missing data allowed us observe long term behavior changes would able observe otherwise\n",
            "Lemas: ['miss', 'sensor', 'datum', 'common', 'problem', 'associate', 'internet', 'thing', 'ecosystem', 'affect', 'accuracy', 'associate', 'service', 'adequate', 'medical', 'intervention', 'old', 'adult', 'live', 'home', 'problem', 'cause', 'many', 'factor', 'power', 'communication', 'failure', 'sensor', 'failure', 'reason', 'multiple', 'miss', 'data', 'imputation', 'method', 'develop', 'address', 'issue', 'irregular', 'temporal', 'miss', 'data', 'location', 'challenge', 'handle', 'lack', 'knowledge', 'occurrence', 'probability', 'random', 'temporal', 'location', 'propose', 'process', 'base', 'imputation', 'technique', 'account', 'temporal', 'force', 'fill', 'miss', 'sensor', 'datum', 'approach', 'process', 'efficiently', 'impute', 'miss', 'datum', 'miss', 'rate', 'temporal', 'location', 'prior', 'knowledge', 'gather', 'past', 'observation', 'illustrate', 'approach', 'perform', 'real', 'datum', 'collect', 'sensor', 'deploy', 'residence', 'old', 'adult', 'period', 'novel', 'approach', 'able', 'impute', 'miss', 'datum', 'allow', 'observe', 'long', 'term', 'behavior', 'change', 'able', 'observe', 'otherwise']\n",
            "Original: prediction sepsis onset notify clinicians provide timely interventions patients improve clinical outcomes key question motivating work given retrospective patient cohort consisting multivariate clinical time series vital signs lab measurement patients demographics build model predict onset sepsis six hours tackle challenge first recurrent imputation time series rits approach impute missing values multivariate clinical time series applied temporal convolutional networks tcn rits imputed data compared sequence prediction models tcn effectively control size sequence history third defining loss function assigned custom timedependent weights different types errors achieved th place team name prna utility score physionet computing cardiology challenge evaluated proposed model real world sepsis patient cohort follow hackathon event held challenge organizers improved version algorithm achieved nd place utility score\n",
            "Lemas: ['prediction', 'sepsis', 'onset', 'notify', 'clinician', 'provide', 'timely', 'intervention', 'patient', 'improve', 'clinical', 'outcome', 'key', 'question', 'motivate', 'work', 'give', 'retrospective', 'patient', 'cohort', 'consist', 'multivariate', 'clinical', 'time', 'series', 'vital', 'sign', 'lab', 'measurement', 'patient', 'demographic', 'build', 'model', 'predict', 'onset', 'sepsis', 'hour', 'tackle', 'challenge', 'first', 'recurrent', 'imputation', 'time', 'series', 'rit', 'approach', 'impute', 'miss', 'value', 'multivariate', 'clinical', 'time', 'series', 'apply', 'temporal', 'convolutional', 'network', 'tcn', 'rit', 'impute', 'datum', 'compare', 'sequence', 'prediction', 'model', 'effectively', 'control', 'size', 'sequence', 'history', 'third', 'define', 'loss', 'function', 'assign', 'custom', 'timedependent', 'weight', 'different', 'type', 'error', 'achieve', 'th', 'place', 'team', 'name', 'utility', 'score', 'physionet', 'computing', 'cardiology', 'challenge', 'evaluate', 'propose', 'model', 'real', 'world', 'sepsis', 'patient', 'follow', 'event', 'hold', 'challenge', 'organizer', 'improve', 'version', 'achieve', 'place', 'utility', 'score']\n",
            "Original: mobility data collected location based social networks imperative user movement behaviour analysis marketing strategy customization personal privacy temporary failure gps devices mobility data suffer missing data issues missing mobility data hide beneficial information lead distorted data analysis end propose multi task generative adversarial network termed mdi mg mitigate negative impact missing mobility data imputing possible missing records specifically mdi mg first introduce region awareness modelling fully capture sequential dependencies generator designed multi task network unifies highly pertinent tasks including primary task auxiliary missing poi region imputation task joint training tasks enhances presentation capabilities brings additional benefits besides adopt discriminator evaluate generated sequences generator discriminator optimized minimax player game experiments real world datasets show mdi mg achieves better performance terms imputation accuracy effectiveness compared state art methods\n",
            "Lemas: ['datum', 'collect', 'location', 'base', 'social', 'network', 'imperative', 'user', 'movement', 'behaviour', 'analysis', 'marketing', 'strategy', 'customization', 'personal', 'privacy', 'temporary', 'failure', 'gps', 'device', 'mobility', 'datum', 'suffer', 'miss', 'data', 'issue', 'miss', 'mobility', 'datum', 'hide', 'beneficial', 'information', 'lead', 'distort', 'datum', 'analysis', 'end', 'propose', 'multi', 'task', 'generative', 'adversarial', 'network', 'term', 'mitigate', 'negative', 'impact', 'miss', 'mobility', 'datum', 'impute', 'possible', 'missing', 'record', 'specifically', 'first', 'introduce', 'region', 'awareness', 'model', 'fully', 'capture', 'sequential', 'dependency', 'generator', 'design', 'network', 'unify', 'highly', 'pertinent', 'task', 'include', 'primary', 'task', 'auxiliary', 'miss', 'region', 'imputation', 'task', 'joint', 'training', 'task', 'enhance', 'presentation', 'capability', 'bring', 'additional', 'benefit', 'adopt', 'generate', 'discriminator', 'optimize', 'minimax', 'player', 'game', 'experiment', 'real', 'world', 'dataset', 'show', 'achieve', 'well', 'performance', 'term', 'imputation', 'accuracy', 'effectiveness', 'compare', 'state', 'art', 'method']\n",
            "Original: introduce analyze simpler practically useful variant multivariate singular spectrum analysis mssa time series method impute de noise forecast multivariate time series towards introduce spatio temporal factor model analyze mssa model includes usual components model dynamics time series analysis trends low order polynomials seasonality finite sum harmonics linear time invariant systems establish given time series observations time series sample prediction error imputation forecasting mssa scales min improvement error scaling ssa restriction mssa univariate time series ii min error scaling temporal regularized matrix factorized trmf matrix factorization based method time series prediction mssa exploits temporal spatial structure multivariate time series experimental results various benchmark datasets confirm characteristics spatio temporal factor model theoretical findings variant mssa empirically performs well better compared neural network based time series methods lstm deepar\n",
            "Lemas: ['introduce', 'analyze', 'simple', 'practically', 'useful', 'variant', 'multivariate', 'singular', 'spectrum', 'analysis', 'mssa', 'time', 'forecast', 'multivariate', 'time', 'series', 'introduce', 'spatio', 'temporal', 'factor', 'model', 'model', 'include', 'usual', 'component', 'model', 'dynamic', 'time', 'series', 'analysis', 'trend', 'low', 'order', 'polynomial', 'seasonality', 'harmonic', 'time', 'invariant', 'system', 'establish', 'give', 'time', 'series', 'observation', 'time', 'sample', 'prediction', 'error', 'imputation', 'forecast', 'scale', 'min', 'improvement', 'error', 'scale', 'ssa', 'restriction', 'min', 'error', 'scale', 'temporal', 'regularized', 'matrix', 'factorize', 'trmf', 'matrix', 'factorization', 'base', 'method', 'time', 'prediction', 'exploit', 'temporal', 'spatial', 'structure', 'multivariate', 'time', 'experimental', 'result', 'various', 'benchmark', 'dataset', 'confirm', 'characteristic', 'spatio', 'temporal', 'factor', 'model', 'theoretical', 'finding', 'variant', 'empirically', 'perform', 'well', 'well', 'compare', 'neural', 'network', 'base', 'time', 'method']\n",
            "Original: multi person motion capture challenging ambiguities caused severe occlusion fast body movement complex interactions existing frameworks build pose estimations triangulate coordinates via reasoning appearance trajectory geometric consistencies among multi camera observations joint detection usually incomplete wrong identity assignments limited observation angle leads noisy triangulation results overcome issue propose explore short range autoregressive characteristics skeletal motion transformer first propose adaptive identity aware triangulation module reconstruct joints identify missing joints identity generate complete skeletal motion propose masked auto encoder mae encodes joint status skeletal structural temporal position encoding trajectory completion mae flexible masking encoding mechanism enable arbitrary skeleton definitions conveniently deployed framework order demonstrate proposed model capability dealing severe data loss scenarios contribute high accuracy challenging motion capture dataset multi person interactions severe occlusion evaluations benchmark new dataset demonstrate efficiency proposed model well advantage state art methods\n",
            "Lemas: ['capture', 'challenge', 'ambiguity', 'cause', 'severe', 'occlusion', 'fast', 'body', 'movement', 'complex', 'interaction', 'exist', 'framework', 'build', 'pose', 'estimation', 'triangulate', 'coordinate', 'reason', 'appearance', 'trajectory', 'geometric', 'consistency', 'multi', 'camera', 'observation', 'joint', 'detection', 'usually', 'incomplete', 'wrong', 'identity', 'assignment', 'limited', 'observation', 'angle', 'lead', 'noisy', 'triangulation', 'result', 'overcome', 'issue', 'propose', 'explore', 'short', 'range', 'autoregressive', 'characteristic', 'skeletal', 'motion', 'transformer', 'first', 'propose', 'adaptive', 'identity', 'aware', 'triangulation', 'module', 'reconstruct', 'joint', 'identify', 'miss', 'joint', 'identity', 'generate', 'complete', 'skeletal', 'motion', 'propose', 'mask', 'auto', 'encoder', 'joint', 'status', 'skeletal', 'structural', 'temporal', 'position', 'encode', 'trajectory', 'completion', 'flexible', 'masking', 'encoding', 'mechanism', 'enable', 'arbitrary', 'skeleton', 'definition', 'conveniently', 'deploy', 'framework', 'order', 'demonstrate', 'propose', 'model', 'capability', 'deal', 'severe', 'datum', 'loss', 'scenario', 'contribute', 'high', 'accuracy', 'challenge', 'motion', 'capture', 'dataset', 'person', 'interaction', 'severe', 'occlusion', 'evaluation', 'benchmark', 'new', 'dataset', 'demonstrate', 'efficiency', 'propose', 'model', 'well', 'advantage', 'state', 'art', 'method']\n",
            "Original: presents fast model agnostic method recovering noisy phasor measurement unit pmu data streams missing entries measurements first transformed page matrix original signals reconstructed low rank matrix estimation based optimal singular value thresholding variations recovery algorithm shown offline block processing method imputing past measurements online method predicting future measurements information pmu channel temporal correlation well different pmu channels network spatial correlation utilized recover degraded data proposed method fast needs explicit knowledge underlying system model measurement noise distribution performance recovery algorithms illustrated simulated measurements ieee bus test system well real measurements anonymized us electric utility extensive numeric tests show original signals accurately recovered presence additive noise consecutive data drop well simultaneous data erasures across multiple pmu channels\n",
            "Lemas: ['present', 'fast', 'model', 'agnostic', 'method', 'recover', 'noisy', 'phasor', 'measurement', 'unit', 'datum', 'stream', 'miss', 'entry', 'measurement', 'first', 'transform', 'page', 'matrix', 'original', 'signal', 'reconstruct', 'low', 'rank', 'matrix', 'estimation', 'base', 'optimal', 'singular', 'value', 'thresholding', 'variation', 'recovery', 'show', 'offline', 'block', 'processing', 'method', 'impute', 'past', 'measurement', 'online', 'method', 'predict', 'future', 'measurement', 'information', 'channel', 'temporal', 'correlation', 'well', 'different', 'pmu', 'channel', 'network', 'spatial', 'correlation', 'utilize', 'recover', 'degraded', 'datum', 'propose', 'method', 'fast', 'need', 'explicit', 'knowledge', 'underlie', 'system', 'model', 'measurement', 'noise', 'distribution', 'performance', 'recovery', 'algorithm', 'illustrate', 'simulate', 'measurement', 'ieee', 'bus', 'test', 'system', 'well', 'real', 'measurement', 'anonymize', 'electric', 'utility', 'extensive', 'numeric', 'test', 'show', 'original', 'signal', 'accurately', 'recover', 'presence', 'additive', 'noise', 'consecutive', 'datum', 'drop', 'well', 'simultaneous', 'datum', 'erasure', 'multiple', 'pmu', 'channel']\n",
            "Original: monitoring lake water level wl changes satellite altimeters pivotal assessing dynamics hydrological ecosystems spatial coverage temporal interval quality degradation altimeter data limit continuity measurements thisarticle learning based framework proposed reconstruction ofwls inland lakes reservoirs achieved learning relationship lake wls related hydrological climate variables employing deep learning models introducing hydrological knowledge data driven learning framework lakes first clustered several groups training prediction considering spatial homogeneity heterogeneity water cycling process among multiple lakes cluster category number wl training samples augmented empirical function fitted lake level area pairs augmented samples pretraining process improve accuracy deep learning model simulation obtained models estimating missing wls construct consecutive month wl dataset lakes km altai mountains typical multiple layer perceptron deep belief network models tested validation indicates proposed method performs well wl reconstruction case large proportion missing data moreover performance learning based models effectively improved introducing idea spatial clustering pretraining comparative tests show proposed method outperforms traditional level area fitting methods\n",
            "Lemas: ['monitor', 'lake', 'water', 'level', 'change', 'satellite', 'altimeter', 'pivotal', 'assess', 'dynamic', 'hydrological', 'ecosystem', 'spatial', 'coverage', 'temporal', 'interval', 'quality', 'degradation', 'altimeter', 'datum', 'limit', 'continuity', 'measurement', 'thisarticle', 'learn', 'base', 'framework', 'propose', 'reconstruction', 'ofwl', 'inland', 'lake', 'reservoir', 'achieve', 'learn', 'relationship', 'lake', 'wl', 'relate', 'hydrological', 'climate', 'variable', 'employ', 'deep', 'learning', 'model', 'introduce', 'hydrological', 'knowledge', 'datum', 'drive', 'learn', 'framework', 'lake', 'first', 'cluster', 'several', 'group', 'training', 'prediction', 'consider', 'spatial', 'homogeneity', 'heterogeneity', 'water', 'cycling', 'process', 'multiple', 'lake', 'cluster', 'category', 'number', 'wl', 'training', 'sample', 'augment', 'empirical', 'function', 'fit', 'lake', 'level', 'area', 'pair', 'augment', 'sample', 'pretraine', 'process', 'improve', 'accuracy', 'deep', 'learning', 'model', 'simulation', 'obtain', 'model', 'estimate', 'missing', 'wl', 'construct', 'consecutive', 'month', 'altai', 'mountain', 'typical', 'multiple', 'layer', 'deep', 'belief', 'network', 'model', 'test', 'validation', 'indicate', 'propose', 'method', 'perform', 'well', 'reconstruction', 'case', 'large', 'proportion', 'miss', 'datum', 'moreover', 'performance', 'learn', 'base', 'model', 'effectively', 'improve', 'introduce', 'idea', 'spatial', 'clustering', 'pretraine', 'comparative', 'test', 'show', 'propose', 'method', 'outperform', 'traditional', 'level', 'area', 'fitting', 'method']\n",
            "Original: urban flow imputation aims infer missing flows locations based available flows surrounding areas critically important various smart city related applications urban planning public safety although many methods proposed impute time series data feasible directly applied urban flow data following reasons first urban flows complex spatial temporal correlations much harder captured compared time series data urban flow data random missing ie missing randomly terms times locations block missing ie missing locations particular time slot thus difficult existing methods work well scenarios first time study urban flow imputation problem propose generative free attention based spatial temporal combine mix completion network model ast cmcn short effectively address specifically ast cmcn consists spatial temporal completion network satcnet short spatial temporal mix completion network stmcnet short satcnet composed stacked gruatt modules capture geographical temporal correlations urban flows separately stmcnet designed capture complex spatial temporal associations jointly historical urban flows current data message passing module proposed capture new spatial temporal patterns never appear historical data extensive experiments large real world datasets validate effectiveness efficiency method compared state art baselines\n",
            "Lemas: ['urban', 'flow', 'imputation', 'aim', 'infer', 'miss', 'flow', 'location', 'base', 'available', 'flow', 'surround', 'area', 'critically', 'important', 'various', 'smart', 'city', 'relate', 'application', 'urban', 'plan', 'public', 'safety', 'many', 'method', 'propose', 'impute', 'time', 'series', 'datum', 'feasible', 'directly', 'apply', 'urban', 'flow', 'datum', 'follow', 'reason', 'first', 'urban', 'flow', 'complex', 'spatial', 'temporal', 'correlation', 'much', 'hard', 'capture', 'compare', 'time', 'series', 'datum', 'urban', 'flow', 'datum', 'random', 'miss', 'ie', 'miss', 'randomly', 'term', 'time', 'location', 'block', 'miss', 'miss', 'location', 'particular', 'time', 'slot', 'thus', 'difficult', 'exist', 'method', 'work', 'well', 'scenario', 'first', 'time', 'study', 'urban', 'flow', 'imputation', 'problem', 'propose', 'generative', 'free', 'attention', 'base', 'spatial', 'temporal', 'combine', 'mix', 'completion', 'network', 'model', 'short', 'effectively', 'address', 'specifically', 'consist', 'spatial', 'temporal', 'completion', 'network', 'satcnet', 'short', 'spatial', 'temporal', 'mix', 'completion', 'network', 'stmcnet', 'short', 'satcnet', 'compose', 'stack', 'module', 'capture', 'geographical', 'temporal', 'correlation', 'urban', 'flow', 'separately', 'stmcnet', 'design', 'capture', 'complex', 'spatial', 'temporal', 'association', 'jointly', 'historical', 'urban', 'flow', 'current', 'data', 'message', 'pass', 'module', 'propose', 'capture', 'new', 'spatial', 'temporal', 'pattern', 'never', 'appear', 'historical', 'datum', 'extensive', 'experiment', 'large', 'real', 'world', 'dataset', 'validate', 'effectiveness', 'efficiency', 'method', 'compare', 'state', 'art', 'baseline']\n",
            "Original: clinical data increasingly mined derive new medical knowledge goal enabling greater diagnostic precision better personalized therapeutic regimens improved clinical outcomes efficient utilization health care resources clinical data available irregular intervals vary patients type data entries unmeasured unknown result missing data represent major impediments optimal knowledge derivation clinical data data analytics challenge missing data imputation dacmi presented shared clinical dataset ground truth evaluating advancing state art imputing missing data clinical time series extracted commonly measured blood laboratory tests evaluate imputation performance randomly removed recorded result laboratory test patient admission ground truth dacmi first shared task challenge clinical time series imputation best knowledge challenge attracted international teams spanning three continents across multiple industries academia evaluation outcome suggests competitive machine learning statistical models lightgbm mice xgboost coupled carefully engineered temporal cross sectional features achieve strong imputation performance care needs taken prevent overblown model complexity challenge participating systems collectively experimented wide range machine learning probabilistic algorithms combine temporal imputation cross sectional imputation design principles inform future efforts better model clinical missing data\n",
            "Lemas: ['clinical', 'datum', 'increasingly', 'mine', 'derive', 'new', 'medical', 'knowledge', 'goal', 'enable', 'great', 'diagnostic', 'precision', 'well', 'personalize', 'therapeutic', 'regimen', 'improve', 'clinical', 'outcome', 'efficient', 'utilization', 'health', 'care', 'resource', 'clinical', 'datum', 'available', 'irregular', 'interval', 'vary', 'patient', 'type', 'datum', 'entry', 'unmeasured', 'unknown', 'result', 'miss', 'datum', 'represent', 'major', 'impediment', 'optimal', 'knowledge', 'derivation', 'clinical', 'datum', 'datum', 'analytic', 'challenge', 'miss', 'datum', 'imputation', 'dacmi', 'present', 'share', 'clinical', 'dataset', 'ground', 'truth', 'evaluate', 'advance', 'state', 'art', 'impute', 'miss', 'datum', 'clinical', 'time', 'series', 'extract', 'commonly', 'measure', 'blood', 'laboratory', 'test', 'evaluate', 'imputation', 'performance', 'randomly', 'remove', 'recorded', 'result', 'laboratory', 'test', 'admission', 'ground', 'truth', 'dacmi', 'first', 'share', 'task', 'challenge', 'clinical', 'time', 'series', 'imputation', 'good', 'knowledge', 'challenge', 'attract', 'international', 'team', 'span', 'continent', 'multiple', 'industry', 'evaluation', 'outcome', 'suggest', 'competitive', 'machine', 'learn', 'statistical', 'model', 'lightgbm', 'couple', 'carefully', 'engineer', 'temporal', 'cross', 'sectional', 'feature', 'achieve', 'strong', 'imputation', 'performance', 'care', 'need', 'take', 'prevent', 'overblown', 'model', 'complexity', 'challenge', 'participate', 'system', 'collectively', 'experiment', 'wide', 'range', 'machine', 'learn', 'probabilistic', 'algorithm', 'combine', 'temporal', 'imputation', 'cross', 'sectional', 'imputation', 'design', 'principle', 'inform', 'future', 'effort', 'well', 'model', 'clinical', 'miss', 'datum']\n",
            "Original: scientific discoveries studies physical world long benefited large scale planetary sensing weather forecasting wildfire monitoring limited deployment sensors environment cost physical access constraints lagged behind ever growing need increased data coverage higher resolution impeding timely precise monitoring understanding environment therefore seek extend spatial coverage analysis based existing sensory data generate data locations historical data exists problem fundamentally different challenging traditional spatio temporal imputation assumes data particular location partially missing across time inspired success generative adversarial network gan imputation propose novel esc gan observe local patterns nearby locations well trends global manner temperature drops altitude increases regardless location local patterns exhibit different scales meters kilometers employ multi branch generator aggregate information different granularity specifically branch generator contains randomly masked partial convolutions different resolutions capture local patterns global attention modules global similarity next adversarially train convolution based discriminator distinguish generator output ground truth extensive experiments three geo sensor datasets demonstrate esc gan outperforms state art methods extending spatial coverage achieves best results traditional spatio temporal imputation task\n",
            "Lemas: ['scientific', 'discovery', 'study', 'physical', 'long', 'benefit', 'large', 'scale', 'planetary', 'sense', 'weather', 'forecasting', 'wildfire', 'monitor', 'limited', 'deployment', 'sensor', 'environment', 'cost', 'physical', 'access', 'constraint', 'lag', 'ever', 'grow', 'need', 'increase', 'data', 'coverage', 'high', 'resolution', 'impede', 'timely', 'precise', 'monitoring', 'understanding', 'environment', 'therefore', 'seek', 'extend', 'spatial', 'coverage', 'analysis', 'base', 'exist', 'sensory', 'datum', 'generate', 'data', 'location', 'historical', 'datum', 'exist', 'problem', 'fundamentally', 'different', 'challenge', 'traditional', 'spatio', 'temporal', 'imputation', 'assume', 'data', 'particular', 'location', 'partially', 'miss', 'time', 'inspire', 'success', 'generative', 'adversarial', 'network', 'imputation', 'propose', 'novel', 'local', 'pattern', 'nearby', 'location', 'well', 'trend', 'global', 'manner', 'temperature', 'drop', 'altitude', 'increase', 'regardless', 'location', 'local', 'pattern', 'exhibit', 'different', 'scale', 'meter', 'kilometer', 'employ', 'multi', 'branch', 'generator', 'aggregate', 'information', 'different', 'granularity', 'specifically', 'branch', 'generator', 'contain', 'randomly', 'mask', 'partial', 'convolution', 'different', 'resolution', 'capture', 'local', 'pattern', 'global', 'attention', 'module', 'global', 'similarity', 'adversarially', 'train', 'convolution', 'base', 'discriminator', 'generator', 'output', 'ground', 'truth', 'extensive', 'experiment', 'sensor', 'dataset', 'demonstrate', 'outperform', 'state', 'art', 'method', 'extend', 'spatial', 'coverage', 'achieve', 'good', 'result', 'traditional', 'spatio', 'temporal', 'imputation', 'task']\n",
            "Original: formulate new inference task domain multivariate time series forecasting mtsf variable subset forecast vsf small subset variables available inference variables absent inference long term data loss sensor failures high low resource domain shift train test best knowledge robustness mtsf models presence failures studied literature extensive evaluation first show performance state art methods degrade significantly vsf setting propose non parametric wrapper technique applied top existing forecast models systematic experiments across datasets forecast models show technique able recover close performance models even original variables present\n",
            "Lemas: ['formulate', 'new', 'inference', 'task', 'domain', 'multivariate', 'time', 'series', 'forecasting', 'variable', 'subset', 'forecast', 'vsf', 'small', 'subset', 'variable', 'available', 'inference', 'variable', 'absent', 'inference', 'long', 'term', 'data', 'loss', 'sensor', 'failure', 'high', 'low', 'resource', 'domain', 'shift', 'train', 'test', 'good', 'knowledge', 'robustness', 'model', 'presence', 'failure', 'study', 'literature', 'extensive', 'evaluation', 'first', 'show', 'performance', 'state', 'art', 'method', 'degrade', 'significantly', 'vsf', 'set', 'propose', 'non', 'parametric', 'wrapper', 'technique', 'apply', 'top', 'exist', 'forecast', 'model', 'systematic', 'experiment', 'dataset', 'forecast', 'model', 'show', 'technique', 'able', 'recover', 'close', 'performance', 'model', 'even', 'original', 'variable', 'present']\n",
            "Original: multimodal electronic health record ehr data widely clinical applications conventional methods usually assume sample patient associated unified observed modalities modalities available sample missing modality caused various clinical social reasons common issue real world clinical scenarios existing methods mostly rely solving generative model learns mapping latent space original input space unstable ill posed inverse problem relieve underdetermined system propose model solving direct problem dubbed learning missing modalities multimodal healthcare data care care end end model compensating missing information patients missing modalities perform clinical analysis instead generating raw missing data care imputes task related information missing modalities latent space auxiliary information patient similar neighbors measured task guided modality adaptive similarity metric thence conducts clinical tasks taskguided modality adaptive similarity metric utilizes uncensored modalities patient patients uncensored modalities find similar patients experiments real world datasets show care outperforms stateof art baselines moreover findings discovered care consistent experts medical knowledge demonstrating capability potential providing useful insights explanations\n",
            "Lemas: ['multimodal', 'electronic', 'health', 'record', 'ehr', 'datum', 'widely', 'clinical', 'application', 'conventional', 'method', 'usually', 'assume', 'sample', 'associate', 'unified', 'observe', 'modality', 'modality', 'available', 'sample', 'miss', 'modality', 'cause', 'various', 'clinical', 'social', 'reason', 'common', 'issue', 'real', 'world', 'clinical', 'scenario', 'exist', 'method', 'mostly', 'rely', 'solve', 'generative', 'model', 'learn', 'mapping', 'latent', 'space', 'original', 'input', 'space', 'unstable', 'ill', 'pose', 'inverse', 'problem', 'relieve', 'underdetermined', 'system', 'propose', 'model', 'solve', 'direct', 'problem', 'dub', 'learn', 'miss', 'modality', 'healthcare', 'care', 'care', 'end', 'end', 'model', 'compensate', 'miss', 'information', 'patient', 'miss', 'modality', 'perform', 'clinical', 'analysis', 'instead', 'generate', 'raw', 'miss', 'data', 'care', 'impute', 'task', 'related', 'information', 'miss', 'modality', 'latent', 'space', 'auxiliary', 'information', 'patient', 'similar', 'neighbor', 'measure', 'task', 'guide', 'modality', 'adaptive', 'similarity', 'metric', 'thence', 'conduct', 'clinical', 'task', 'taskguide', 'modality', 'adaptive', 'similarity', 'metric', 'utilize', 'uncensored', 'modality', 'patient', 'patient', 'uncensored', 'modality', 'find', 'similar', 'patient', 'experiment', 'real', 'world', 'dataset', 'show', 'care', 'outperform', 'stateof', 'art', 'baseline', 'moreover', 'finding', 'discover', 'care', 'consistent', 'expert', 'medical', 'knowledge', 'demonstrating', 'capability', 'potential', 'provide', 'useful', 'insight', 'explanation']\n",
            "                                   abstract_processed\n",
            "0   interpolation motion datum challenging problem...\n",
            "1   miss sensor datum common problem associate int...\n",
            "4   prediction sepsis onset notify clinician provi...\n",
            "5   datum collect location base social network imp...\n",
            "6   introduce analyze simple practically useful va...\n",
            "8   capture challenge ambiguity cause severe occlu...\n",
            "10  present fast model agnostic method recover noi...\n",
            "14  monitor lake water level change satellite alti...\n",
            "15  urban flow imputation aim infer miss flow loca...\n",
            "17  clinical datum increasingly mine derive new me...\n",
            "20  scientific discovery study physical long benef...\n",
            "21  formulate new inference task domain multivaria...\n",
            "22  multimodal electronic health record ehr datum ...\n"
          ]
        }
      ],
      "source": [
        "allowed_postags = ['NOUN', 'ADJ', 'VERB', 'ADV']\n",
        "\n",
        "def extract_noun_lemmas(text):\n",
        "    doc = nlp(text)\n",
        "    lemmas = [token.lemma_ for token in doc if token.pos_ in allowed_postags]\n",
        "\n",
        "    # Adiciona uma impressão para verificar os lemas gerados\n",
        "    print(f\"Original: {text}\")\n",
        "    print(f\"Lemas: {lemmas}\")\n",
        "\n",
        "    return \" \".join(lemmas)\n",
        "\n",
        "# Substituir a coluna 'abstract_processed' pelos lemas\n",
        "dataset['abstract_processed'] = dataset['abstract_processed'].apply(extract_noun_lemmas)\n",
        "\n",
        "# Exibir o dataset\n",
        "print(dataset[['abstract_processed']])\n"
      ]
    },
    {
      "cell_type": "markdown",
      "metadata": {
        "id": "IXiPeii5eA49"
      },
      "source": [
        "---------------------------------------------------------------------------"
      ]
    },
    {
      "cell_type": "code",
      "execution_count": null,
      "metadata": {
        "colab": {
          "base_uri": "https://localhost:8080/"
        },
        "id": "xx_BRfixulwf",
        "outputId": "eaf51d24-183f-4d14-ab06-0033b47dab23"
      },
      "outputs": [
        {
          "output_type": "stream",
          "name": "stdout",
          "text": [
            "Original: urban flow imputation aim infer miss flow location base available flow surround area critically important various smart city relate application urban plan public safety many method propose impute time series datum feasible directly apply urban flow datum follow reason first urban flow complex spatial temporal correlation much hard capture compare time series datum urban flow datum random miss ie miss randomly term time location block miss miss location particular time slot thus difficult exist method work well scenario first time study urban flow imputation problem propose generative free attention base spatial temporal combine mix completion network model short effectively address specifically consist spatial temporal completion network satcnet short spatial temporal mix completion network stmcnet short satcnet compose stack module capture geographical temporal correlation urban flow separately stmcnet design capture complex spatial temporal association jointly historical urban flow current data message pass module propose capture new spatial temporal pattern never appear historical datum extensive experiment large real world dataset validate effectiveness efficiency method compare state art baseline\n",
            "Lemas: ['urban', 'flow', 'imputation', 'aim', 'infer', 'flow', 'location', 'base', 'available', 'flow', 'surround', 'area', 'critically', 'important', 'various', 'smart', 'city', 'relate', 'application', 'urban', 'plan', 'public', 'safety', 'many', 'method', 'propose', 'impute', 'time', 'series', 'feasible', 'directly', 'apply', 'urban', 'flow', 'follow', 'reason', 'first', 'flow', 'complex', 'spatial', 'temporal', 'correlation', 'much', 'hard', 'capture', 'compare', 'time', 'series', 'flow', 'random', 'miss', 'randomly', 'term', 'time', 'location', 'block', 'location', 'particular', 'time', 'slot', 'thus', 'difficult', 'exist', 'method', 'work', 'well', 'scenario', 'first', 'time', 'study', 'urban', 'flow', 'imputation', 'problem', 'propose', 'generative', 'free', 'attention', 'base', 'spatial', 'temporal', 'combine', 'mix', 'completion', 'network', 'model', 'short', 'effectively', 'address', 'specifically', 'consist', 'spatial', 'temporal', 'completion', 'network', 'satcnet', 'short', 'spatial', 'temporal', 'mix', 'completion', 'network', 'stmcnet', 'short', 'satcnet', 'compose', 'stack', 'module', 'capture', 'geographical', 'temporal', 'correlation', 'flow', 'separately', 'stmcnet', 'design', 'capture', 'complex', 'spatial', 'temporal', 'association', 'jointly', 'historical', 'urban', 'flow', 'current', 'datum', 'message', 'pass', 'module', 'propose', 'capture', 'new', 'spatial', 'temporal', 'pattern', 'never', 'appear', 'historical', 'datum', 'extensive', 'experiment', 'large', 'real', 'world', 'dataset', 'validate', 'effectiveness', 'efficiency', 'method', 'compare', 'state', 'art', 'baseline']\n",
            "Original: urban flow imputation aim infer miss flow location base available flow surround area critically important various smart city relate application urban plan public safety many method propose impute time series datum feasible directly apply urban flow datum follow reason first urban flow complex spatial temporal correlation much hard capture compare time series datum urban flow datum random miss ie miss randomly term time location block miss miss location particular time slot thus difficult exist method work well scenario first time study urban flow imputation problem propose generative free attention base spatial temporal combine mix completion network model short effectively address specifically consist spatial temporal completion network satcnet short spatial temporal mix completion network stmcnet short satcnet compose stack module capture geographical temporal correlation urban flow separately stmcnet design capture complex spatial temporal association jointly historical urban flow current data message pass module propose capture new spatial temporal pattern never appear historical datum extensive experiment large real world dataset validate effectiveness efficiency method compare state art baseline\n",
            "Lemas: urban flow imputation aim infer flow location base available flow surround area critically important various smart city relate application urban plan public safety many method propose impute time series feasible directly apply urban flow follow reason first flow complex spatial temporal correlation much hard capture compare time series flow random miss randomly term time location block location particular time slot thus difficult exist method work well scenario first time study urban flow imputation problem propose generative free attention base spatial temporal combine mix completion network model short effectively address specifically consist spatial temporal completion network satcnet short spatial temporal mix completion network stmcnet short satcnet compose stack module capture geographical temporal correlation flow separately stmcnet design capture complex spatial temporal association jointly historical urban flow current datum message pass module propose capture new spatial temporal pattern never appear historical datum extensive experiment large real world dataset validate effectiveness efficiency method compare state art baseline\n",
            "\n",
            "Original: miss sensor datum common problem associate internet thing ecosystem affect accuracy associate service adequate medical intervention old adult live home problem cause many factor power communication failure sensor failure reason multiple miss data imputation method develop address issue irregular temporal miss data location challenge handle lack knowledge occurrence probability random temporal location propose process base imputation technique account temporal force fill miss sensor datum approach process efficiently impute miss datum miss rate temporal location prior knowledge gather past observation illustrate approach perform real datum collect sensor deploy residence old adult period novel approach able impute miss datum allow observe long term behavior change able observe otherwise\n",
            "Lemas: ['sensor', 'common', 'problem', 'associate', 'internet', 'thing', 'ecosystem', 'affect', 'accuracy', 'associate', 'service', 'adequate', 'medical', 'intervention', 'old', 'adult', 'live', 'home', 'problem', 'cause', 'many', 'factor', 'power', 'communication', 'failure', 'sensor', 'failure', 'reason', 'multiple', 'datum', 'imputation', 'method', 'develop', 'address', 'issue', 'irregular', 'temporal', 'datum', 'location', 'challenge', 'handle', 'lack', 'knowledge', 'occurrence', 'probability', 'random', 'temporal', 'location', 'propose', 'process', 'base', 'imputation', 'technique', 'account', 'temporal', 'force', 'fill', 'sensor', 'datum', 'approach', 'process', 'efficiently', 'impute', 'rate', 'temporal', 'location', 'prior', 'knowledge', 'gather', 'observation', 'illustrate', 'approach', 'perform', 'real', 'datum', 'collect', 'sensor', 'deploy', 'residence', 'old', 'adult', 'period', 'novel', 'approach', 'able', 'impute', 'long', 'term', 'behavior', 'change', 'able', 'observe', 'otherwise']\n",
            "Original: miss sensor datum common problem associate internet thing ecosystem affect accuracy associate service adequate medical intervention old adult live home problem cause many factor power communication failure sensor failure reason multiple miss data imputation method develop address issue irregular temporal miss data location challenge handle lack knowledge occurrence probability random temporal location propose process base imputation technique account temporal force fill miss sensor datum approach process efficiently impute miss datum miss rate temporal location prior knowledge gather past observation illustrate approach perform real datum collect sensor deploy residence old adult period novel approach able impute miss datum allow observe long term behavior change able observe otherwise\n",
            "Lemas: sensor common problem associate internet thing ecosystem affect accuracy associate service adequate medical intervention old adult live home problem cause many factor power communication failure sensor failure reason multiple datum imputation method develop address issue irregular temporal datum location challenge handle lack knowledge occurrence probability random temporal location propose process base imputation technique account temporal force fill sensor datum approach process efficiently impute rate temporal location prior knowledge gather observation illustrate approach perform real datum collect sensor deploy residence old adult period novel approach able impute long term behavior change able observe otherwise\n",
            "\n",
            "Original: multimodal electronic health record ehr datum widely clinical application conventional method usually assume sample associate unified observe modality modality available sample miss modality cause various clinical social reason common issue real world clinical scenario exist method mostly rely solve generative model learn mapping latent space original input space unstable ill pose inverse problem relieve underdetermined system propose model solve direct problem dub learn miss modality healthcare care care end end model compensate miss information patient miss modality perform clinical analysis instead generate raw miss data care impute task related information miss modality latent space auxiliary information patient similar neighbor measure task guide modality adaptive similarity metric thence conduct clinical task taskguide modality adaptive similarity metric utilize uncensored modality patient patient uncensored modality find similar patient experiment real world dataset show care outperform stateof art baseline moreover finding discover care consistent expert medical knowledge demonstrating capability potential provide useful insight explanation\n",
            "Lemas: ['multimodal', 'electronic', 'health', 'record', 'datum', 'widely', 'clinical', 'application', 'conventional', 'method', 'usually', 'assume', 'sample', 'associate', 'unified', 'observe', 'modality', 'modality', 'available', 'sample', 'modality', 'cause', 'various', 'clinical', 'social', 'reason', 'common', 'issue', 'real', 'world', 'clinical', 'scenario', 'exist', 'method', 'mostly', 'rely', 'solve', 'generative', 'model', 'learn', 'mapping', 'latent', 'space', 'original', 'input', 'space', 'unstable', 'ill', 'pose', 'inverse', 'problem', 'relieve', 'underdetermined', 'system', 'propose', 'model', 'solve', 'direct', 'problem', 'learn', 'modality', 'healthcare', 'care', 'end', 'end', 'model', 'compensate', 'miss', 'information', 'patient', 'modality', 'perform', 'clinical', 'analysis', 'instead', 'generate', 'raw', 'miss', 'datum', 'care', 'impute', 'task', 'relate', 'information', 'miss', 'modality', 'latent', 'space', 'auxiliary', 'information', 'patient', 'similar', 'neighbor', 'measure', 'task', 'guide', 'modality', 'adaptive', 'similarity', 'metric', 'thence', 'conduct', 'clinical', 'task', 'taskguide', 'modality', 'adaptive', 'similarity', 'metric', 'utilize', 'uncensored', 'modality', 'patient', 'patient', 'uncensored', 'modality', 'find', 'similar', 'patient', 'experiment', 'real', 'world', 'dataset', 'show', 'care', 'stateof', 'art', 'baseline', 'moreover', 'find', 'discover', 'care', 'consistent', 'expert', 'medical', 'knowledge', 'demonstrating', 'capability', 'potential', 'provide', 'useful', 'insight', 'explanation']\n",
            "Original: multimodal electronic health record ehr datum widely clinical application conventional method usually assume sample associate unified observe modality modality available sample miss modality cause various clinical social reason common issue real world clinical scenario exist method mostly rely solve generative model learn mapping latent space original input space unstable ill pose inverse problem relieve underdetermined system propose model solve direct problem dub learn miss modality healthcare care care end end model compensate miss information patient miss modality perform clinical analysis instead generate raw miss data care impute task related information miss modality latent space auxiliary information patient similar neighbor measure task guide modality adaptive similarity metric thence conduct clinical task taskguide modality adaptive similarity metric utilize uncensored modality patient patient uncensored modality find similar patient experiment real world dataset show care outperform stateof art baseline moreover finding discover care consistent expert medical knowledge demonstrating capability potential provide useful insight explanation\n",
            "Lemas: multimodal electronic health record datum widely clinical application conventional method usually assume sample associate unified observe modality modality available sample modality cause various clinical social reason common issue real world clinical scenario exist method mostly rely solve generative model learn mapping latent space original input space unstable ill pose inverse problem relieve underdetermined system propose model solve direct problem learn modality healthcare care end end model compensate miss information patient modality perform clinical analysis instead generate raw miss datum care impute task relate information miss modality latent space auxiliary information patient similar neighbor measure task guide modality adaptive similarity metric thence conduct clinical task taskguide modality adaptive similarity metric utilize uncensored modality patient patient uncensored modality find similar patient experiment real world dataset show care stateof art baseline moreover find discover care consistent expert medical knowledge demonstrating capability potential provide useful insight explanation\n",
            "\n",
            "Original: interpolation motion datum challenging problem overlook researcher gps datum low sampling rate define spatio temporal query historical spatio temporal query hstq query receive time return waypoint contain spatio temporal datum move object particular time respond query give time need interpolate miss waypoint trajectory linear interpolation commonly method grossly inaccurate deal problem propose method map base interpolation use route web service find significant point path waypoint instead road network typically method map match query route web service analyse return datum find miss waypoint able respond query send hstq input time trajectory period combination interpolate miss datum propose measure compare performance interpolation experimental result realistic trajectory show significant improvement quality accuracy interpolate sample trajectory datum hstq widely method\n",
            "Lemas: ['interpolation', 'challenging', 'problem', 'overlook', 'low', 'sampling', 'rate', 'define', 'spatio', 'temporal', 'query', 'historical', 'spatio', 'temporal', 'query', 'time', 'return', 'waypoint', 'contain', 'spatio', 'temporal', 'move', 'object', 'particular', 'time', 'respond', 'query', 'give', 'time', 'need', 'interpolate', 'miss', 'waypoint', 'trajectory', 'linear', 'interpolation', 'commonly', 'method', 'grossly', 'inaccurate', 'deal', 'problem', 'propose', 'method', 'map', 'base', 'interpolation', 'use', 'route', 'web', 'service', 'find', 'significant', 'point', 'path', 'waypoint', 'instead', 'road', 'network', 'typically', 'method', 'map', 'web', 'service', 'find', 'waypoint', 'able', 'respond', 'query', 'send', 'hstq', 'input', 'time', 'trajectory', 'period', 'combination', 'interpolate', 'measure', 'compare', 'performance', 'interpolation', 'experimental', 'result', 'realistic', 'trajectory', 'show', 'significant', 'improvement', 'quality', 'accuracy', 'interpolate', 'sample', 'trajectory', 'datum', 'hstq', 'widely', 'method']\n",
            "Original: interpolation motion datum challenging problem overlook researcher gps datum low sampling rate define spatio temporal query historical spatio temporal query hstq query receive time return waypoint contain spatio temporal datum move object particular time respond query give time need interpolate miss waypoint trajectory linear interpolation commonly method grossly inaccurate deal problem propose method map base interpolation use route web service find significant point path waypoint instead road network typically method map match query route web service analyse return datum find miss waypoint able respond query send hstq input time trajectory period combination interpolate miss datum propose measure compare performance interpolation experimental result realistic trajectory show significant improvement quality accuracy interpolate sample trajectory datum hstq widely method\n",
            "Lemas: interpolation challenging problem overlook low sampling rate define spatio temporal query historical spatio temporal query time return waypoint contain spatio temporal move object particular time respond query give time need interpolate miss waypoint trajectory linear interpolation commonly method grossly inaccurate deal problem propose method map base interpolation use route web service find significant point path waypoint instead road network typically method map web service find waypoint able respond query send hstq input time trajectory period combination interpolate measure compare performance interpolation experimental result realistic trajectory show significant improvement quality accuracy interpolate sample trajectory datum hstq widely method\n",
            "\n",
            "Original: monitor lake water level change satellite altimeter pivotal assess dynamic hydrological ecosystem spatial coverage temporal interval quality degradation altimeter datum limit continuity measurement thisarticle learn base framework propose reconstruction ofwl inland lake reservoir achieve learn relationship lake wl relate hydrological climate variable employ deep learning model introduce hydrological knowledge datum drive learn framework lake first cluster several group training prediction consider spatial homogeneity heterogeneity water cycling process multiple lake cluster category number wl training sample augment empirical function fit lake level area pair augment sample pretraine process improve accuracy deep learning model simulation obtain model estimate missing wl construct consecutive month altai mountain typical multiple layer deep belief network model test validation indicate propose method perform well reconstruction case large proportion miss datum moreover performance learn base model effectively improve introduce idea spatial clustering pretraine comparative test show propose method outperform traditional level area fitting method\n",
            "Lemas: ['level', 'change', 'satellite', 'altimeter', 'pivotal', 'assess', 'dynamic', 'hydrological', 'ecosystem', 'spatial', 'coverage', 'temporal', 'interval', 'quality', 'altimeter', 'limit', 'continuity', 'measurement', 'thisarticle', 'learn', 'base', 'framework', 'propose', 'achieve', 'lake', 'relate', 'hydrological', 'climate', 'variable', 'employ', 'deep', 'learning', 'model', 'introduce', 'hydrological', 'knowledge', 'drive', 'learn', 'framework', 'lake', 'several', 'group', 'training', 'prediction', 'consider', 'spatial', 'homogeneity', 'heterogeneity', 'water', 'cycling', 'process', 'category', 'number', 'training', 'sample', 'augment', 'empirical', 'function', 'lake', 'level', 'area', 'pair', 'augment', 'sample', 'pretraine', 'process', 'improve', 'accuracy', 'deep', 'learning', 'model', 'simulation', 'model', 'estimate', 'miss', 'construct', 'consecutive', 'month', 'altai', 'mountain', 'typical', 'multiple', 'layer', 'deep', 'belief', 'network', 'model', 'test', 'validation', 'indicate', 'propose', 'method', 'perform', 'well', 'reconstruction', 'case', 'large', 'proportion', 'miss', 'moreover', 'performance', 'learn', 'base', 'model', 'effectively', 'improve', 'introduce', 'idea', 'spatial', 'cluster', 'pretraine', 'comparative', 'test', 'show', 'propose', 'method', 'outperform', 'traditional', 'level', 'area', 'fitting', 'method']\n",
            "Original: monitor lake water level change satellite altimeter pivotal assess dynamic hydrological ecosystem spatial coverage temporal interval quality degradation altimeter datum limit continuity measurement thisarticle learn base framework propose reconstruction ofwl inland lake reservoir achieve learn relationship lake wl relate hydrological climate variable employ deep learning model introduce hydrological knowledge datum drive learn framework lake first cluster several group training prediction consider spatial homogeneity heterogeneity water cycling process multiple lake cluster category number wl training sample augment empirical function fit lake level area pair augment sample pretraine process improve accuracy deep learning model simulation obtain model estimate missing wl construct consecutive month altai mountain typical multiple layer deep belief network model test validation indicate propose method perform well reconstruction case large proportion miss datum moreover performance learn base model effectively improve introduce idea spatial clustering pretraine comparative test show propose method outperform traditional level area fitting method\n",
            "Lemas: level change satellite altimeter pivotal assess dynamic hydrological ecosystem spatial coverage temporal interval quality altimeter limit continuity measurement thisarticle learn base framework propose achieve lake relate hydrological climate variable employ deep learning model introduce hydrological knowledge drive learn framework lake several group training prediction consider spatial homogeneity heterogeneity water cycling process category number training sample augment empirical function lake level area pair augment sample pretraine process improve accuracy deep learning model simulation model estimate miss construct consecutive month altai mountain typical multiple layer deep belief network model test validation indicate propose method perform well reconstruction case large proportion miss moreover performance learn base model effectively improve introduce idea spatial cluster pretraine comparative test show propose method outperform traditional level area fitting method\n",
            "\n"
          ]
        },
        {
          "output_type": "stream",
          "name": "stderr",
          "text": [
            "/usr/local/lib/python3.10/dist-packages/ipykernel/ipkernel.py:283: DeprecationWarning: `should_run_async` will not call `transform_cell` automatically in the future. Please pass the result to `transformed_cell` argument and any exception that happen during thetransform in `preprocessing_exc_tuple` in IPython 7.17 and above.\n",
            "  and should_run_async(code)\n"
          ]
        }
      ],
      "source": [
        "# Supondo que dataset seja um DataFrame do pandas\n",
        "import random\n",
        "\n",
        "# Função para imprimir exemplos aleatórios\n",
        "def print_random_examples(data, lemmatization_function, num_examples=5):\n",
        "    random_indices = random.sample(range(len(data)), num_examples)\n",
        "    for idx in random_indices:\n",
        "        try:\n",
        "            original_text = data.iloc[idx]\n",
        "            lemmas = lemmatization_function(original_text)\n",
        "            print(f\"Original: {original_text}\")\n",
        "            print(f\"Lemas: {lemmas}\\n\")\n",
        "        except IndexError:\n",
        "            print(f\"Index {idx} não encontrado no DataFrame.\")\n",
        "\n",
        "# Substitua 'extract_noun_lemmas' pela função real de lematização de substantivos\n",
        "# Certifique-se de ter essa função definida antes de chamar print_random_examples\n",
        "# extract_noun_lemmas = sua_funcao_de_lematizacao_de_substantivos\n",
        "\n",
        "# Usar a função\n",
        "print_random_examples(dataset['abstract_processed'], extract_noun_lemmas)\n"
      ]
    },
    {
      "cell_type": "markdown",
      "metadata": {
        "id": "Z7VMLvT0g2R3"
      },
      "source": [
        "#8.DICIONARIO E CORPUS"
      ]
    },
    {
      "cell_type": "code",
      "execution_count": null,
      "metadata": {
        "colab": {
          "base_uri": "https://localhost:8080/"
        },
        "id": "-h6xeDyEM4vc",
        "outputId": "690ca78d-2abb-439d-e3fc-616307c6f65f"
      },
      "outputs": [
        {
          "output_type": "stream",
          "name": "stderr",
          "text": [
            "/usr/local/lib/python3.10/dist-packages/ipykernel/ipkernel.py:283: DeprecationWarning: `should_run_async` will not call `transform_cell` automatically in the future. Please pass the result to `transformed_cell` argument and any exception that happen during thetransform in `preprocessing_exc_tuple` in IPython 7.17 and above.\n",
            "  and should_run_async(code)\n"
          ]
        },
        {
          "output_type": "stream",
          "name": "stdout",
          "text": [
            "[[(0, 2), (1, 1), (2, 1), (3, 1), (4, 1), (5, 1), (6, 1), (7, 3), (8, 3), (9, 1), (10, 2), (11, 1), (12, 1), (13, 1), (14, 1), (15, 1), (16, 1), (17, 1), (18, 1), (19, 1), (20, 1), (21, 1), (22, 1), (23, 1), (24, 1), (25, 1), (26, 1), (27, 1), (28, 1), (29, 1), (30, 1), (31, 1), (32, 1), (33, 1), (34, 1), (35, 1), (36, 1), (37, 1), (38, 1), (39, 1), (40, 1), (41, 1), (42, 1), (43, 1), (44, 2), (45, 1), (46, 1), (47, 2), (48, 1), (49, 1), (50, 1), (51, 1), (52, 2), (53, 1), (54, 1), (55, 2), (56, 2), (57, 1), (58, 2), (59, 1), (60, 2), (61, 1), (62, 1), (63, 1), (64, 1), (65, 1), (66, 1), (67, 1), (68, 2), (69, 2), (70, 3), (71, 2), (72, 3), (73, 1), (74, 1), (75, 1), (76, 1), (77, 2), (78, 1), (79, 1), (80, 1), (81, 1), (82, 3), (83, 1), (84, 1), (85, 1), (86, 2), (87, 1), (88, 1), (89, 1), (90, 1), (91, 1), (92, 1)], [(11, 1), (17, 6), (25, 1), (35, 2), (43, 5), (50, 1), (65, 1), (92, 1), (93, 1), (94, 1), (95, 1), (96, 1), (97, 1), (98, 2), (99, 1), (100, 1), (101, 1), (102, 1), (103, 1), (104, 1), (105, 1), (106, 1), (107, 1), (108, 1), (109, 1), (110, 1), (111, 1), (112, 1), (113, 1), (114, 1), (115, 1), (116, 1), (117, 2), (118, 1), (119, 1), (120, 1), (121, 1), (122, 1), (123, 1), (124, 1), (125, 1), (126, 1), (127, 1), (128, 1), (129, 2), (130, 1), (131, 1), (132, 1), (133, 1), (134, 1), (135, 1), (136, 1), (137, 1), (138, 1), (139, 1), (140, 1), (141, 1), (142, 1), (143, 1), (144, 3), (145, 1), (146, 3), (147, 1), (148, 1), (149, 4), (150, 1), (151, 1), (152, 2), (153, 1), (154, 2), (155, 1), (156, 1), (157, 1), (158, 1), (159, 1), (160, 1), (161, 1), (162, 1), (163, 1), (164, 1), (165, 1), (166, 1), (167, 2), (168, 1), (169, 1), (170, 1), (171, 1), (172, 1), (173, 1), (174, 1), (175, 1), (176, 4), (177, 2), (178, 1), (179, 1), (180, 1), (181, 1), (182, 1), (183, 1)], [(11, 1), (28, 1), (35, 1), (36, 1), (44, 4), (47, 3), (60, 2), (72, 9), (79, 4), (82, 10), (98, 2), (102, 2), (107, 1), (113, 1), (138, 2), (145, 1), (154, 1), (184, 2), (185, 1), (186, 1), (187, 1), (188, 1), (189, 1), (190, 1), (191, 1), (192, 1), (193, 3), (194, 1), (195, 1), (196, 1), (197, 2), (198, 1), (199, 1), (200, 1), (201, 1), (202, 1), (203, 1), (204, 1), (205, 1), (206, 1), (207, 1), (208, 1), (209, 1), (210, 1), (211, 1), (212, 2), (213, 2), (214, 2), (215, 6), (216, 1), (217, 1), (218, 1), (219, 1), (220, 1), (221, 1), (222, 1), (223, 1), (224, 1), (225, 1), (226, 1), (227, 1), (228, 2), (229, 1), (230, 1), (231, 1), (232, 1), (233, 2), (234, 1), (235, 1), (236, 1), (237, 1), (238, 1), (239, 1), (240, 1), (241, 1), (242, 1), (243, 1), (244, 1), (245, 1), (246, 2), (247, 1), (248, 1)], [(17, 5), (20, 4), (35, 3), (43, 1), (79, 2), (82, 1), (84, 1), (92, 1), (94, 1), (97, 1), (98, 1), (99, 1), (102, 2), (110, 1), (113, 1), (117, 1), (123, 1), (128, 1), (129, 3), (137, 1), (142, 2), (145, 1), (152, 1), (154, 1), (165, 1), (172, 1), (173, 1), (176, 1), (203, 1), (225, 1), (227, 1), (232, 2), (233, 2), (241, 1), (248, 1), (249, 1), (250, 1), (251, 1), (252, 1), (253, 1), (254, 1), (255, 1), (256, 1), (257, 1), (258, 1), (259, 2), (260, 1), (261, 1), (262, 1), (263, 1), (264, 1), (265, 1), (266, 3), (267, 1), (268, 1), (269, 1), (270, 1), (271, 1), (272, 1), (273, 2), (274, 2), (275, 1), (276, 1), (277, 1), (278, 1), (279, 1), (280, 1), (281, 1), (282, 1), (283, 3), (284, 1), (285, 1), (286, 3), (287, 1), (288, 1), (289, 1), (290, 1), (291, 1), (292, 1), (293, 1), (294, 1), (295, 1), (296, 1), (297, 1), (298, 1), (299, 1), (300, 3), (301, 2), (302, 1), (303, 1), (304, 1), (305, 1), (306, 1), (307, 2), (308, 1), (309, 1), (310, 1), (311, 1), (312, 1), (313, 1), (314, 1), (315, 1), (316, 1), (317, 1), (318, 3), (319, 2), (320, 1), (321, 1), (322, 1), (323, 1), (324, 1), (325, 1), (326, 1), (327, 1), (328, 1), (329, 1), (330, 1), (331, 1), (332, 1), (333, 1), (334, 1), (335, 1), (336, 1), (337, 1), (338, 1), (339, 1), (340, 2), (341, 1), (342, 1), (343, 1), (344, 1), (345, 1)], [(3, 3), (17, 7), (35, 2), (36, 2), (43, 7), (65, 1), (79, 4), (93, 1), (102, 1), (111, 1), (124, 2), (142, 2), (145, 1), (165, 1), (218, 1), (220, 1), (260, 1), (301, 1), (302, 1), (311, 1), (312, 2), (322, 2), (331, 3), (332, 1), (346, 2), (347, 1), (348, 1), (349, 1), (350, 2), (351, 1), (352, 1), (353, 1), (354, 2), (355, 2), (356, 1), (357, 1), (358, 1), (359, 1), (360, 1), (361, 1), (362, 1), (363, 1), (364, 1), (365, 1), (366, 1), (367, 1), (368, 1), (369, 1), (370, 2), (371, 1), (372, 1), (373, 1), (374, 1), (375, 1), (376, 1), (377, 1), (378, 2), (379, 1), (380, 1), (381, 1), (382, 1), (383, 1), (384, 1), (385, 2), (386, 1), (387, 1), (388, 1), (389, 1), (390, 1), (391, 1), (392, 2), (393, 1), (394, 1), (395, 1), (396, 1), (397, 1), (398, 1), (399, 1), (400, 1), (401, 1), (402, 1)], [(1, 1), (17, 4), (20, 1), (25, 1), (42, 2), (43, 1), (44, 2), (62, 1), (65, 1), (79, 1), (86, 1), (102, 1), (135, 1), (137, 1), (154, 1), (156, 1), (170, 1), (210, 1), (212, 2), (213, 4), (217, 2), (231, 1), (232, 1), (248, 3), (250, 1), (281, 1), (373, 1), (378, 1), (383, 1), (387, 1), (401, 1), (403, 1), (404, 1), (405, 1), (406, 1), (407, 1), (408, 1), (409, 1), (410, 1), (411, 2), (412, 1), (413, 2), (414, 1), (415, 1), (416, 1), (417, 1), (418, 1), (419, 1), (420, 1), (421, 1), (422, 2), (423, 1), (424, 1), (425, 5), (426, 1), (427, 1), (428, 1), (429, 1), (430, 1), (431, 1), (432, 2), (433, 1), (434, 1), (435, 4), (436, 1), (437, 1), (438, 1), (439, 1), (440, 1), (441, 1), (442, 1), (443, 1), (444, 1), (445, 2), (446, 1), (447, 2), (448, 1), (449, 1), (450, 1), (451, 2), (452, 1), (453, 1), (454, 1), (455, 1), (456, 1), (457, 1), (458, 1), (459, 1), (460, 1)], [(17, 6), (28, 1), (43, 3), (50, 1), (79, 3), (82, 4), (93, 1), (102, 1), (130, 1), (145, 1), (156, 1), (165, 2), (170, 1), (195, 1), (206, 1), (209, 1), (210, 1), (213, 5), (225, 1), (233, 3), (260, 1), (291, 1), (309, 1), (317, 1), (322, 2), (346, 1), (388, 1), (394, 1), (397, 1), (461, 1), (462, 1), (463, 1), (464, 1), (465, 1), (466, 1), (467, 1), (468, 1), (469, 1), (470, 1), (471, 2), (472, 1), (473, 3), (474, 1), (475, 1), (476, 1), (477, 2), (478, 1), (479, 4), (480, 6), (481, 2), (482, 1), (483, 4), (484, 1), (485, 1), (486, 1), (487, 1), (488, 1), (489, 1), (490, 1), (491, 1), (492, 1), (493, 5), (494, 1), (495, 1), (496, 1), (497, 2), (498, 1), (499, 1), (500, 1), (501, 2), (502, 1), (503, 1), (504, 1), (505, 1), (506, 2), (507, 1), (508, 3), (509, 1), (510, 1), (511, 1), (512, 3), (513, 2), (514, 1)], [(0, 1), (17, 3), (21, 1), (25, 1), (27, 1), (33, 1), (34, 1), (43, 2), (44, 1), (45, 4), (60, 1), (62, 3), (79, 1), (93, 1), (102, 2), (145, 1), (154, 1), (156, 1), (170, 1), (181, 2), (191, 1), (213, 2), (220, 1), (232, 3), (248, 1), (266, 1), (298, 1), (307, 1), (313, 1), (340, 1), (359, 1), (364, 1), (378, 1), (383, 2), (392, 2), (412, 1), (425, 1), (453, 1), (491, 1), (515, 1), (516, 1), (517, 1), (518, 1), (519, 2), (520, 1), (521, 2), (522, 1), (523, 1), (524, 1), (525, 1), (526, 1), (527, 1), (528, 1), (529, 1), (530, 1), (531, 1), (532, 1), (533, 1), (534, 1), (535, 3), (536, 1), (537, 1), (538, 1), (539, 1), (540, 1), (541, 1), (542, 1), (543, 2), (544, 1), (545, 1), (546, 1), (547, 3), (548, 1), (549, 1), (550, 1), (551, 1), (552, 2), (553, 1), (554, 3), (555, 4), (556, 1), (557, 6), (558, 3), (559, 1), (560, 1), (561, 1), (562, 1), (563, 1), (564, 1), (565, 1), (566, 1), (567, 1), (568, 1), (569, 2), (570, 1), (571, 2), (572, 1), (573, 1), (574, 1), (575, 2), (576, 1), (577, 1), (578, 1), (579, 1), (580, 1), (581, 1), (582, 1), (583, 1), (584, 2), (585, 4), (586, 2)], [(8, 5), (17, 3), (43, 6), (44, 3), (55, 3), (56, 3), (65, 2), (92, 2), (98, 1), (99, 1), (100, 1), (113, 1), (120, 2), (123, 1), (128, 1), (137, 3), (145, 2), (165, 1), (170, 1), (171, 1), (176, 2), (177, 1), (200, 1), (226, 2), (244, 1), (247, 1), (277, 1), (313, 1), (322, 2), (334, 2), (354, 1), (358, 1), (360, 1), (377, 1), (378, 1), (382, 1), (395, 1), (432, 1), (451, 1), (471, 1), (475, 1), (476, 1), (514, 1), (557, 1), (561, 1), (572, 1), (587, 2), (588, 1), (589, 1), (590, 1), (591, 1), (592, 1), (593, 5), (594, 1), (595, 1), (596, 1), (597, 1), (598, 1), (599, 1), (600, 1), (601, 1), (602, 1), (603, 1), (604, 1), (605, 1), (606, 1), (607, 1), (608, 1), (609, 1), (610, 1), (611, 1), (612, 1), (613, 1), (614, 2), (615, 1), (616, 1), (617, 1), (618, 2), (619, 7), (620, 3), (621, 1), (622, 2), (623, 1), (624, 1), (625, 1), (626, 1), (627, 1), (628, 1), (629, 1), (630, 1), (631, 1), (632, 1), (633, 1), (634, 2), (635, 2), (636, 3), (637, 1), (638, 1), (639, 1), (640, 2), (641, 1), (642, 1), (643, 1), (644, 1), (645, 1)], [(7, 4), (8, 8), (17, 9), (25, 1), (34, 1), (35, 6), (43, 4), (44, 2), (45, 1), (54, 1), (55, 1), (56, 1), (72, 2), (79, 2), (82, 2), (99, 1), (107, 2), (122, 1), (135, 1), (156, 2), (173, 1), (176, 1), (238, 1), (250, 1), (258, 1), (288, 2), (323, 1), (339, 1), (342, 2), (376, 1), (378, 3), (382, 1), (383, 1), (406, 1), (418, 1), (423, 1), (426, 1), (431, 1), (452, 1), (453, 1), (464, 1), (534, 1), (557, 2), (590, 1), (593, 2), (608, 1), (617, 1), (646, 1), (647, 1), (648, 1), (649, 1), (650, 1), (651, 1), (652, 1), (653, 1), (654, 1), (655, 1), (656, 1), (657, 1), (658, 1), (659, 1), (660, 2), (661, 2), (662, 1), (663, 1), (664, 1), (665, 1), (666, 1), (667, 1), (668, 1), (669, 1), (670, 1), (671, 1), (672, 1), (673, 1), (674, 1), (675, 1), (676, 1), (677, 1), (678, 1), (679, 1), (680, 1), (681, 1), (682, 1), (683, 2), (684, 1), (685, 2), (686, 1), (687, 1), (688, 1), (689, 1), (690, 1), (691, 1), (692, 1), (693, 1), (694, 1), (695, 1), (696, 1), (697, 1), (698, 1), (699, 1), (700, 1), (701, 1), (702, 1), (703, 1), (704, 1), (705, 2), (706, 2), (707, 2), (708, 1), (709, 1), (710, 1), (711, 1), (712, 1), (713, 1), (714, 1), (715, 1), (716, 1), (717, 1), (718, 1), (719, 1), (720, 1), (721, 1)], [(2, 1), (11, 2), (17, 6), (21, 1), (25, 2), (35, 2), (36, 1), (43, 5), (44, 1), (62, 2), (65, 1), (72, 2), (79, 7), (82, 4), (91, 1), (92, 1), (99, 1), (102, 2), (110, 3), (113, 1), (115, 1), (119, 1), (123, 1), (128, 1), (145, 2), (154, 3), (165, 1), (172, 1), (173, 1), (180, 1), (213, 1), (232, 6), (247, 1), (248, 1), (255, 1), (277, 1), (281, 1), (291, 2), (298, 1), (301, 3), (306, 1), (317, 1), (318, 1), (322, 1), (323, 1), (348, 1), (381, 1), (393, 1), (395, 1), (408, 1), (461, 1), (572, 1), (588, 1), (590, 1), (591, 1), (633, 1), (655, 1), (689, 1), (722, 1), (723, 1), (724, 1), (725, 1), (726, 2), (727, 1), (728, 1), (729, 2), (730, 3), (731, 2), (732, 1), (733, 1), (734, 2), (735, 1), (736, 1), (737, 1), (738, 1), (739, 1), (740, 1), (741, 4), (742, 5), (743, 1), (744, 1), (745, 1), (746, 1), (747, 1), (748, 2), (749, 1), (750, 1), (751, 1), (752, 1), (753, 2), (754, 1), (755, 1), (756, 1), (757, 1), (758, 1), (759, 1), (760, 1), (761, 2), (762, 1), (763, 3), (764, 1), (765, 1), (766, 1), (767, 2), (768, 1), (769, 1), (770, 1), (771, 1), (772, 8), (773, 1)], [(2, 1), (17, 1), (25, 1), (41, 1), (45, 4), (47, 1), (72, 1), (82, 1), (99, 1), (113, 1), (123, 1), (145, 1), (156, 2), (165, 1), (170, 2), (173, 1), (176, 1), (202, 3), (203, 1), (210, 1), (250, 1), (258, 1), (277, 1), (281, 1), (302, 1), (331, 1), (341, 1), (346, 1), (378, 1), (398, 2), (399, 1), (432, 1), (437, 1), (442, 1), (452, 1), (583, 3), (590, 1), (671, 1), (689, 1), (774, 1), (775, 1), (776, 1), (777, 2), (778, 1), (779, 2), (780, 1), (781, 1), (782, 3), (783, 1), (784, 2), (785, 1), (786, 1), (787, 1), (788, 1), (789, 1), (790, 1), (791, 1), (792, 1), (793, 1), (794, 1), (795, 2), (796, 1), (797, 1), (798, 1), (799, 2), (800, 1)], [(5, 1), (17, 1), (25, 1), (41, 1), (43, 1), (44, 2), (62, 2), (79, 1), (93, 1), (99, 1), (110, 2), (140, 2), (145, 1), (151, 1), (152, 3), (165, 3), (173, 1), (185, 1), (186, 1), (218, 1), (219, 1), (225, 1), (248, 1), (260, 2), (267, 2), (277, 1), (284, 1), (299, 1), (304, 1), (358, 1), (362, 1), (377, 1), (422, 1), (427, 1), (485, 4), (508, 2), (518, 1), (534, 2), (543, 1), (587, 1), (592, 1), (633, 1), (644, 1), (689, 1), (699, 1), (730, 1), (731, 1), (739, 1), (754, 1), (763, 1), (781, 1), (801, 1), (802, 1), (803, 1), (804, 1), (805, 1), (806, 1), (807, 1), (808, 1), (809, 1), (810, 1), (811, 1), (812, 1), (813, 1), (814, 1), (815, 1), (816, 1), (817, 1), (818, 1), (819, 1), (820, 1), (821, 1), (822, 1), (823, 2), (824, 1), (825, 1), (826, 1), (827, 1), (828, 1), (829, 1), (830, 1), (831, 3), (832, 1), (833, 2), (834, 2), (835, 1), (836, 2), (837, 1), (838, 1), (839, 1), (840, 2), (841, 1), (842, 2), (843, 1), (844, 1), (845, 1), (846, 1), (847, 3), (848, 3), (849, 1), (850, 1), (851, 1), (852, 1), (853, 1), (854, 2), (855, 1), (856, 1)]]\n"
          ]
        }
      ],
      "source": [
        "import gensim.corpora as corpora\n",
        "import numpy as np\n",
        "\n",
        "# O BoW atribui peso igual a todas as palavras dentro de um documento, independentemente de sua importância relativa no corpus.\n",
        "# Assuming data_words is a list of tokenized documents (one entry per document)\n",
        "\n",
        "#random seed- para poder ser reproduzido novamente\n",
        "np.random.seed(1)\n",
        "\n",
        "#\n",
        "np.random.shuffle(data_words)\n",
        "\n",
        "# Create a dicionario\n",
        "id2word = corpora.Dictionary(data_words)\n",
        "\n",
        "# criar a corpus\n",
        "texts = data_words\n",
        "corpus = [id2word.doc2bow(text) for text in texts]\n",
        "print(corpus)"
      ]
    },
    {
      "cell_type": "markdown",
      "metadata": {
        "id": "2fVF4yWfOXEl"
      },
      "source": [
        "#9.LDA model training\n",
        "------------------------------------------\n",
        "####LDA, being a probabilistic model, involves a certain degree of randomness in its parameter initialization.\n",
        "#####Setting the random seed ensures that this randomness is controlled and reproducible."
      ]
    },
    {
      "cell_type": "markdown",
      "metadata": {
        "id": "dRFiJQEEW-rP"
      },
      "source": [
        "#https://www.analyticsvidhya.com/blog/2021/06/part-2-topic-modeling-and-latent-dirichlet-allocation-lda-using-gensim-and-sklearn/"
      ]
    },
    {
      "cell_type": "code",
      "execution_count": null,
      "metadata": {
        "id": "qb-doWCEsu3k"
      },
      "outputs": [],
      "source": [
        "#https://www.machinelearningplus.com/nlp/topic-modeling-gensim-python/"
      ]
    },
    {
      "cell_type": "code",
      "execution_count": null,
      "metadata": {
        "id": "PoOaHTT2M4ml"
      },
      "outputs": [],
      "source": [
        "#https://medium.com/somos-tera/como-modelar-t%C3%B3picos-atrav%C3%A9s-de-latent-dirichlet-allocation-lda-atrav%C3%A9s-da-biblioteca-gensim-1fa17357ad4b\n",
        "#https://blogdozouza.wordpress.com/2019/04/01/uma-introducao-a-modelagem-de-topicos-utilizando-analise-semantica-latente-em-python/"
      ]
    },
    {
      "cell_type": "code",
      "execution_count": null,
      "metadata": {
        "colab": {
          "base_uri": "https://localhost:8080/"
        },
        "id": "JGYK5l77LcDK",
        "outputId": "ba4a4642-968d-4533-e66e-f3d7b7238984"
      },
      "outputs": [
        {
          "output_type": "stream",
          "name": "stderr",
          "text": [
            "/usr/local/lib/python3.10/dist-packages/ipykernel/ipkernel.py:283: DeprecationWarning: `should_run_async` will not call `transform_cell` automatically in the future. Please pass the result to `transformed_cell` argument and any exception that happen during thetransform in `preprocessing_exc_tuple` in IPython 7.17 and above.\n",
            "  and should_run_async(code)\n"
          ]
        }
      ],
      "source": [
        "import gensim\n",
        "from pprint import pprint\n",
        "\n",
        "\n",
        "seed = 54\n",
        "\n",
        "# Building LDA model\n",
        "num_topics = 11\n",
        "lda_model = gensim.models.LdaMulticore(corpus=corpus, id2word=id2word, num_topics=num_topics,random_state=seed,passes=10)\n",
        "\n"
      ]
    },
    {
      "cell_type": "markdown",
      "metadata": {
        "id": "R-fhXtwqPySZ"
      },
      "source": [
        "#10.Coherence Score"
      ]
    },
    {
      "cell_type": "code",
      "execution_count": null,
      "metadata": {
        "colab": {
          "base_uri": "https://localhost:8080/"
        },
        "id": "R5iZVOI9M4fW",
        "outputId": "5589a96b-f197-42c6-ec62-e740eb22e33f"
      },
      "outputs": [
        {
          "output_type": "stream",
          "name": "stderr",
          "text": [
            "/usr/local/lib/python3.10/dist-packages/ipykernel/ipkernel.py:283: DeprecationWarning: `should_run_async` will not call `transform_cell` automatically in the future. Please pass the result to `transformed_cell` argument and any exception that happen during thetransform in `preprocessing_exc_tuple` in IPython 7.17 and above.\n",
            "  and should_run_async(code)\n"
          ]
        },
        {
          "output_type": "stream",
          "name": "stdout",
          "text": [
            "Coherence Score: 0.5396224436919831\n"
          ]
        }
      ],
      "source": [
        "# o valor resultado da variavel coherence_lda quanto mais proximo de 1 ,melhor\n",
        "#mais coesos e interpretáveis.\n",
        "from gensim.models import CoherenceModel\n",
        "#ma métrica comum é a coerência do tópico (c_v), que pode ajudar a avaliar a interpretabilidade dos tópicos.\n",
        "\n",
        "coherence_model_lda = CoherenceModel(model=lda_model, texts=texts, dictionary=id2word, coherence='c_v')\n",
        "coherence_lda = coherence_model_lda.get_coherence()\n",
        "print(f'Coherence Score: {coherence_lda}')\n"
      ]
    },
    {
      "cell_type": "markdown",
      "metadata": {
        "id": "kWWEfdIa07us"
      },
      "source": [
        "#10.0Print of topics"
      ]
    },
    {
      "cell_type": "code",
      "execution_count": null,
      "metadata": {
        "colab": {
          "base_uri": "https://localhost:8080/"
        },
        "id": "-WDupUOCLb_7",
        "outputId": "f4de0f50-47a1-4da9-8af7-c83dcb0f91ec"
      },
      "outputs": [
        {
          "output_type": "stream",
          "name": "stdout",
          "text": [
            "[(0,\n",
            "  '0.024*\"urban\" + 0.021*\"temporal\" + 0.021*\"data\" + 0.018*\"spatial\" + '\n",
            "  '0.015*\"flows\" + 0.015*\"time\" + 0.015*\"missing\" + 0.012*\"models\" + '\n",
            "  '0.012*\"flow\" + 0.009*\"inference\"'),\n",
            " (1,\n",
            "  '0.050*\"time\" + 0.045*\"series\" + 0.030*\"mssa\" + 0.020*\"model\" + '\n",
            "  '0.020*\"temporal\" + 0.015*\"error\" + 0.015*\"multivariate\" + 0.010*\"variant\" + '\n",
            "  '0.010*\"analyze\" + 0.010*\"scaling\"'),\n",
            " (2,\n",
            "  '0.036*\"data\" + 0.022*\"method\" + 0.020*\"missing\" + 0.013*\"li\" + '\n",
            "  '0.011*\"query\" + 0.011*\"measurements\" + 0.009*\"temporal\" + 0.009*\"time\" + '\n",
            "  '0.009*\"mbi\" + 0.009*\"interpolation\"'),\n",
            " (3,\n",
            "  '0.037*\"data\" + 0.033*\"clinical\" + 0.025*\"imputation\" + 0.017*\"challenge\" + '\n",
            "  '0.017*\"missing\" + 0.013*\"knowledge\" + 0.009*\"care\" + 0.009*\"better\" + '\n",
            "  '0.008*\"shared\" + 0.008*\"sectional\"'),\n",
            " (4,\n",
            "  '0.038*\"missing\" + 0.029*\"data\" + 0.021*\"modalities\" + 0.015*\"clinical\" + '\n",
            "  '0.015*\"care\" + 0.012*\"temporal\" + 0.012*\"problem\" + 0.009*\"methods\" + '\n",
            "  '0.009*\"real\" + 0.009*\"model\"'),\n",
            " (5,\n",
            "  '0.001*\"data\" + 0.001*\"clinical\" + 0.001*\"imputation\" + 0.001*\"missing\" + '\n",
            "  '0.001*\"temporal\" + 0.001*\"spatial\" + 0.001*\"different\" + 0.001*\"time\" + '\n",
            "  '0.001*\"patterns\" + 0.001*\"locations\"'),\n",
            " (6,\n",
            "  '0.019*\"motion\" + 0.014*\"skeletal\" + 0.014*\"severe\" + 0.014*\"identity\" + '\n",
            "  '0.014*\"multi\" + 0.014*\"propose\" + 0.010*\"proposed\" + 0.010*\"model\" + '\n",
            "  '0.010*\"encoding\" + 0.010*\"dataset\"'),\n",
            " (7,\n",
            "  '0.016*\"clinical\" + 0.016*\"challenge\" + 0.016*\"series\" + 0.016*\"time\" + '\n",
            "  '0.016*\"sepsis\" + 0.011*\"patient\" + 0.011*\"utility\" + 0.011*\"cohort\" + '\n",
            "  '0.011*\"place\" + 0.011*\"score\"'),\n",
            " (8,\n",
            "  '0.001*\"data\" + 0.001*\"model\" + 0.001*\"series\" + 0.001*\"temporal\" + '\n",
            "  '0.001*\"time\" + 0.001*\"missing\" + 0.001*\"different\" + 0.001*\"proposed\" + '\n",
            "  '0.001*\"well\" + 0.001*\"method\"'),\n",
            " (9,\n",
            "  '0.021*\"data\" + 0.015*\"learning\" + 0.013*\"spatial\" + 0.010*\"models\" + '\n",
            "  '0.010*\"lakes\" + 0.010*\"wl\" + 0.010*\"coverage\" + 0.010*\"based\" + '\n",
            "  '0.010*\"different\" + 0.008*\"imputation\"'),\n",
            " (10,\n",
            "  '0.003*\"well\" + 0.003*\"time\" + 0.003*\"results\" + 0.003*\"spatio\" + '\n",
            "  '0.003*\"based\" + 0.002*\"mssa\" + 0.002*\"temporal\" + 0.002*\"series\" + '\n",
            "  '0.002*\"model\" + 0.002*\"method\"')]\n"
          ]
        },
        {
          "output_type": "stream",
          "name": "stderr",
          "text": [
            "/usr/local/lib/python3.10/dist-packages/ipykernel/ipkernel.py:283: DeprecationWarning: `should_run_async` will not call `transform_cell` automatically in the future. Please pass the result to `transformed_cell` argument and any exception that happen during thetransform in `preprocessing_exc_tuple` in IPython 7.17 and above.\n",
            "  and should_run_async(code)\n"
          ]
        }
      ],
      "source": [
        "# Printing the topics\n",
        "pprint(lda_model.print_topics())\n"
      ]
    },
    {
      "cell_type": "markdown",
      "metadata": {
        "id": "pdkTwkdMP1qo"
      },
      "source": [
        "#10.1.Visualization:"
      ]
    },
    {
      "cell_type": "code",
      "execution_count": null,
      "metadata": {
        "colab": {
          "base_uri": "https://localhost:8080/"
        },
        "id": "YBgIefs1dsK0",
        "outputId": "f9c10663-b1c9-4428-f738-5ee2c0bad186"
      },
      "outputs": [
        {
          "output_type": "stream",
          "name": "stderr",
          "text": [
            "/usr/local/lib/python3.10/dist-packages/ipykernel/ipkernel.py:283: DeprecationWarning: `should_run_async` will not call `transform_cell` automatically in the future. Please pass the result to `transformed_cell` argument and any exception that happen during thetransform in `preprocessing_exc_tuple` in IPython 7.17 and above.\n",
            "  and should_run_async(code)\n"
          ]
        }
      ],
      "source": [
        "import pyLDAvis.gensim as gensimvis"
      ]
    },
    {
      "cell_type": "code",
      "execution_count": null,
      "metadata": {
        "colab": {
          "base_uri": "https://localhost:8080/",
          "height": 968
        },
        "id": "J2fuKCSNbbVe",
        "outputId": "5236b8a8-295c-4353-c0be-f03c2ce62a78"
      },
      "outputs": [
        {
          "output_type": "stream",
          "name": "stderr",
          "text": [
            "/usr/local/lib/python3.10/dist-packages/ipykernel/ipkernel.py:283: DeprecationWarning: `should_run_async` will not call `transform_cell` automatically in the future. Please pass the result to `transformed_cell` argument and any exception that happen during thetransform in `preprocessing_exc_tuple` in IPython 7.17 and above.\n",
            "  and should_run_async(code)\n",
            "/usr/local/lib/python3.10/dist-packages/pandas/core/dtypes/cast.py:1641: DeprecationWarning: np.find_common_type is deprecated.  Please use `np.result_type` or `np.promote_types`.\n",
            "See https://numpy.org/devdocs/release/1.25.0-notes.html and the docs for more information.  (Deprecated NumPy 1.25)\n",
            "  return np.find_common_type(types, [])\n"
          ]
        },
        {
          "output_type": "execute_result",
          "data": {
            "text/plain": [
              "<IPython.core.display.HTML object>"
            ],
            "text/html": [
              "\n",
              "<link rel=\"stylesheet\" type=\"text/css\" href=\"https://cdn.jsdelivr.net/gh/bmabey/pyLDAvis@3.4.0/pyLDAvis/js/ldavis.v1.0.0.css\">\n",
              "\n",
              "\n",
              "<div id=\"ldavis_el55231384651271341769167004188\" style=\"background-color:white;\"></div>\n",
              "<script type=\"text/javascript\">\n",
              "\n",
              "var ldavis_el55231384651271341769167004188_data = {\"mdsDat\": {\"x\": [-0.07470360606994861, 0.13827355680875666, -0.0959628819757689, 0.0060289901421717125, 0.022919208746069158, 0.003444732348719669], \"y\": [0.12256555756856526, -0.010083250214332332, -0.10279983749421671, -0.06388907144333046, 0.04538384801682042, 0.00882275356649392], \"topics\": [1, 2, 3, 4, 5, 6], \"cluster\": [1, 1, 1, 1, 1, 1], \"Freq\": [24.61187439977778, 23.816497389191127, 21.03265600303765, 18.53209025766203, 11.884696889307419, 0.12218506102399065]}, \"tinfo\": {\"Term\": [\"series\", \"time\", \"clinical\", \"urban\", \"missing\", \"modalities\", \"mssa\", \"challenge\", \"li\", \"spatial\", \"measurements\", \"models\", \"multivariate\", \"flows\", \"query\", \"forecast\", \"care\", \"data\", \"model\", \"method\", \"flow\", \"interpolation\", \"mbi\", \"mobility\", \"variables\", \"different\", \"learning\", \"pmu\", \"inference\", \"error\", \"measurements\", \"pmu\", \"coverage\", \"lakes\", \"wl\", \"local\", \"traditional\", \"global\", \"gan\", \"deep\", \"lake\", \"hydrological\", \"monitoring\", \"level\", \"recovery\", \"correlation\", \"channels\", \"signals\", \"consecutive\", \"branch\", \"physical\", \"esc\", \"pretraining\", \"environment\", \"wls\", \"samples\", \"water\", \"introducing\", \"area\", \"reconstruction\", \"different\", \"learning\", \"well\", \"patterns\", \"spatial\", \"method\", \"data\", \"based\", \"proposed\", \"generator\", \"multiple\", \"models\", \"network\", \"temporal\", \"missing\", \"model\", \"imputation\", \"challenge\", \"identity\", \"severe\", \"skeletal\", \"sepsis\", \"interactions\", \"rits\", \"person\", \"encoding\", \"cohort\", \"onset\", \"build\", \"mae\", \"sequence\", \"score\", \"place\", \"outcomes\", \"triangulation\", \"joints\", \"occlusion\", \"tcn\", \"shared\", \"cross\", \"sectional\", \"range\", \"dacmi\", \"laboratory\", \"machine\", \"result\", \"motion\", \"clinical\", \"dataset\", \"imputation\", \"model\", \"data\", \"series\", \"patients\", \"patient\", \"multi\", \"missing\", \"time\", \"first\", \"knowledge\", \"temporal\", \"proposed\", \"propose\", \"capture\", \"challenging\", \"joint\", \"learning\", \"art\", \"care\", \"trajectory\", \"models\", \"prediction\", \"li\", \"query\", \"interpolation\", \"mbi\", \"mobility\", \"hstq\", \"mdi\", \"waypoints\", \"failure\", \"mg\", \"map\", \"significant\", \"web\", \"respond\", \"interpolate\", \"routing\", \"period\", \"gps\", \"services\", \"collected\", \"region\", \"older\", \"bayesian\", \"rate\", \"adults\", \"gaussian\", \"able\", \"approach\", \"path\", \"comparison\", \"points\", \"sensor\", \"missing\", \"data\", \"problem\", \"temporal\", \"task\", \"method\", \"trajectory\", \"accuracy\", \"location\", \"propose\", \"spatio\", \"imputation\", \"time\", \"methods\", \"based\", \"multi\", \"challenging\", \"knowledge\", \"urban\", \"modalities\", \"flows\", \"flow\", \"space\", \"modality\", \"multimodal\", \"solving\", \"latent\", \"mix\", \"cmcn\", \"ast\", \"metric\", \"uncensored\", \"applications\", \"correlations\", \"satcnet\", \"ie\", \"similar\", \"baselines\", \"stmcnet\", \"care\", \"short\", \"completion\", \"ehr\", \"conducts\", \"learns\", \"healthcare\", \"underdetermined\", \"ill\", \"various\", \"sample\", \"related\", \"reasons\", \"end\", \"spatial\", \"missing\", \"patient\", \"information\", \"temporal\", \"patients\", \"clinical\", \"data\", \"methods\", \"world\", \"locations\", \"real\", \"model\", \"capture\", \"problem\", \"time\", \"network\", \"series\", \"based\", \"imputation\", \"proposed\", \"mssa\", \"forecast\", \"inference\", \"error\", \"subset\", \"failures\", \"domain\", \"mtsf\", \"vsf\", \"min\", \"scaling\", \"variant\", \"analyze\", \"factor\", \"variables\", \"resource\", \"robustness\", \"systematic\", \"variable\", \"non\", \"degrade\", \"literature\", \"even\", \"top\", \"absent\", \"studied\", \"present\", \"parametric\", \"restriction\", \"wrapper\", \"multivariate\", \"series\", \"time\", \"technique\", \"introduce\", \"forecasting\", \"models\", \"low\", \"matrix\", \"model\", \"prediction\", \"temporal\", \"datasets\", \"analysis\", \"spatio\", \"methods\", \"based\", \"method\", \"performance\", \"show\", \"top\", \"studied\", \"close\", \"even\", \"non\", \"formulate\", \"present\", \"shift\", \"significantly\", \"literature\", \"parametric\", \"degrade\", \"setting\", \"small\", \"robustness\", \"variable\", \"wrapper\", \"absent\", \"systematic\", \"resource\", \"sum\", \"neural\", \"confirm\", \"spectrum\", \"regularized\", \"lstm\", \"de\", \"univariate\", \"deepar\", \"ssa\", \"practically\", \"road\", \"returned\", \"sampled\", \"returns\", \"uses\", \"trajectories\", \"comparison\", \"receives\", \"define\", \"overlooked\", \"moving\", \"realistic\", \"grossly\", \"typically\", \"matching\", \"service\", \"analyse\", \"combination\", \"queries\", \"interpolated\", \"object\", \"researchers\", \"path\", \"inaccurate\", \"waypoint\", \"measures\", \"sampling\", \"containing\", \"every\", \"points\", \"data\", \"method\", \"routing\", \"missing\", \"li\", \"query\", \"interpolation\", \"interpolate\", \"find\", \"mbi\", \"temporal\", \"time\", \"respond\", \"hstq\", \"performance\", \"methods\", \"problem\", \"web\", \"based\", \"learning\", \"trajectory\", \"waypoints\", \"imputation\", \"significant\", \"model\", \"knowledge\", \"propose\", \"clinical\", \"measurements\", \"show\", \"network\", \"series\", \"spatial\", \"real\", \"first\", \"models\"], \"Freq\": [11.0, 17.0, 12.0, 6.0, 26.0, 5.0, 4.0, 5.0, 4.0, 9.0, 5.0, 7.0, 4.0, 4.0, 4.0, 2.0, 5.0, 38.0, 12.0, 10.0, 3.0, 3.0, 3.0, 3.0, 3.0, 5.0, 7.0, 3.0, 2.0, 2.0, 4.6009727414364034, 3.110225675593444, 3.099120328091054, 3.0826505022969966, 3.0802644743326373, 2.3599638009100006, 2.358013668324032, 2.358705533732583, 2.356658782041455, 2.35162026716093, 2.3492544101997352, 2.349116440538088, 2.351556123370866, 2.3355270339959584, 1.6200158644197782, 1.6191464941833769, 1.6170116960634346, 1.6157915520819983, 1.612721525400322, 1.6160811068324286, 1.6149169373847745, 1.6144596607430293, 1.61096442931464, 1.6138138860767095, 1.607820879326428, 1.607083124885677, 1.6039118397681134, 1.603255475325132, 1.6028162517312194, 1.5996583803307607, 3.848778686359808, 4.57068880412496, 3.8601817578689097, 2.3644026318664375, 4.620801644387488, 4.586088558201127, 9.15092817482837, 3.8464670893971262, 3.1127071124027728, 2.3629230887843025, 2.3506919975952876, 3.0917187801897774, 2.365756106178793, 3.137179581992417, 3.1241993397458625, 2.371663587875656, 2.382417959922979, 5.254449669090158, 2.3357689264614416, 2.3333649490682555, 2.332515280864899, 2.3276298350891547, 1.5993869866102541, 1.5962477231793823, 1.5976655935743242, 1.5978147198107968, 1.5948992433303382, 1.5947050278783876, 1.5952751819840632, 1.5964889797609005, 1.5933831916566714, 1.5929109260426073, 1.592958357554993, 1.5920099224986848, 1.5952387787862854, 1.5947030759642977, 1.5939230910939526, 1.5912869335197661, 1.5892274689634565, 1.5889601543288374, 1.5877004865708861, 1.5896995393861117, 1.5874865567866272, 1.5873475805034225, 1.5875094917771841, 1.586012178478781, 3.0747632105349183, 8.23543941329836, 2.3288964321421255, 5.27657422491696, 4.5609213199139615, 8.318096728882793, 3.8166900503371406, 2.345140846772943, 2.33388864761859, 2.3354316357066978, 4.6386180410301865, 3.8462389065964886, 2.335422071327657, 2.3361239796344044, 3.1216314005144215, 2.338777021265469, 2.365972845089378, 1.6120595936478666, 1.6074507340986688, 1.6005897560724833, 1.6136161475388997, 1.6112867332639496, 1.610562573136577, 1.6066618680192142, 1.6061856985769702, 1.6030324789603552, 4.382153957309352, 3.6778398939619397, 2.9625992575162385, 2.960325272656129, 2.966899695227731, 2.2546451291073546, 2.25700099259152, 2.2516083802231406, 2.255797290629866, 2.252294781656809, 1.5451459941565386, 1.5438988534301217, 1.542544839552305, 1.5414009520802243, 1.5402724060766513, 1.5396296157837959, 1.5435368637237672, 1.543874893159082, 1.5422078443732938, 1.5431912497422238, 1.541269946281734, 1.5423836679449519, 1.542785648895056, 1.5392047088189558, 1.5417769042466811, 1.5423526402558356, 2.2573578110163557, 2.2549442015552237, 0.8320945335540297, 0.8313845166014229, 0.8321290087641589, 2.2557429921739125, 10.861079852102032, 13.743785223408999, 2.973755090761885, 5.130915530067692, 2.983918727460018, 3.67768234225165, 2.269662013511399, 2.2609189278466317, 2.259736772891308, 2.984743374486304, 2.262337237991339, 3.0184353078411825, 2.973223138269594, 2.2695249745511363, 2.2658702575253598, 1.5690573103978172, 1.559058120451999, 1.5594440704293935, 5.555165006799089, 4.88160611603414, 3.5137281481071305, 2.835943587515422, 2.156504117196434, 2.156475107673865, 1.4767908030596884, 1.4775637321714838, 1.4762596705967388, 1.4765222751230298, 1.4757106160203701, 1.4760312395917987, 1.4754665411367671, 1.4766029246334176, 1.4761553274448813, 1.4744815843102796, 1.4747570988335252, 1.475120249453746, 1.4753345554031945, 1.4742344717803342, 1.4737624215387424, 3.5310882969533166, 2.1557884477181903, 2.1540138547250245, 0.7970582758098278, 0.7967274761231524, 0.7968453368012333, 0.7966071853279978, 0.7966248796179416, 0.7967352980624838, 1.4817003989604143, 1.4799100102062686, 1.4943755858528869, 1.4771823556732093, 1.474269860360222, 4.234003609499423, 7.690391018897052, 2.1745731008165934, 2.1698612556927506, 4.9568808149838866, 2.1642643923070817, 3.5440204687263472, 6.369201371486402, 2.868781152004843, 2.1604489566188483, 2.158625913166523, 2.1756441749168847, 2.9105618510905997, 2.156376687932375, 2.164231585726585, 2.9158607213700902, 2.1949300396617657, 1.5704596656705367, 1.5279195549992077, 1.5254277737046273, 1.5161140462545326, 3.60009470037687, 2.4323430968214286, 1.8492448606573828, 1.847623885216724, 1.2686431526461754, 1.267453086672496, 1.2674638983702435, 1.2661509102113633, 1.2646725322977517, 1.26429772677584, 1.2635112001153832, 1.2628366865396974, 1.262522660291609, 1.262461004393644, 1.8540096050754913, 0.6841445581171283, 0.6837250934653317, 0.6835789894417175, 0.6835412946036249, 0.6830719597784347, 0.6829330148519775, 0.682900044043982, 0.6827754660131802, 0.6827052386791629, 0.6828405797063709, 0.682662186693538, 0.68258991390319, 0.6826043782015279, 0.6827868134256809, 0.6826477710965413, 2.445905835930858, 5.945227526281487, 6.568699758720368, 1.2676057166758317, 1.2650698378393002, 1.269751692574678, 2.4513354510590935, 1.265781461836984, 1.2627370435955925, 2.4596314323252764, 1.2761046851321556, 2.47720443467487, 1.2743190017555421, 1.2698369199217863, 1.2753980286712747, 1.2820842358052753, 1.2778418619729293, 1.272638026262519, 1.2725044871849354, 1.271607213674579, 0.0024614394490724348, 0.002460486881951396, 0.0024602072452958898, 0.0024593921182141285, 0.0024591224954048354, 0.0024584598291316714, 0.0024580522655907903, 0.0024576997782040826, 0.002457751850204392, 0.0024571139682006055, 0.002457153022200837, 0.0024568155555834497, 0.0024568811462761467, 0.002456306601849659, 0.002455359041651727, 0.0024550458586114062, 0.0024545441649161206, 0.0024543744302228053, 0.002454119327490522, 0.0024522750273641898, 0.002451614864552579, 0.0024513953109743525, 0.0024510072744335872, 0.0024509852439719183, 0.0024502732595061533, 0.002450293036852425, 0.002450419712007023, 0.0024500925095820034, 0.0024498792146576604, 0.002449661163156366, 0.0024498156267342064, 0.002567093037007278, 0.0025640117765274497, 0.0025635248532553286, 0.002562665665250228, 0.00255726319521816, 0.0025549129455119013, 0.002551804897993452, 0.0025489068908993266, 0.0025485005790892223, 0.0025478449225084074, 0.002547664422930413, 0.0025455557572640498, 0.002545430083494073, 0.0025450866085689576, 0.002544834509990538, 0.0025432182752117135, 0.002541804320126397, 0.0025409806812753542, 0.002538259919259204, 0.002537551439639614, 0.002536902542404993, 0.00253664794036502, 0.0025363077199399234, 0.0025363007102475743, 0.002531983490798871, 0.002531607721219717, 0.0025292036470900624, 0.002526107616187069, 0.002525649983415122, 0.002525120250950439, 0.0045463297410635525, 0.003466683657077941, 0.0026859333583280887, 0.0038300560946195046, 0.0029863116934957246, 0.002924231104242604, 0.002841360268173767, 0.0026718674092445945, 0.0027491805606650573, 0.0028165069032570086, 0.0032909619354579487, 0.003218561076297414, 0.002644838285891844, 0.00270714543841554, 0.002870423454038591, 0.002930627949203652, 0.002856949823958613, 0.0026318490756224336, 0.002922415593924135, 0.002854229312288618, 0.0027486305501617926, 0.0026757673016523592, 0.0029346192179581132, 0.002622124379218555, 0.002893868872177761, 0.002808796742365088, 0.002828499735828197, 0.0028816507280667735, 0.0027387008202566965, 0.002744779975946628, 0.0027721480679936982, 0.0027964787101381226, 0.0027818279524357723, 0.0027181809472887385, 0.0027123711640619445, 0.0027037081857028294], \"Total\": [11.0, 17.0, 12.0, 6.0, 26.0, 5.0, 4.0, 5.0, 4.0, 9.0, 5.0, 7.0, 4.0, 4.0, 4.0, 2.0, 5.0, 38.0, 12.0, 10.0, 3.0, 3.0, 3.0, 3.0, 3.0, 5.0, 7.0, 3.0, 2.0, 2.0, 5.11605546141155, 3.605812887331321, 3.612268527777197, 3.605663505274658, 3.605296496813905, 2.857452164333817, 2.855564432761871, 2.8573318684427575, 2.8574513981598004, 2.8514432845588007, 2.8505390300069373, 2.851486443660792, 2.8545939189491434, 2.8498050880496724, 2.097173314126728, 2.096696100247021, 2.0959279408672877, 2.095489697634373, 2.096280638112396, 2.1007493035831466, 2.1010494740035344, 2.100720619258275, 2.096329452825143, 2.100865144180985, 2.0962092720497445, 2.0965358873894884, 2.0965153843658353, 2.096563619555201, 2.0967593817105774, 2.094434279363866, 5.113837534928555, 7.293023916693897, 6.3931036816224545, 3.5474256905122092, 9.855783628840484, 10.566961917799883, 38.33020782800774, 9.083561750352768, 7.226560051213121, 4.297315352796697, 4.315508469750912, 7.462601426332183, 6.953808121750905, 18.827102724168746, 26.470496111310023, 12.453794229401295, 12.924908630088252, 5.80252642454633, 2.82951253100959, 2.829741204196548, 2.829615550572494, 2.824662693617828, 2.081993068687326, 2.079619971198102, 2.082176769290233, 2.082479323860004, 2.078925078337419, 2.0791529796285038, 2.080389385453875, 2.0820944883007613, 2.079024510219906, 2.07880315253386, 2.078870217313337, 2.077937476620062, 2.0821952319631323, 2.08196828066084, 2.0819594458313597, 2.0786314866104676, 2.077418730132977, 2.0772425672775805, 2.07669746519403, 2.0794862113669694, 2.07684635623587, 2.0768046571295025, 2.0773304311051968, 2.0764721552351313, 4.294143403470646, 12.24135849235392, 3.5810921093803496, 12.924908630088252, 12.453794229401295, 38.33020782800774, 11.613036148304289, 4.893309248314412, 4.892353448411265, 5.026766144671342, 26.470496111310023, 17.209255973100795, 7.026385558517651, 7.053110107482918, 18.827102724168746, 7.226560051213121, 8.432628538677783, 5.627722358765131, 4.2774786133181815, 2.8025997300479903, 7.293023916693897, 5.526004950106506, 5.528365621452109, 4.2345384882997585, 7.462601426332183, 4.01648274955511, 4.89517100554189, 4.17557887912107, 3.4573267242349943, 3.4585885893348025, 3.4667149705843934, 2.7413445426445056, 2.7463516040140035, 2.742961707769848, 2.749593621461035, 2.746659119395559, 2.024422878737108, 2.023161435182448, 2.0228486647766113, 2.02214897970127, 2.0209117652269444, 2.0201824538727857, 2.025565477648188, 2.0261774197105895, 2.0263369995038376, 2.0282804185980305, 2.026632128324674, 2.0282412120083464, 2.0290237073803215, 2.024630091353344, 2.02871798485902, 2.0296023803153433, 3.33791677678707, 3.4955575883246195, 1.305054672046946, 1.3042925752023546, 1.3056115611017494, 4.097683181176414, 26.470496111310023, 38.33020782800774, 6.288869892542796, 18.827102724168746, 6.944516653650209, 10.566961917799883, 4.2345384882997585, 4.249132775603141, 4.26218672411729, 8.432628538677783, 5.440066573854176, 12.924908630088252, 17.209255973100795, 8.94292041687658, 9.083561750352768, 5.026766144671342, 4.2774786133181815, 7.053110107482918, 6.10753919744369, 5.418163862027018, 4.034587887458348, 3.3472835169418684, 2.6580324429234348, 2.65814023424149, 1.9668981843794477, 1.967954525721083, 1.9666047836209377, 1.9674890620975627, 1.9668227223829942, 1.967382535342968, 1.966637345644195, 1.9681852889856382, 1.9681520185165124, 1.9662107152158153, 1.9666867250882478, 1.9672562720707436, 1.968345914981348, 1.9669978422060101, 1.9671763915100144, 5.528365621452109, 3.403707220666982, 3.404235740863586, 1.277433630765889, 1.2773282277232416, 1.277558816115487, 1.2775766520181973, 1.2776698827811865, 1.2779400158452459, 2.5596990647841205, 2.5595245054239317, 2.7215024766234457, 2.688397538058129, 2.6881621676710483, 9.855783628840484, 26.470496111310023, 4.892353448411265, 4.888933046712967, 18.827102724168746, 4.893309248314412, 12.24135849235392, 38.33020782800774, 8.94292041687658, 4.879843471040986, 4.890069386828239, 5.596845037217061, 12.453794229401295, 5.627722358765131, 6.288869892542796, 17.209255973100795, 6.953808121750905, 11.613036148304289, 9.083561750352768, 12.924908630088252, 7.226560051213121, 4.140291818026429, 2.9555014954696577, 2.3621080383833566, 2.363933693190573, 1.7704755243386991, 1.7709853551829078, 1.7710706046662406, 1.770709322654984, 1.7708826000544595, 1.7717118483250966, 1.7717024564857435, 1.7720459992967517, 1.7720167823490107, 1.772081444979575, 3.1162901151807794, 1.1790895443829508, 1.1789924157507348, 1.179126124030646, 1.1790859993774263, 1.178965987515419, 1.1791302177172065, 1.1791065872446607, 1.1790283054889683, 1.178967794717481, 1.1792339362765838, 1.179010240088659, 1.1791193327170966, 1.1791532738531472, 1.1795313664645737, 1.1792976871247882, 4.446078701224734, 11.613036148304289, 17.209255973100795, 2.4919524243775615, 2.4920238231524694, 2.527511490508666, 7.462601426332183, 3.2433308157154888, 3.2796323282510924, 12.453794229401295, 4.01648274955511, 18.827102724168746, 4.6264316860317525, 4.65912613390136, 5.440066573854176, 8.94292041687658, 9.083561750352768, 10.566961917799883, 6.203460036057106, 5.4076788916317655, 1.178967794717481, 1.179010240088659, 1.1790761535460739, 1.1790283054889683, 1.178965987515419, 1.1791445950424297, 1.1791193327170966, 1.1791714958249941, 1.1792184179806846, 1.1791065872446607, 1.1791532738531472, 1.1791302177172065, 1.1795052147181886, 1.179344425517229, 1.1789924157507348, 1.1790859993774263, 1.1792976871247882, 1.1792339362765838, 1.179126124030646, 1.1790895443829508, 1.1796216378724729, 1.1797004418756276, 1.17967138713833, 1.1796776413994936, 1.1793961712675143, 1.1794943587388744, 1.1796347431825587, 1.179583354894927, 1.179577603876371, 1.1794862844265757, 1.1796374063495678, 1.3035574298151296, 1.303748809583331, 1.30369318009686, 1.303799527659957, 1.3040210478772791, 1.3041402845248333, 1.3042925752023546, 1.3045207552520726, 1.3044710830934356, 1.3044743382290593, 1.3045525817211328, 1.3046145707902088, 1.304663093027672, 1.3046372678536688, 1.3046896571039674, 1.304759180592805, 1.3048393881624516, 1.3048165405585135, 1.3049925470188206, 1.305038757496241, 1.3050363592357317, 1.3050879642545452, 1.305054672046946, 1.3050768328854478, 1.305303105508719, 1.3052923414971325, 1.3054356011138444, 1.3056042804855736, 1.3055582513769541, 1.3056115611017494, 38.33020782800774, 10.566961917799883, 2.0201824538727857, 26.470496111310023, 4.89517100554189, 4.17557887912107, 3.4573267242349943, 2.0209117652269444, 2.7089779774631886, 3.4585885893348025, 18.827102724168746, 17.209255973100795, 2.02214897970127, 2.7413445426445056, 6.203460036057106, 8.94292041687658, 6.288869892542796, 2.0228486647766113, 9.083561750352768, 7.293023916693897, 4.2345384882997585, 2.742961707769848, 12.924908630088252, 2.023161435182448, 12.453794229401295, 7.053110107482918, 8.432628538677783, 12.24135849235392, 5.11605546141155, 5.4076788916317655, 6.953808121750905, 11.613036148304289, 9.855783628840484, 5.596845037217061, 7.026385558517651, 7.462601426332183], \"Category\": [\"Default\", \"Default\", \"Default\", \"Default\", \"Default\", \"Default\", \"Default\", \"Default\", \"Default\", \"Default\", \"Default\", \"Default\", \"Default\", \"Default\", \"Default\", \"Default\", \"Default\", \"Default\", \"Default\", \"Default\", \"Default\", \"Default\", \"Default\", \"Default\", \"Default\", \"Default\", \"Default\", \"Default\", \"Default\", \"Default\", \"Topic1\", \"Topic1\", \"Topic1\", \"Topic1\", \"Topic1\", \"Topic1\", \"Topic1\", \"Topic1\", \"Topic1\", \"Topic1\", \"Topic1\", \"Topic1\", \"Topic1\", \"Topic1\", \"Topic1\", \"Topic1\", \"Topic1\", \"Topic1\", \"Topic1\", \"Topic1\", \"Topic1\", \"Topic1\", \"Topic1\", \"Topic1\", \"Topic1\", \"Topic1\", \"Topic1\", \"Topic1\", \"Topic1\", \"Topic1\", \"Topic1\", \"Topic1\", \"Topic1\", \"Topic1\", \"Topic1\", \"Topic1\", \"Topic1\", \"Topic1\", \"Topic1\", \"Topic1\", \"Topic1\", \"Topic1\", \"Topic1\", \"Topic1\", \"Topic1\", \"Topic1\", \"Topic1\", \"Topic2\", \"Topic2\", \"Topic2\", \"Topic2\", \"Topic2\", \"Topic2\", \"Topic2\", \"Topic2\", \"Topic2\", \"Topic2\", \"Topic2\", \"Topic2\", \"Topic2\", \"Topic2\", \"Topic2\", \"Topic2\", \"Topic2\", \"Topic2\", \"Topic2\", \"Topic2\", \"Topic2\", \"Topic2\", \"Topic2\", \"Topic2\", \"Topic2\", \"Topic2\", \"Topic2\", \"Topic2\", \"Topic2\", \"Topic2\", \"Topic2\", \"Topic2\", \"Topic2\", \"Topic2\", \"Topic2\", \"Topic2\", \"Topic2\", \"Topic2\", \"Topic2\", \"Topic2\", \"Topic2\", \"Topic2\", \"Topic2\", \"Topic2\", \"Topic2\", \"Topic2\", \"Topic2\", \"Topic2\", \"Topic2\", \"Topic2\", \"Topic2\", \"Topic2\", \"Topic2\", \"Topic2\", \"Topic2\", \"Topic3\", \"Topic3\", \"Topic3\", \"Topic3\", \"Topic3\", \"Topic3\", \"Topic3\", \"Topic3\", \"Topic3\", \"Topic3\", \"Topic3\", \"Topic3\", \"Topic3\", \"Topic3\", \"Topic3\", \"Topic3\", \"Topic3\", \"Topic3\", \"Topic3\", \"Topic3\", \"Topic3\", \"Topic3\", \"Topic3\", \"Topic3\", \"Topic3\", \"Topic3\", \"Topic3\", \"Topic3\", \"Topic3\", \"Topic3\", \"Topic3\", \"Topic3\", \"Topic3\", \"Topic3\", \"Topic3\", \"Topic3\", \"Topic3\", \"Topic3\", \"Topic3\", \"Topic3\", \"Topic3\", \"Topic3\", \"Topic3\", \"Topic3\", \"Topic3\", \"Topic3\", \"Topic3\", \"Topic3\", \"Topic3\", \"Topic3\", \"Topic4\", \"Topic4\", \"Topic4\", \"Topic4\", \"Topic4\", \"Topic4\", \"Topic4\", \"Topic4\", \"Topic4\", \"Topic4\", \"Topic4\", \"Topic4\", \"Topic4\", \"Topic4\", \"Topic4\", \"Topic4\", \"Topic4\", \"Topic4\", \"Topic4\", \"Topic4\", \"Topic4\", \"Topic4\", \"Topic4\", \"Topic4\", \"Topic4\", \"Topic4\", \"Topic4\", \"Topic4\", \"Topic4\", \"Topic4\", \"Topic4\", \"Topic4\", \"Topic4\", \"Topic4\", \"Topic4\", \"Topic4\", \"Topic4\", \"Topic4\", \"Topic4\", \"Topic4\", \"Topic4\", \"Topic4\", \"Topic4\", \"Topic4\", \"Topic4\", \"Topic4\", \"Topic4\", \"Topic4\", \"Topic4\", \"Topic4\", \"Topic4\", \"Topic4\", \"Topic4\", \"Topic4\", \"Topic4\", \"Topic4\", \"Topic5\", \"Topic5\", \"Topic5\", \"Topic5\", \"Topic5\", \"Topic5\", \"Topic5\", \"Topic5\", \"Topic5\", \"Topic5\", \"Topic5\", \"Topic5\", \"Topic5\", \"Topic5\", \"Topic5\", \"Topic5\", \"Topic5\", \"Topic5\", \"Topic5\", \"Topic5\", \"Topic5\", \"Topic5\", \"Topic5\", \"Topic5\", \"Topic5\", \"Topic5\", \"Topic5\", \"Topic5\", \"Topic5\", \"Topic5\", \"Topic5\", \"Topic5\", \"Topic5\", \"Topic5\", \"Topic5\", \"Topic5\", \"Topic5\", \"Topic5\", \"Topic5\", \"Topic5\", \"Topic5\", \"Topic5\", \"Topic5\", \"Topic5\", \"Topic5\", \"Topic5\", \"Topic5\", \"Topic5\", \"Topic5\", \"Topic5\", \"Topic6\", \"Topic6\", \"Topic6\", \"Topic6\", \"Topic6\", \"Topic6\", \"Topic6\", \"Topic6\", \"Topic6\", \"Topic6\", \"Topic6\", \"Topic6\", \"Topic6\", \"Topic6\", \"Topic6\", \"Topic6\", \"Topic6\", \"Topic6\", \"Topic6\", \"Topic6\", \"Topic6\", \"Topic6\", \"Topic6\", \"Topic6\", \"Topic6\", \"Topic6\", \"Topic6\", \"Topic6\", \"Topic6\", \"Topic6\", \"Topic6\", \"Topic6\", \"Topic6\", \"Topic6\", \"Topic6\", \"Topic6\", \"Topic6\", \"Topic6\", \"Topic6\", \"Topic6\", \"Topic6\", \"Topic6\", \"Topic6\", \"Topic6\", \"Topic6\", \"Topic6\", \"Topic6\", \"Topic6\", \"Topic6\", \"Topic6\", \"Topic6\", \"Topic6\", \"Topic6\", \"Topic6\", \"Topic6\", \"Topic6\", \"Topic6\", \"Topic6\", \"Topic6\", \"Topic6\", \"Topic6\", \"Topic6\", \"Topic6\", \"Topic6\", \"Topic6\", \"Topic6\", \"Topic6\", \"Topic6\", \"Topic6\", \"Topic6\", \"Topic6\", \"Topic6\", \"Topic6\", \"Topic6\", \"Topic6\", \"Topic6\", \"Topic6\", \"Topic6\", \"Topic6\", \"Topic6\", \"Topic6\", \"Topic6\", \"Topic6\", \"Topic6\", \"Topic6\", \"Topic6\", \"Topic6\", \"Topic6\", \"Topic6\", \"Topic6\", \"Topic6\", \"Topic6\", \"Topic6\", \"Topic6\", \"Topic6\", \"Topic6\", \"Topic6\"], \"logprob\": [30.0, 29.0, 28.0, 27.0, 26.0, 25.0, 24.0, 23.0, 22.0, 21.0, 20.0, 19.0, 18.0, 17.0, 16.0, 15.0, 14.0, 13.0, 12.0, 11.0, 10.0, 9.0, 8.0, 7.0, 6.0, 5.0, 4.0, 3.0, 2.0, 1.0, -4.5449, -4.9364, -4.94, -4.9453, -4.9461, -5.2125, -5.2133, -5.213, -5.2139, -5.216, -5.217, -5.2171, -5.2161, -5.2229, -5.5887, -5.5892, -5.5905, -5.5913, -5.5932, -5.5911, -5.5918, -5.5921, -5.5943, -5.5925, -5.5962, -5.5967, -5.5987, -5.5991, -5.5994, -5.6013, -4.7234, -4.5515, -4.7204, -5.2106, -4.5406, -4.5481, -3.8573, -4.724, -4.9356, -5.2112, -5.2164, -4.9424, -5.21, -4.9278, -4.9319, -5.2075, -5.203, -4.3792, -5.1899, -5.191, -5.1913, -5.1934, -5.5687, -5.5706, -5.5697, -5.5696, -5.5715, -5.5716, -5.5712, -5.5705, -5.5724, -5.5727, -5.5727, -5.5733, -5.5713, -5.5716, -5.5721, -5.5737, -5.575, -5.5752, -5.576, -5.5747, -5.5761, -5.5762, -5.5761, -5.5771, -4.915, -3.9298, -5.1929, -4.375, -4.5208, -3.9198, -4.6989, -5.1859, -5.1907, -5.1901, -4.5039, -4.6912, -5.1901, -5.1898, -4.8999, -5.1886, -5.1771, -5.5608, -5.5636, -5.5679, -5.5598, -5.5612, -5.5617, -5.5641, -5.5644, -5.5664, -4.4364, -4.6116, -4.8279, -4.8287, -4.8265, -5.101, -5.0999, -5.1023, -5.1005, -5.102, -5.4789, -5.4797, -5.4805, -5.4813, -5.482, -5.4824, -5.4799, -5.4797, -5.4808, -5.4801, -5.4814, -5.4806, -5.4804, -5.4827, -5.481, -5.4807, -5.0998, -5.1008, -6.0978, -6.0986, -6.0977, -5.1005, -3.5288, -3.2934, -4.8241, -4.2787, -4.8207, -4.6117, -5.0943, -5.0982, -5.0987, -4.8205, -5.0976, -4.8092, -4.8243, -5.0944, -5.096, -5.4635, -5.4699, -5.4696, -4.0727, -4.2019, -4.5307, -4.745, -5.0189, -5.0189, -5.3975, -5.397, -5.3979, -5.3977, -5.3983, -5.398, -5.3984, -5.3977, -5.398, -5.3991, -5.3989, -5.3987, -5.3985, -5.3993, -5.3996, -4.5258, -5.0192, -5.0201, -6.0142, -6.0146, -6.0145, -6.0148, -6.0148, -6.0146, -5.3942, -5.3954, -5.3857, -5.3973, -5.3992, -4.3443, -3.7474, -5.0106, -5.0127, -4.1866, -5.0153, -4.5221, -3.9359, -4.7335, -5.0171, -5.0179, -5.0101, -4.7191, -5.019, -5.0153, -4.7172, -5.0013, -5.336, -5.3635, -5.3651, -5.3713, -4.0622, -4.4543, -4.7284, -4.7293, -5.1052, -5.1061, -5.1061, -5.1072, -5.1083, -5.1086, -5.1093, -5.1098, -5.11, -5.1101, -4.7258, -5.7227, -5.7233, -5.7236, -5.7236, -5.7243, -5.7245, -5.7246, -5.7247, -5.7248, -5.7246, -5.7249, -5.725, -5.725, -5.7247, -5.7249, -4.4487, -3.5606, -3.4608, -5.106, -5.108, -5.1043, -4.4465, -5.1075, -5.1099, -4.4431, -5.0993, -4.436, -5.1007, -5.1043, -5.0999, -5.0947, -5.098, -5.1021, -5.1022, -5.1029, -6.7727, -6.7731, -6.7732, -6.7735, -6.7736, -6.7739, -6.7741, -6.7742, -6.7742, -6.7744, -6.7744, -6.7746, -6.7745, -6.7748, -6.7752, -6.7753, -6.7755, -6.7756, -6.7757, -6.7764, -6.7767, -6.7768, -6.7769, -6.7769, -6.7772, -6.7772, -6.7772, -6.7773, -6.7774, -6.7775, -6.7774, -6.7307, -6.7319, -6.7321, -6.7324, -6.7345, -6.7354, -6.7366, -6.7378, -6.7379, -6.7382, -6.7383, -6.7391, -6.7391, -6.7393, -6.7394, -6.74, -6.7406, -6.7409, -6.742, -6.7422, -6.7425, -6.7426, -6.7427, -6.7427, -6.7444, -6.7446, -6.7455, -6.7468, -6.7469, -6.7471, -6.1591, -6.4302, -6.6854, -6.3306, -6.5794, -6.6004, -6.6292, -6.6907, -6.6621, -6.6379, -6.4823, -6.5045, -6.7008, -6.6775, -6.619, -6.5982, -6.6237, -6.7057, -6.601, -6.6246, -6.6623, -6.6892, -6.5969, -6.7095, -6.6108, -6.6407, -6.6337, -6.6151, -6.666, -6.6637, -6.6538, -6.6451, -6.6503, -6.6735, -6.6756, -6.6788], \"loglift\": [30.0, 29.0, 28.0, 27.0, 26.0, 25.0, 24.0, 23.0, 22.0, 21.0, 20.0, 19.0, 18.0, 17.0, 16.0, 15.0, 14.0, 13.0, 12.0, 11.0, 10.0, 9.0, 8.0, 7.0, 6.0, 5.0, 4.0, 3.0, 2.0, 1.0, 1.2958, 1.2541, 1.2487, 1.2452, 1.2446, 1.2107, 1.2105, 1.2102, 1.2093, 1.2092, 1.2085, 1.2081, 1.2081, 1.2029, 1.1438, 1.1435, 1.1425, 1.142, 1.1397, 1.1397, 1.1388, 1.1387, 1.1386, 1.1382, 1.1367, 1.1361, 1.1341, 1.1337, 1.1333, 1.1324, 1.1177, 0.9347, 0.8974, 0.9962, 0.6445, 0.5672, -0.0304, 0.5426, 0.5597, 0.8039, 0.7944, 0.5208, 0.3237, -0.39, -0.7349, -0.2565, -0.2891, 1.3356, 1.243, 1.2419, 1.2416, 1.2413, 1.1711, 1.1703, 1.1699, 1.1699, 1.1698, 1.1695, 1.1693, 1.1692, 1.1688, 1.1686, 1.1686, 1.1684, 1.1684, 1.1682, 1.1677, 1.1676, 1.1669, 1.1668, 1.1663, 1.1662, 1.1661, 1.166, 1.1659, 1.1653, 1.1008, 1.0384, 1.0045, 0.5389, 0.4303, -0.093, 0.322, 0.6993, 0.6947, 0.6682, -0.3068, -0.0636, 0.3333, 0.3298, -0.3622, 0.3067, 0.1639, 0.1846, 0.4561, 0.8746, -0.0736, 0.2024, 0.2015, 0.4657, -0.1013, 0.5163, 1.4484, 1.4322, 1.4047, 1.4035, 1.4034, 1.3636, 1.3629, 1.3617, 1.3611, 1.3607, 1.2889, 1.2887, 1.288, 1.2876, 1.2875, 1.2874, 1.2873, 1.2872, 1.2861, 1.2858, 1.2853, 1.2853, 1.2851, 1.285, 1.2846, 1.2846, 1.1679, 1.1207, 1.109, 1.1088, 1.1087, 0.9622, 0.6682, 0.5334, 0.8101, 0.2591, 0.7144, 0.5036, 0.9355, 0.9282, 0.9246, 0.5205, 0.6817, 0.1047, -0.1967, 0.1878, 0.1706, 0.3948, 0.5498, 0.05, 1.5909, 1.5814, 1.5474, 1.5199, 1.4766, 1.4765, 1.3991, 1.3991, 1.3989, 1.3986, 1.3984, 1.3983, 1.3983, 1.3983, 1.398, 1.3979, 1.3978, 1.3978, 1.3974, 1.3973, 1.3969, 1.2374, 1.229, 1.228, 1.214, 1.2137, 1.2136, 1.2133, 1.2133, 1.2132, 1.139, 1.1378, 1.0862, 1.0869, 1.085, 0.8408, 0.4496, 0.8748, 0.8734, 0.3511, 0.8699, 0.4461, -0.1091, 0.5487, 0.8709, 0.8679, 0.7408, 0.232, 0.7264, 0.619, -0.0896, 0.5325, -0.3151, -0.0969, -0.4512, 0.1241, 1.9901, 1.9351, 1.8851, 1.8835, 1.7966, 1.7954, 1.7954, 1.7945, 1.7933, 1.7925, 1.7919, 1.7911, 1.7909, 1.7908, 1.6106, 1.5856, 1.5851, 1.5847, 1.5847, 1.5841, 1.5838, 1.5838, 1.5836, 1.5836, 1.5836, 1.5835, 1.5833, 1.5833, 1.5832, 1.5832, 1.5323, 1.4604, 1.1668, 1.454, 1.452, 1.4415, 1.0166, 1.189, 1.1755, 0.5079, 0.9833, 0.1018, 0.8405, 0.83, 0.6794, 0.1875, 0.1686, 0.0133, 0.5458, 0.6824, 0.5357, 0.5353, 0.5351, 0.5349, 0.5348, 0.5344, 0.5342, 0.534, 0.534, 0.5339, 0.5338, 0.5337, 0.5334, 0.5333, 0.5332, 0.533, 0.5327, 0.5326, 0.5326, 0.5319, 0.5312, 0.531, 0.5309, 0.5309, 0.5308, 0.5308, 0.5307, 0.5306, 0.5305, 0.5305, 0.5304, 0.4773, 0.476, 0.4758, 0.4754, 0.4731, 0.4721, 0.4708, 0.4695, 0.4693, 0.4691, 0.469, 0.4681, 0.468, 0.4679, 0.4677, 0.467, 0.4664, 0.4661, 0.4649, 0.4646, 0.4643, 0.4642, 0.4641, 0.4641, 0.4622, 0.4621, 0.461, 0.4596, 0.4595, 0.4593, -2.3323, -1.3149, 0.0845, -2.1335, -0.6946, -0.5566, -0.3966, 0.0789, -0.1856, -0.4057, -1.9445, -1.8769, 0.0681, -0.2129, -0.971, -1.316, -0.9894, 0.0628, -1.3344, -1.1385, -0.6325, -0.2252, -1.6829, 0.059, -1.6598, -1.1211, -1.2927, -1.6468, -0.8253, -0.8785, -1.12, -1.6241, -1.4653, -0.9226, -1.1522, -1.2156]}, \"token.table\": {\"Topic\": [3, 5, 5, 1, 2, 3, 3, 3, 1, 3, 4, 5, 5, 4, 2, 3, 1, 1, 2, 3, 4, 5, 4, 1, 3, 4, 5, 4, 3, 1, 2, 1, 2, 3, 4, 2, 4, 2, 1, 2, 3, 1, 2, 4, 5, 4, 2, 3, 3, 3, 2, 4, 4, 5, 1, 3, 1, 4, 1, 2, 2, 1, 2, 3, 4, 5, 1, 2, 1, 3, 4, 5, 5, 1, 5, 3, 5, 1, 2, 5, 4, 2, 3, 4, 1, 5, 1, 5, 3, 5, 3, 5, 3, 4, 1, 2, 3, 4, 5, 4, 4, 5, 1, 5, 5, 1, 3, 1, 3, 1, 3, 3, 4, 3, 1, 2, 4, 4, 1, 2, 3, 4, 5, 3, 5, 1, 3, 4, 2, 3, 3, 3, 3, 5, 1, 2, 3, 2, 1, 2, 3, 4, 5, 2, 1, 1, 4, 1, 2, 4, 4, 1, 3, 5, 1, 1, 3, 1, 3, 4, 1, 3, 5, 5, 2, 2, 3, 3, 1, 5, 3, 3, 1, 3, 1, 3, 4, 5, 1, 2, 3, 4, 5, 4, 3, 5, 1, 2, 3, 4, 4, 3, 4, 4, 1, 2, 4, 5, 1, 2, 5, 1, 2, 3, 3, 5, 5, 1, 2, 3, 4, 1, 2, 3, 2, 5, 1, 3, 4, 5, 5, 5, 3, 2, 3, 2, 2, 3, 5, 3, 2, 4, 2, 4, 1, 4, 1, 2, 3, 5, 3, 2, 1, 2, 1, 3, 5, 1, 2, 5, 5, 1, 1, 3, 4, 1, 2, 3, 4, 5, 1, 2, 4, 3, 3, 2, 3, 1, 2, 3, 4, 3, 3, 4, 3, 1, 1, 3, 5, 1, 4, 3, 5, 3, 5, 2, 3, 3, 2, 3, 5, 3, 4, 5, 3, 1, 3, 4, 5, 2, 2, 1, 3, 5, 2, 2, 2, 4, 5, 3, 3, 5, 2, 2, 5, 2, 4, 1, 3, 4, 5, 1, 3, 5, 4, 2, 5, 4, 4, 1, 4, 5, 1, 3, 5, 5, 5, 4, 5, 5, 5, 5, 1, 2, 3, 4, 5, 2, 3, 5, 1, 2, 3, 4, 5, 1, 2, 3, 4, 5, 5, 1, 3, 2, 3, 2, 3, 4, 4, 5, 4, 3, 5, 1, 5, 5, 4, 5, 5, 1, 3, 3, 3, 1, 2, 4, 5, 1, 1, 1, 2, 3, 4, 5], \"Freq\": [0.5991761130501015, 0.29958805652505077, 0.8480081595662752, 0.23534213986948324, 0.23534213986948324, 0.4706842797389665, 0.9858442695961924, 0.7663778462483849, 0.2146325236236181, 0.4292650472472362, 0.2146325236236181, 0.2146325236236181, 0.5643287411050282, 0.5080908337323183, 0.2860773924423567, 0.5721547848847134, 0.9538528919652959, 0.1809625595758336, 0.3619251191516672, 0.1809625595758336, 0.1809625595758336, 0.1809625595758336, 0.5082895583525514, 0.4403558989230911, 0.22017794946154556, 0.22017794946154556, 0.11008897473077278, 0.5083889664456819, 0.9856957278149332, 0.9520412533702601, 0.9613584908594712, 0.17769177941809947, 0.35538355883619893, 0.17769177941809947, 0.35538355883619893, 0.36177057324849465, 0.7235411464969893, 0.8616936200149963, 0.2337825832457563, 0.4675651664915126, 0.4675651664915126, 0.9542312791404494, 0.6535222381565644, 0.3267611190782822, 0.8481216391261056, 0.5084342318297016, 0.9620356312212377, 0.9860569483693097, 0.7663912656808904, 0.7666991432845156, 0.2937516894016042, 0.5875033788032084, 0.7828841313422142, 0.8476936975014878, 0.9540707306255082, 0.7659288614066776, 0.9538816806900967, 0.5085924882116402, 0.830503041767508, 0.9628148544159606, 0.9629985357341753, 0.23480175323817928, 0.20871266954504825, 0.3652471717038344, 0.15653450215878617, 0.02608908369313103, 0.27924442305758895, 0.5584888461151779, 0.21614930639076052, 0.21614930639076052, 0.21614930639076052, 0.21614930639076052, 0.8477200301019291, 0.7013991864507509, 0.8477610940677099, 0.7665942257827518, 0.8480827519932428, 0.7821914506824245, 0.19554786267060612, 0.5646302283857569, 0.7828195343506396, 0.960393688948074, 0.37200136659403, 0.37200136659403, 0.9519887583168472, 0.8460474190799422, 0.952054253033496, 0.8481560581238791, 0.7659558651981356, 0.5643081489471417, 0.7273802151669496, 0.5646574078511901, 0.73828580986579, 0.369142904932895, 0.28464136835979975, 0.28464136835979975, 0.14232068417989988, 0.28464136835979975, 0.14232068417989988, 0.8962491479481391, 0.9914271572653391, 0.6767041069225311, 0.3956460747083481, 0.3956460747083481, 0.8480724113093326, 0.6999244156131581, 0.9854146897922222, 0.46540684958072676, 0.46540684958072676, 0.6999536952947638, 0.9870803911563043, 0.7664814045435636, 0.7827318998200951, 0.729569001228372, 0.7013885703178593, 0.7068355337116623, 0.5083221816074807, 0.7825093412843694, 0.15473997203695078, 0.38684993009237695, 0.23210995805542617, 0.15473997203695078, 0.07736998601847539, 0.7662384120244162, 0.8467013225054745, 0.40908721409974785, 0.20454360704987393, 0.40908721409974785, 0.9606179915195291, 0.9896523116017408, 0.7662607675487986, 0.8677224454867836, 0.4012802729690506, 0.4012802729690506, 0.9539419559442286, 0.7136231330350385, 0.3568115665175193, 0.9606294286890756, 0.2835628495120362, 0.2835628495120362, 0.2835628495120362, 0.1417814247560181, 0.1417814247560181, 0.9630178712928834, 0.7016216859150084, 0.8320243959569039, 0.5084905764130133, 0.6855866725673129, 0.2742346690269251, 0.13711733451346256, 0.7827428274813795, 0.7018023823407321, 0.8171318214361757, 0.8480997484178276, 0.6999242279411098, 0.46924269851509265, 0.46924269851509265, 0.40899215160160035, 0.20449607580080018, 0.40899215160160035, 0.30832500809184243, 0.30832500809184243, 0.30832500809184243, 0.8478209264766714, 0.9627741307077204, 0.9605711994522591, 0.9879358808904869, 0.7664657986326878, 0.6098244558610406, 0.3049122279305203, 0.8674058571901425, 0.7282388741036824, 0.9773154411075267, 0.7661119032178102, 0.4731728985961024, 0.37853831887688194, 0.09463457971922049, 0.09463457971922049, 0.22364059018413177, 0.11182029509206588, 0.22364059018413177, 0.3354608852761976, 0.11182029509206588, 0.5084821572288603, 0.7281573406313806, 0.564425869220979, 0.11333372776183794, 0.1888895462697299, 0.41555700179340577, 0.30222327403156785, 0.5082620377741204, 0.8653725574370719, 0.9228218502290597, 0.7524057512980338, 0.1605936281874916, 0.401484070468729, 0.2408904422812374, 0.1605936281874916, 0.4020045864186638, 0.26800305761244253, 0.26800305761244253, 0.7006250474800481, 0.6986259465800132, 0.2328753155266711, 0.7665463347446463, 0.9661154758667947, 0.5647454312267414, 0.19893505510696113, 0.39787011021392227, 0.39787011021392227, 0.5084147252469491, 0.46344480934721427, 0.23172240467360714, 0.23172240467360714, 0.44983459232268475, 0.44983459232268475, 0.2876121924825873, 0.2876121924825873, 0.2876121924825873, 0.14380609624129365, 0.8476728197287792, 0.8482008900930414, 0.766262175703388, 0.9606335051360081, 0.9860760091841433, 0.9619301800280966, 0.9624928673278303, 0.7665923128526925, 0.8480661693218866, 0.7662514233457551, 0.40880120806673864, 0.40880120806673864, 0.4087213577782634, 0.4087213577782634, 0.5637891176548429, 0.2818945588274214, 0.3224007228829013, 0.3224007228829013, 0.3224007228829013, 0.16120036144145064, 0.9873785972705897, 0.9605332407400525, 0.9519052381898532, 0.9620610191745081, 0.8319899267486156, 0.7659245902787067, 0.8477181162765408, 0.248974055748345, 0.49794811149669, 0.248974055748345, 0.8480905810403906, 0.9540485143232981, 0.1590110810188295, 0.4770332430564884, 0.318022162037659, 0.11858698570834922, 0.23717397141669844, 0.3557609571250477, 0.11858698570834922, 0.11858698570834922, 0.41513527580752485, 0.2767568505383499, 0.2767568505383499, 0.7662879012485103, 0.9579510089010633, 0.9617760334584193, 0.9878347696902596, 0.17867208996324715, 0.17867208996324715, 0.3573441799264943, 0.3573441799264943, 0.7665099121147306, 0.37196879771074165, 0.37196879771074165, 0.7665650362203474, 0.9549117963288167, 0.9536646239620918, 0.986858923258712, 0.8478915095385509, 0.36744408964885267, 0.36744408964885267, 0.7662318766162182, 0.8481120070684087, 0.9890468111283561, 0.8477943261460815, 0.9631720776788014, 0.7670189170255833, 0.7669890798279299, 0.9617141726369209, 0.7671315257217474, 0.8481818768641021, 0.9900095885725099, 0.3906975681931871, 0.3906975681931871, 0.7670516462513851, 0.9539545743194072, 0.7660278294438763, 0.5084693902914958, 0.5644288612567303, 0.9620920564615237, 0.9630675789422874, 0.24404034079396725, 0.4880806815879345, 0.24404034079396725, 0.7080491431840309, 0.9619896206940114, 0.34444050194264414, 0.17222025097132207, 0.5166607529139662, 0.7664249578574795, 0.987002655772319, 0.84781312326705, 0.706778413882503, 0.9627332087604595, 0.8480530639865588, 0.2937973025200571, 0.5875946050401142, 0.36984444529333, 0.36984444529333, 0.184922222646665, 0.184922222646665, 0.9544308436628571, 0.9885518600840871, 0.8480193191965391, 0.5080407830701221, 0.7068097995133493, 0.8479287122262241, 0.5081418228572063, 0.7524362636448115, 0.5073163320437303, 0.4058530656349842, 0.10146326640874605, 0.36764255967239773, 0.36764255967239773, 0.18382127983619886, 0.8476892033095281, 0.8478267303346936, 0.5083428228987615, 0.8481690540065218, 0.5648200081012223, 0.8477294480657098, 0.8480856963644116, 0.14399850268547854, 0.14399850268547854, 0.4319955080564356, 0.14399850268547854, 0.14399850268547854, 0.9621715118254615, 0.4012917703474132, 0.4012917703474132, 0.15934475123189493, 0.15934475123189493, 0.26557458538649154, 0.26557458538649154, 0.10622983415459661, 0.0581082646201013, 0.2324330584804052, 0.17432479386030392, 0.17432479386030392, 0.40675785234070916, 0.8481995899129988, 0.7003869277309991, 0.7667886743981323, 0.4723064875962516, 0.4723064875962516, 0.9605247237620282, 0.7664965769720464, 0.5080822448964545, 0.7826747843685846, 0.8477569608373088, 0.9823923852197788, 0.7668587877686692, 0.8481145569771957, 0.3208943850024018, 0.6417887700048036, 0.5643194366268465, 0.39067092446835655, 0.39067092446835655, 0.5646901719906487, 0.9539639035870802, 0.7661055855760548, 0.7291388699793737, 0.9887047087730932, 0.6256741950702842, 0.15641854876757105, 0.15641854876757105, 0.15641854876757105, 0.832109093565863, 0.9541032122448023, 0.2049246058678756, 0.2049246058678756, 0.2049246058678756, 0.4098492117357512, 0.8479623176723693], \"Term\": [\"able\", \"able\", \"absent\", \"accuracy\", \"accuracy\", \"accuracy\", \"adults\", \"analyse\", \"analysis\", \"analysis\", \"analysis\", \"analysis\", \"analyze\", \"applications\", \"approach\", \"approach\", \"area\", \"art\", \"art\", \"art\", \"art\", \"art\", \"ast\", \"based\", \"based\", \"based\", \"based\", \"baselines\", \"bayesian\", \"branch\", \"build\", \"capture\", \"capture\", \"capture\", \"capture\", \"care\", \"care\", \"challenge\", \"challenging\", \"challenging\", \"challenging\", \"channels\", \"clinical\", \"clinical\", \"close\", \"cmcn\", \"cohort\", \"collected\", \"combination\", \"comparison\", \"completion\", \"completion\", \"conducts\", \"confirm\", \"consecutive\", \"containing\", \"correlation\", \"correlations\", \"coverage\", \"cross\", \"dacmi\", \"data\", \"data\", \"data\", \"data\", \"data\", \"dataset\", \"dataset\", \"datasets\", \"datasets\", \"datasets\", \"datasets\", \"de\", \"deep\", \"deepar\", \"define\", \"degrade\", \"different\", \"different\", \"domain\", \"ehr\", \"encoding\", \"end\", \"end\", \"environment\", \"error\", \"esc\", \"even\", \"every\", \"factor\", \"failure\", \"failures\", \"find\", \"find\", \"first\", \"first\", \"first\", \"first\", \"first\", \"flow\", \"flows\", \"forecast\", \"forecasting\", \"forecasting\", \"formulate\", \"gan\", \"gaussian\", \"generator\", \"generator\", \"global\", \"gps\", \"grossly\", \"healthcare\", \"hstq\", \"hydrological\", \"identity\", \"ie\", \"ill\", \"imputation\", \"imputation\", \"imputation\", \"imputation\", \"imputation\", \"inaccurate\", \"inference\", \"information\", \"information\", \"information\", \"interactions\", \"interpolate\", \"interpolated\", \"interpolation\", \"introduce\", \"introduce\", \"introducing\", \"joint\", \"joint\", \"joints\", \"knowledge\", \"knowledge\", \"knowledge\", \"knowledge\", \"knowledge\", \"laboratory\", \"lake\", \"lakes\", \"latent\", \"learning\", \"learning\", \"learning\", \"learns\", \"level\", \"li\", \"literature\", \"local\", \"location\", \"location\", \"locations\", \"locations\", \"locations\", \"low\", \"low\", \"low\", \"lstm\", \"machine\", \"mae\", \"map\", \"matching\", \"matrix\", \"matrix\", \"mbi\", \"mdi\", \"measurements\", \"measures\", \"method\", \"method\", \"method\", \"method\", \"methods\", \"methods\", \"methods\", \"methods\", \"methods\", \"metric\", \"mg\", \"min\", \"missing\", \"missing\", \"missing\", \"missing\", \"mix\", \"mobility\", \"modalities\", \"modality\", \"model\", \"model\", \"model\", \"model\", \"models\", \"models\", \"models\", \"monitoring\", \"motion\", \"motion\", \"moving\", \"mssa\", \"mtsf\", \"multi\", \"multi\", \"multi\", \"multimodal\", \"multiple\", \"multiple\", \"multiple\", \"multivariate\", \"multivariate\", \"network\", \"network\", \"network\", \"network\", \"neural\", \"non\", \"object\", \"occlusion\", \"older\", \"onset\", \"outcomes\", \"overlooked\", \"parametric\", \"path\", \"patient\", \"patient\", \"patients\", \"patients\", \"patterns\", \"patterns\", \"performance\", \"performance\", \"performance\", \"performance\", \"period\", \"person\", \"physical\", \"place\", \"pmu\", \"points\", \"practically\", \"prediction\", \"prediction\", \"prediction\", \"present\", \"pretraining\", \"problem\", \"problem\", \"problem\", \"propose\", \"propose\", \"propose\", \"propose\", \"propose\", \"proposed\", \"proposed\", \"proposed\", \"queries\", \"query\", \"range\", \"rate\", \"real\", \"real\", \"real\", \"real\", \"realistic\", \"reasons\", \"reasons\", \"receives\", \"reconstruction\", \"recovery\", \"region\", \"regularized\", \"related\", \"related\", \"researchers\", \"resource\", \"respond\", \"restriction\", \"result\", \"returned\", \"returns\", \"rits\", \"road\", \"robustness\", \"routing\", \"sample\", \"sample\", \"sampled\", \"samples\", \"sampling\", \"satcnet\", \"scaling\", \"score\", \"sectional\", \"sensor\", \"sensor\", \"sensor\", \"sepsis\", \"sequence\", \"series\", \"series\", \"series\", \"service\", \"services\", \"setting\", \"severe\", \"shared\", \"shift\", \"short\", \"short\", \"show\", \"show\", \"show\", \"show\", \"signals\", \"significant\", \"significantly\", \"similar\", \"skeletal\", \"small\", \"solving\", \"space\", \"spatial\", \"spatial\", \"spatial\", \"spatio\", \"spatio\", \"spatio\", \"spectrum\", \"ssa\", \"stmcnet\", \"studied\", \"subset\", \"sum\", \"systematic\", \"task\", \"task\", \"task\", \"task\", \"task\", \"tcn\", \"technique\", \"technique\", \"temporal\", \"temporal\", \"temporal\", \"temporal\", \"temporal\", \"time\", \"time\", \"time\", \"time\", \"time\", \"top\", \"traditional\", \"trajectories\", \"trajectory\", \"trajectory\", \"triangulation\", \"typically\", \"uncensored\", \"underdetermined\", \"univariate\", \"urban\", \"uses\", \"variable\", \"variables\", \"variables\", \"variant\", \"various\", \"various\", \"vsf\", \"water\", \"waypoint\", \"waypoints\", \"web\", \"well\", \"well\", \"well\", \"well\", \"wl\", \"wls\", \"world\", \"world\", \"world\", \"world\", \"wrapper\"]}, \"R\": 30, \"lambda.step\": 0.01, \"plot.opts\": {\"xlab\": \"PC1\", \"ylab\": \"PC2\"}, \"topic.order\": [6, 5, 4, 1, 2, 3]};\n",
              "\n",
              "function LDAvis_load_lib(url, callback){\n",
              "  var s = document.createElement('script');\n",
              "  s.src = url;\n",
              "  s.async = true;\n",
              "  s.onreadystatechange = s.onload = callback;\n",
              "  s.onerror = function(){console.warn(\"failed to load library \" + url);};\n",
              "  document.getElementsByTagName(\"head\")[0].appendChild(s);\n",
              "}\n",
              "\n",
              "if(typeof(LDAvis) !== \"undefined\"){\n",
              "   // already loaded: just create the visualization\n",
              "   !function(LDAvis){\n",
              "       new LDAvis(\"#\" + \"ldavis_el55231384651271341769167004188\", ldavis_el55231384651271341769167004188_data);\n",
              "   }(LDAvis);\n",
              "}else if(typeof define === \"function\" && define.amd){\n",
              "   // require.js is available: use it to load d3/LDAvis\n",
              "   require.config({paths: {d3: \"https://d3js.org/d3.v5\"}});\n",
              "   require([\"d3\"], function(d3){\n",
              "      window.d3 = d3;\n",
              "      LDAvis_load_lib(\"https://cdn.jsdelivr.net/gh/bmabey/pyLDAvis@3.4.0/pyLDAvis/js/ldavis.v3.0.0.js\", function(){\n",
              "        new LDAvis(\"#\" + \"ldavis_el55231384651271341769167004188\", ldavis_el55231384651271341769167004188_data);\n",
              "      });\n",
              "    });\n",
              "}else{\n",
              "    // require.js not available: dynamically load d3 & LDAvis\n",
              "    LDAvis_load_lib(\"https://d3js.org/d3.v5.js\", function(){\n",
              "         LDAvis_load_lib(\"https://cdn.jsdelivr.net/gh/bmabey/pyLDAvis@3.4.0/pyLDAvis/js/ldavis.v3.0.0.js\", function(){\n",
              "                 new LDAvis(\"#\" + \"ldavis_el55231384651271341769167004188\", ldavis_el55231384651271341769167004188_data);\n",
              "            })\n",
              "         });\n",
              "}\n",
              "</script>"
            ]
          },
          "metadata": {},
          "execution_count": 58
        }
      ],
      "source": [
        "import gensim\n",
        "import pyLDAvis.gensim_models as gensimvis\n",
        "import pyLDAvis\n",
        "\n",
        "seed = 54\n",
        "gensim_seed = 2021  # Gensim usa sua propria seed_radom\n",
        "\n",
        "# criar modelo LDA\n",
        "num_topics =6\n",
        "lda_model = gensim.models.LdaMulticore(corpus=corpus, id2word=id2word, num_topics=num_topics, passes=10, random_state=gensim_seed)\n",
        "\n",
        "# visualizar\n",
        "pyLDAvis.enable_notebook()\n",
        "vis = gensimvis.prepare(lda_model, corpus, id2word)\n",
        "\n",
        "# Save the visualization to an HTML file\n",
        "pyLDAvis.save_html(vis, 'lda_visualization.html')\n",
        "\n",
        "# Display the visualization\n",
        "pyLDAvis.display(vis)\n"
      ]
    },
    {
      "cell_type": "code",
      "execution_count": null,
      "metadata": {
        "id": "HcHEOJhlrQ5t"
      },
      "outputs": [],
      "source": [
        "https://www.kaianalytics.com/post/topic-modelling-in-unigrams#:~:text=The%20Intertopic%20Distance%20Map%20is,larger%20its%20circle%20will%20be.\n",
        "https://community.alteryx.com/t5/Data-Science/Getting-to-the-Point-with-Topic-Modeling-Part-3-Interpreting-the/ba-p/614992\n",
        "https://thedigitalskye.com/2020/11/07/topic-modelling-for-absolute-beginners"
      ]
    },
    {
      "cell_type": "code",
      "execution_count": null,
      "metadata": {
        "id": "3DygFYCrrQzN"
      },
      "outputs": [],
      "source": [
        "  #he size of each of the  topic circles\n",
        "  #is directly proportional to how many words belong to that topic cluster. So the more frequently a word appears,\n",
        "  #the larger its circle will be. The circles are plotted using a scaling algorithm\n",
        "  #so that topic clusters that are closer together have more words in common.\n",
        "\n"
      ]
    },
    {
      "cell_type": "code",
      "execution_count": null,
      "metadata": {
        "id": "TwKLqPb5rQwj"
      },
      "outputs": [],
      "source": []
    },
    {
      "cell_type": "code",
      "execution_count": null,
      "metadata": {
        "id": "eagTajYHrQtq"
      },
      "outputs": [],
      "source": []
    },
    {
      "cell_type": "code",
      "execution_count": null,
      "metadata": {
        "id": "NJ605KEXrQjr"
      },
      "outputs": [],
      "source": []
    },
    {
      "cell_type": "code",
      "execution_count": null,
      "metadata": {
        "id": "g0aROFD1Nars"
      },
      "outputs": [],
      "source": [
        "if  0.547904599432713 >0.5525956767627851 :\n",
        "  print(\"topic 13 melhor q  12\")\n",
        "if  0.5525956767627851 >0.5396224436919831:\n",
        "  print(\"topic 12 melhor q 11\")\n",
        "\n",
        "\n",
        "\n",
        "\n",
        "\n",
        "\n",
        "\n"
      ]
    },
    {
      "cell_type": "code",
      "execution_count": null,
      "metadata": {
        "id": "19hUEpXlWyw4"
      },
      "outputs": [],
      "source": [
        "https://www.simplilearn.com/tutorials/statistics-tutorial/what-is-time-series-analysis"
      ]
    },
    {
      "cell_type": "code",
      "execution_count": null,
      "metadata": {
        "id": "E96xQF9XXIjg"
      },
      "outputs": [],
      "source": [
        "https://timeseriesreasoning.com/contents/time-series-decomposition/"
      ]
    }
  ],
  "metadata": {
    "colab": {
      "provenance": [],
      "authorship_tag": "ABX9TyOwtGeAHVhANJDXhagol1e2",
      "include_colab_link": true
    },
    "kernelspec": {
      "display_name": "Python 3",
      "name": "python3"
    },
    "language_info": {
      "name": "python"
    }
  },
  "nbformat": 4,
  "nbformat_minor": 0
}
