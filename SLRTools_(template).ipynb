{
  "nbformat": 4,
  "nbformat_minor": 0,
  "metadata": {
    "colab": {
      "provenance": [],
      "collapsed_sections": [
        "sfP2Exd6JGZ_",
        "NJo-R9jtLCsH",
        "isxPLq4jjDwp",
        "ksztRj8CwPa2",
        "IAUkUf38DvY8",
        "kC-7HKwj1h4A"
      ],
      "include_colab_link": true
    },
    "kernelspec": {
      "name": "python3",
      "display_name": "Python 3"
    },
    "language_info": {
      "name": "python"
    },
    "gpuClass": "standard"
  },
  "cells": [
    {
      "cell_type": "markdown",
      "metadata": {
        "id": "view-in-github",
        "colab_type": "text"
      },
      "source": [
        "<a href=\"https://colab.research.google.com/github/metsumesquita/ML-Python/blob/main/SLRTools_(template).ipynb\" target=\"_parent\"><img src=\"https://colab.research.google.com/assets/colab-badge.svg\" alt=\"Open In Colab\"/></a>"
      ]
    },
    {
      "cell_type": "markdown",
      "source": [
        "# To Do\n",
        "\n",
        " - [ ] Criar classe para IEEE ou outra base de dados;\n",
        " - [ ] Considerar mais metadados. exemplo: tipo de artigo, ano;\n",
        " - [ ] Aplicação de mais filtros.\n",
        "\n"
      ],
      "metadata": {
        "id": "_tIps0AfXlPP"
      }
    },
    {
      "cell_type": "markdown",
      "source": [
        "# Automação de Etapas de uma Revisão da Literatura\n",
        "1) Criação de Strings de busca para diferentes bases acadêmicas;\n",
        "\n",
        "2) Criação de conjunto de dados formado por metadados de estudos."
      ],
      "metadata": {
        "id": "M2Q5fDq4lOvh"
      }
    },
    {
      "cell_type": "markdown",
      "source": [
        "# Setup\n",
        "\n"
      ],
      "metadata": {
        "id": "sfP2Exd6JGZ_"
      }
    },
    {
      "cell_type": "code",
      "source": [
        "!pip install bibtexparser"
      ],
      "metadata": {
        "id": "H3cYgi05H_YQ"
      },
      "execution_count": null,
      "outputs": []
    },
    {
      "cell_type": "code",
      "source": [
        "from dataclasses import dataclass, field\n",
        "from abc import ABC, abstractmethod\n",
        "from google.colab import drive\n",
        "from datetime import date\n",
        "from pprint import pprint\n",
        "import pandas as pd\n",
        "import bibtexparser\n",
        "import requests\n",
        "import os\n",
        "import re"
      ],
      "metadata": {
        "id": "pVBHFSRcdJGy"
      },
      "execution_count": null,
      "outputs": []
    },
    {
      "cell_type": "markdown",
      "source": [
        "### Login no Google Drive"
      ],
      "metadata": {
        "id": "NJo-R9jtLCsH"
      }
    },
    {
      "cell_type": "code",
      "source": [
        "drive.mount('/content/drive', force_remount=True)"
      ],
      "metadata": {
        "id": "pXJWYX1WLCUY"
      },
      "execution_count": null,
      "outputs": []
    },
    {
      "cell_type": "markdown",
      "source": [
        "# Constuindo Conjuntos de dados"
      ],
      "metadata": {
        "id": "isxPLq4jjDwp"
      }
    },
    {
      "cell_type": "markdown",
      "source": [
        "## Classes"
      ],
      "metadata": {
        "id": "ksztRj8CwPa2"
      }
    },
    {
      "cell_type": "code",
      "source": [
        "@dataclass\n",
        "class Artigo(ABC):\n",
        "  entrada: dict\n",
        "  editora: str = field(default=\"\")\n",
        "  string_generica: str = field(default=\"\")\n",
        "\n",
        "  def __post_init__(self) -> None:\n",
        "\n",
        "    if \"doi\" in self.entrada:\n",
        "      doi = self.entrada[\"doi\"]\n",
        "      prefix = \"https://doi.org/\"\n",
        "      self.doi = doi if prefix in doi else f\"{prefix}{doi}\"\n",
        "    else:\n",
        "      self.doi = \"\"\n",
        "\n",
        "    self.titulo = self.entrada[\"title\"] if \"title\" in self.entrada else \"\"\n",
        "    self.resumo = self.entrada[\"abstract\"] if \"abstract\" in self.entrada else \"\"\n",
        "    self.palavras_chave = self.entrada[\"keywords\"] if \"keywords\" in self.entrada else \"\"\n",
        "    self.editora = self.editora\n",
        "\n",
        "  staticmethod\n",
        "  @abstractmethod\n",
        "  def gera_url() -> None:\n",
        "    pass\n",
        "\n",
        "  staticmethod\n",
        "  @abstractmethod\n",
        "  def cria_string(termos: list) -> tuple:\n",
        "\n",
        "    if any([isinstance(termo, str) for termo in termos]):\n",
        "      result = f\" OR \".join([f\"\\\"{termo}\\\"\" if len(termo.split()) > 1 else termo for termo in termos])\n",
        "      Artigo.string_generica = f\"({result})\" if len(termos) > 1 else result\n",
        "\n",
        "    if any([isinstance(termo, list) for termo in termos]):\n",
        "      result = f\" AND \".join([Artigo.cria_string(termo) for termo in termos])\n",
        "      Artigo.string_generica = f\"({result})\" if \"(\" in result else result\n",
        "\n",
        "    return Artigo.string_generica\n",
        "\n",
        "\n",
        "@dataclass\n",
        "class ScienceDirectArtigo(Artigo):\n",
        "\n",
        "  def __post_init__(self) -> None:\n",
        "    super().__post_init__()\n",
        "    self.capes_url = self.entrada[\"url\"].replace(\n",
        "        \"https://www.sciencedirect.com\",\n",
        "        \"https://www-sciencedirect.ez294.periodicos.capes.gov.br\") if \"url\" in self.entrada else \"\"\n",
        "\n",
        "  staticmethod\n",
        "  def gera_url() -> None:\n",
        "    pass\n",
        "\n",
        "  staticmethod\n",
        "  def cria_string(termos: list) -> tuple:\n",
        "    return None\n",
        "\n",
        "\n",
        "@dataclass\n",
        "class IEEEArtigo(Artigo):\n",
        "\n",
        "  def __post_init__(self) -> None:\n",
        "    super().__post_init__()\n",
        "    resposta = requests.get(self.doi)\n",
        "    url = resposta.url\n",
        "    self.capes_url = url.replace(\n",
        "        \"https://ieeexplore.ieee.org\",\n",
        "        \"https://ieeexplore-ieee-org.ez294.periodicos.capes.gov.br\") if url else \"\"\n",
        "\n",
        "  staticmethod\n",
        "  def gera_url(campos: list = [\"All Metadata\"]) -> None:\n",
        "    pass\n",
        "\n",
        "\n",
        "  staticmethod\n",
        "  def cria_string(termos: list) -> tuple:\n",
        "    return None"
      ],
      "metadata": {
        "id": "Ktm6SmOzSDGs"
      },
      "execution_count": null,
      "outputs": []
    },
    {
      "cell_type": "markdown",
      "source": [
        "## Montando URLs e Strings de Busca"
      ],
      "metadata": {
        "id": "IAUkUf38DvY8"
      }
    },
    {
      "cell_type": "markdown",
      "source": [
        "**Exemplos Entrada**:\n",
        "```\n",
        "[\n",
        "      [\"Fight\", \"Violence\"],\n",
        "      [\"Detection\", \"Recognition\"],\n",
        "],\n",
        "    [\"Video Surveillance\"],\n",
        "    [\"Machine Learning\", \"Deep Learning\", \"Reinforcement Learning\", \"Neural Network\"],\n",
        "],\n",
        "```\n",
        "\n",
        "**String formada:**\n",
        "\n",
        "*(((Fight OR Violence) AND (Detection OR Recognition)) AND \"Video Surveillance\" AND (\"Machine Learning\" OR \"Deep Learning\" OR \"Reinforcement Learning\" OR \"Neural Network\"))*\n",
        "\n",
        "**Exemplos Saída**:\n",
        "\n",
        "URLs:\n",
        " - [Science Direct](https://www-sciencedirect.ez294.periodicos.capes.gov.br/search?qs=%28%28%28Fight%20OR%20Violence%29%20AND%20%28Detection%20OR%20Recognition%29%29%20AND%20%22Video%20Surveillance%22%20AND%20%28%22Machine%20Learning%22%20OR%20%22Deep%20Learning%22%20OR%20%22Reinforcement%20Learning%22%20OR%20%22Neural%20Network%22%29%29)\n",
        "\n",
        " - [IEEE](https://ieeexplore-ieee-org.ez294.periodicos.capes.gov.br/search/searchresult.jsp?action=search&matchBoolean=true&newsearch=true&queryText=(((%22All%20Metadata%22:%20Fight%20OR%20%22All%20Metadata%22:%20Violence)%20AND%20(%22All%20Metadata%22:%20Detection%20OR%20%22All%20Metadata%22:%20Recognition))%20AND%20%22All%20Metadata%22:%20%22Video%20Surveillance%22%20AND%20(%22All%20Metadata%22:%20%22Machine%20Learning%22%20OR%20%22All%20Metadata%22:%20%22Deep%20Learning%22%20OR%20%22All%20Metadata%22:%20%22Reinforcement%20Learning%22%20OR%20%22All%20Metadata%22:%20%22Neural%20Network%22)))\n",
        "\n"
      ],
      "metadata": {
        "id": "AaC7mo7umuA8"
      }
    },
    {
      "cell_type": "markdown",
      "source": [
        "### Termos de Busca"
      ],
      "metadata": {
        "id": "eUP1Mjd_9V0U"
      }
    },
    {
      "cell_type": "code",
      "source": [
        "termos = [\n",
        "  [\n",
        "    [\n",
        "      [\"Fight\", \"Violence\"],\n",
        "      [\"Detection\", \"Recognition\"],\n",
        "    ],\n",
        "    [\"Video Surveillance\"],\n",
        "    [\"Machine Learning\", \"Deep Learning\", \"Reinforcement Learning\", \"Neural Network\"],\n",
        "  ],\n",
        "]"
      ],
      "metadata": {
        "id": "CI9jaBZt8xms"
      },
      "execution_count": null,
      "outputs": []
    },
    {
      "cell_type": "markdown",
      "source": [
        "### Montando URLs"
      ],
      "metadata": {
        "id": "OvxkL75m9Kpt"
      }
    },
    {
      "cell_type": "code",
      "source": [
        "root_path = \"/content/drive/MyDrive/Research/Curso/\"\n",
        "item = {\"database\": \"\", \"url\": \"\", \"string_generica\": \"\", \"string_especifica\": \"\"}\n",
        "\n",
        "url_dataset = pd.DataFrame(columns=item.keys())"
      ],
      "metadata": {
        "id": "1FX_mrRKD120"
      },
      "execution_count": null,
      "outputs": []
    },
    {
      "cell_type": "markdown",
      "source": [
        "## Construindo Dataset de artigos"
      ],
      "metadata": {
        "id": "TqbpoMmcK6xH"
      }
    },
    {
      "cell_type": "markdown",
      "source": [
        "**Entrada:**\n",
        "\n",
        "Localização de arquivos .bib baixados;\n",
        "\n",
        "**Saída:**\n",
        "\n",
        "Arquivo csv contendo os metadados dos estudos;\n",
        "\n",
        "Ex. de colunas:\n",
        "- doi;\n",
        "- url;\n",
        "- titulo;\n",
        "- resumo;\n",
        "- palavras-chave;\n",
        "- editora."
      ],
      "metadata": {
        "id": "r1JO8dgkoGbB"
      }
    },
    {
      "cell_type": "code",
      "source": [],
      "metadata": {
        "id": "LM3m1rNSK4zL"
      },
      "execution_count": null,
      "outputs": []
    },
    {
      "cell_type": "markdown",
      "source": [
        "## Filtrar conjunto de dados\n"
      ],
      "metadata": {
        "id": "X-YHhAsXRQDf"
      }
    },
    {
      "cell_type": "markdown",
      "source": [
        "Limpeza e filtragem de dados;\n",
        "\n",
        "Pode conter:\n",
        "\n",
        " - Remoção de estudos duplicados;\n",
        " - Remoção de estudos não escritos em inglês;\n",
        " - Remoção de tipos específicos de artigos;\n",
        " - Normalização das informações;\n",
        " - Etc."
      ],
      "metadata": {
        "id": "1p_ei4TLopAw"
      }
    },
    {
      "cell_type": "code",
      "source": [],
      "metadata": {
        "id": "vJOUmtwDRZY-"
      },
      "execution_count": null,
      "outputs": []
    },
    {
      "cell_type": "markdown",
      "source": [
        "# Exportando Dataset"
      ],
      "metadata": {
        "id": "kC-7HKwj1h4A"
      }
    },
    {
      "cell_type": "markdown",
      "source": [
        "## Dataset com *strings* de busca"
      ],
      "metadata": {
        "id": "rb1p4MNSAAtT"
      }
    },
    {
      "cell_type": "code",
      "source": [],
      "metadata": {
        "id": "vUiNOOvrBDsn"
      },
      "execution_count": null,
      "outputs": []
    },
    {
      "cell_type": "markdown",
      "source": [
        "## Dataset Completo"
      ],
      "metadata": {
        "id": "PTZ_T0AKAIjx"
      }
    },
    {
      "cell_type": "code",
      "source": [],
      "metadata": {
        "id": "xT1nkX4n29r0"
      },
      "execution_count": null,
      "outputs": []
    },
    {
      "cell_type": "markdown",
      "source": [
        "## Filtrado e ajustado para o fast²"
      ],
      "metadata": {
        "id": "I2DLWpjyAMdp"
      }
    },
    {
      "cell_type": "code",
      "source": [],
      "metadata": {
        "id": "zTjpfKvv93vb"
      },
      "execution_count": null,
      "outputs": []
    }
  ]
}