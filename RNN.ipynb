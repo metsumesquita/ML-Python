{
  "nbformat": 4,
  "nbformat_minor": 0,
  "metadata": {
    "colab": {
      "provenance": [],
      "include_colab_link": true
    },
    "kernelspec": {
      "name": "python3",
      "display_name": "Python 3"
    },
    "language_info": {
      "name": "python"
    }
  },
  "cells": [
    {
      "cell_type": "markdown",
      "metadata": {
        "id": "view-in-github",
        "colab_type": "text"
      },
      "source": [
        "<a href=\"https://colab.research.google.com/github/metsumesquita/ML-Python/blob/main/RNN.ipynb\" target=\"_parent\"><img src=\"https://colab.research.google.com/assets/colab-badge.svg\" alt=\"Open In Colab\"/></a>"
      ]
    },
    {
      "cell_type": "code",
      "execution_count": null,
      "metadata": {
        "id": "hTLB7oSbeO8F"
      },
      "outputs": [],
      "source": [
        "#https://www.datacamp.com/tutorial/lstm-python-stock-market"
      ]
    },
    {
      "cell_type": "code",
      "source": [
        "import numpy as np\n",
        "input_data = np.array ([2, 3])\n",
        "weights = {'node_0': np.array ([4, 2]),#input de cima\n",
        "           'node_1': np.array ([4, -5]),#input de baixo\n",
        "           'output': np.array ([2,7])}#out put\n",
        "node_0_value = (input_data * weights['node_0']) . sum ()\n",
        "print(node_0_value)\n",
        "node_1_value = (input_data * weights ['node_1']). sum()\n",
        "print(node_1_value)"
      ],
      "metadata": {
        "id": "UqgeWriqcdHO",
        "colab": {
          "base_uri": "https://localhost:8080/"
        },
        "outputId": "c3818933-30e9-4eb5-8fe0-b7715be92914"
      },
      "execution_count": null,
      "outputs": [
        {
          "output_type": "stream",
          "name": "stdout",
          "text": [
            "14\n",
            "-7\n"
          ]
        }
      ]
    },
    {
      "cell_type": "code",
      "source": [
        "\n",
        "hidden_layer_values=np.array([node_0_value,node_1_value])\n",
        "print(hidden_layer_values)"
      ],
      "metadata": {
        "id": "7fvxI8nhdW_Q",
        "colab": {
          "base_uri": "https://localhost:8080/"
        },
        "outputId": "8bec7ce1-1302-44fb-b744-23b60b8788af"
      },
      "execution_count": null,
      "outputs": [
        {
          "output_type": "stream",
          "name": "stdout",
          "text": [
            "[14 -7]\n"
          ]
        }
      ]
    },
    {
      "cell_type": "code",
      "source": [
        "output=(hidden_layer_values* weights['output']) . sum ()\n",
        "print(output)"
      ],
      "metadata": {
        "colab": {
          "base_uri": "https://localhost:8080/"
        },
        "id": "phX7TWFkQeT-",
        "outputId": "8a06e09a-2ddf-4036-a3a0-6585d684f968"
      },
      "execution_count": null,
      "outputs": [
        {
          "output_type": "stream",
          "name": "stdout",
          "text": [
            "-21\n"
          ]
        }
      ]
    },
    {
      "cell_type": "code",
      "source": [
        "#https://youtu.be/FbxTVRfQFuI?list=PLEiEAq2VkUUIYQ-mMRAGilfOKyWKpHSip&t=1869"
      ],
      "metadata": {
        "id": "g7BvZk2XcSN2"
      },
      "execution_count": null,
      "outputs": []
    },
    {
      "cell_type": "markdown",
      "source": [
        "KAGGLE\n"
      ],
      "metadata": {
        "id": "-5W1cv2eoGMA"
      }
    },
    {
      "cell_type": "code",
      "source": [
        "import pandas as pd\n",
        "\n",
        "red_wine = pd.read_csv('../input/dl-course-data/red-wine.csv')\n",
        "red_wine.head()\n",
        "red_wine.shape # (rows, columns)"
      ],
      "metadata": {
        "id": "STr-RZ9RoF6u"
      },
      "execution_count": null,
      "outputs": []
    },
    {
      "cell_type": "code",
      "source": [
        "from tensorflow import keras\n",
        "from tensorflow.keras import layers\n",
        "\n",
        "# YOUR CODE HERE\n",
        "model = keras.Sequential([\n",
        "    layers.Dense(units=1, input_shape=[11])])\n",
        "\n",
        "# Check your answer\n",
        "q_2.check()"
      ],
      "metadata": {
        "id": "qrMmDhvLoNfF"
      },
      "execution_count": null,
      "outputs": []
    },
    {
      "cell_type": "code",
      "source": [
        "\n",
        "w, b = model.weights\n",
        "print(\"Weights\\n{}\\n\\nBias\\n{}\".format(w, b))"
      ],
      "metadata": {
        "id": "mldCkvFrpqmD"
      },
      "execution_count": null,
      "outputs": []
    },
    {
      "cell_type": "markdown",
      "source": [
        "#SEQUENCIAL MODELS"
      ],
      "metadata": {
        "id": "N543B2VsBwDy"
      }
    },
    {
      "cell_type": "code",
      "source": [
        "from tensorflow import keras\n",
        "from tensorflow.keras import layers\n",
        "\n",
        "model = keras.Sequential([\n",
        "    # the hidden ReLU layers\n",
        "    layers.Dense(units=4, activation='relu', input_shape=[2]),\n",
        "    layers.Dense(units=3, activation='relu'),\n",
        "    # the linear output layer\n",
        "    layers.Dense(units=1),\n",
        "])"
      ],
      "metadata": {
        "id": "ddzutsX6Bz4q"
      },
      "execution_count": null,
      "outputs": []
    },
    {
      "cell_type": "code",
      "source": [
        "#https://www.kaggle.com/code/thaisporciuncula/exercise-deep-neural-networks/edit"
      ],
      "metadata": {
        "id": "TJ83glH4Cdg4"
      },
      "execution_count": null,
      "outputs": []
    },
    {
      "cell_type": "markdown",
      "source": [
        "#TERSONFLOW - RNN"
      ],
      "metadata": {
        "id": "VOYfi5-g5ohE"
      }
    },
    {
      "cell_type": "code",
      "source": [],
      "metadata": {
        "id": "XDov2MBC5sGO"
      },
      "execution_count": null,
      "outputs": []
    },
    {
      "cell_type": "code",
      "source": [],
      "metadata": {
        "id": "Eo_aVtxG5r72"
      },
      "execution_count": null,
      "outputs": []
    },
    {
      "cell_type": "code",
      "source": [],
      "metadata": {
        "id": "oa5I6x6A5rzW"
      },
      "execution_count": null,
      "outputs": []
    },
    {
      "cell_type": "code",
      "source": [],
      "metadata": {
        "id": "HQ2REbwVB0RJ"
      },
      "execution_count": null,
      "outputs": []
    },
    {
      "cell_type": "markdown",
      "source": [
        "#PYTORCH - RNN"
      ],
      "metadata": {
        "id": "qKcfY9wW5rQk"
      }
    }
  ]
}